{
 "cells": [
  {
   "cell_type": "code",
   "execution_count": 24,
   "metadata": {},
   "outputs": [
    {
     "name": "stdout",
     "output_type": "stream",
     "text": [
      "id=0 payload={'link': 'https://www.ros.org/', 'type': 'Document', 'chunk': 0, 'text': ['ROS: Home Why ROS? Getting Started Community Ecosystem ROS - Robot Operating System The Robot Operating System (ROS) is a set of software libraries and tools that help you build robot applications. From drivers to state-of-the-art algorithms, and with powerful developer tools, ROS has what you need for your next robotics project. And it\\'s all open source. What is ROS? ROS Videos \" Install Jazzy Jalisco Jazzy Jalisco is our latest ROS 2 LTS release targeted at the Ubuntu 24.04 (Noble) and']} vector=None shard_key=None order_value=None\n",
      "id=1 payload={'link': 'https://www.ros.org/', 'type': 'Document', 'chunk': 1, 'text': ['24.04 (Noble) and Windows 10, though other systems are supported to varying degrees. Learn More Humble Hawksbill ROS 2 Humble Hawksbill is a slighly older LTS release of ROS 2 targeted at Ubuntu 22.04 (Jammy) and Windows 10. Other systems are supported including tier 3 support for 20.04 for those transitioning from ROS 1. Learn More Support There are several mechanisms in place to support the ROS community, each with its own purpose. Documentation Documentation and tutorials for ROS 2 Stack']} vector=None shard_key=None order_value=None\n",
      "id=2 payload={'link': 'https://www.ros.org/', 'type': 'Document', 'chunk': 2, 'text': ['for ROS 2 Stack Exchange Ask questions. Get answers. Forums Hear the latest discussions ROS 1 Wiki Legacy documentation and tutorials for ROS 1 Documentation Documentation and tutorials for ROS 2 Robotics Stack Exchange Ask questions.Get answers.All ROS versions Forums Hear the latest discussions ROS 1 Wiki Legacy documentation and tutorials for ROS 1 Recent Updates and Highlights ROSCon 2024 Videos are Now Available See the ROSCon 2024 website for details 11/18/2024 - Katherine Scott The']} vector=None shard_key=None order_value=None\n",
      "id=3 payload={'link': 'https://www.ros.org/', 'type': 'Document', 'chunk': 3, 'text': ['Katherine Scott The videos from ROSCon 2024 in Odense are now available on the ROSCon Website (see the program), this Vimeo showcase, and in the ROS documentation. The ROSCon website also includes the slides from all the talks at ROSCon. I have also included a list of all the videos below. I want to thank AMD for being our 2024 ROSCon video sponsor, their generous support makes the ROSCon live stream and videos possible. READ MORE Recent ROS Discourse Posts ROS News of the Week 11/22/2024 - ROS']} vector=None shard_key=None order_value=None\n",
      "id=4 payload={'link': 'https://www.ros.org/', 'type': 'Document', 'chunk': 4, 'text': ['11/22/2024 - ROS Discourse Gazebo Classic and Citadel End of Life 12/2/2024 - ROS Discourse ROS 2 driver for Mitsubishi Melfa RV-FR 10/24/2024 ROS Discourse Home Why ROS? Getting Started Community Ecosystem Q&A Forum Packages Wiki Documentation media Q&A Forum Packages ROSCon Wiki documentation discord Brought to you by Open Robotics | licensed under Creative Commons Attributions 3.0 | 2021 Open Robotics']} vector=None shard_key=None order_value=None\n",
      "Number of document chunks:  5\n",
      "\n",
      "Sample document chunk(metadata not the vector): \n",
      "id=0 payload={'link': 'https://www.ros.org/', 'type': 'Document', 'chunk': 0, 'text': ['ROS: Home Why ROS? Getting Started Community Ecosystem ROS - Robot Operating System The Robot Operating System (ROS) is a set of software libraries and tools that help you build robot applications. From drivers to state-of-the-art algorithms, and with powerful developer tools, ROS has what you need for your next robotics project. And it\\'s all open source. What is ROS? ROS Videos \" Install Jazzy Jalisco Jazzy Jalisco is our latest ROS 2 LTS release targeted at the Ubuntu 24.04 (Noble) and']} vector=None shard_key=None order_value=None \n",
      "\n",
      "id=5 payload={'link': 'https://github.com/ros2/ros2/tree/rolling/README.md', 'type': 'Github', 'chunk': 0, 'text': [\"#AboutTheRobotOperatingSystem(ROS)isasetofsoftwarelibrariesandtoolsthathelpyoubuildrobotapplications.Fromdriverstostate-of-the-artalgorithms,andwithpowerfuldevelopertools,ROShaswhatyouneedforyournextroboticsproject.Andit'sallopensource.Fullprojectdetailson[ROS.org](https://ros.org/)#GettingStartedLookingtogetstartedwithROS?Our[installationguideishere](https://www.ros.org/blog/getting-started/).Onceyou'veinstalledROSstartbylearningsome[basicconcepts](https://docs.ros.org/en/rolling/Concepts/Basic\"]} vector=None shard_key=None order_value=None\n",
      "id=6 payload={'link': 'https://github.com/ros2/ros2/tree/rolling/README.md', 'type': 'Github', 'chunk': 1, 'text': ['lling/Concepts/Basic.html)andtakealookatour[beginnertutorials](https://docs.ros.org/en/rolling/Tutorials/Beginner-CLI-Tools.html).#JointheROSCommunity##CommunityResources*[ROSDiscussionForum](https://discourse.ros.org/)*[ROSDiscordServer](https://discord.com/servers/open-robotics-1077825543698927656)*[RoboticsStackExchange](https://robotics.stackexchange.com/)(preferredROSsupportforum).*[OfficialROSVideos](https://vimeo.com/osrfoundation)*[ROSCon](https://roscon.ros.org),ouryearlydeveloperconfer']} vector=None shard_key=None order_value=None\n",
      "id=7 payload={'link': 'https://github.com/ros2/ros2/tree/rolling/README.md', 'type': 'Github', 'chunk': 2, 'text': ['earlydeveloperconference.*CiteROS2inacademicworkusing[DOI:10.1126/scirobotics.abm6074](https://www.science.org/doi/10.1126/scirobotics.abm6074)##DeveloperResources*[ROS2Documentation](https://docs.ros.org/)*[ROSPackageAPIreference](https://docs.ros.org/en/rolling/p/)*[ROSPackageIndex](https://index.ros.org/)*[ROSonDockerHub](https://hub.docker.com/_/ros/)*[ROSResourceStatusPage](https://status.openrobotics.org/)*[REP-2000](https://ros.org/reps/rep-2000.html):ROS2ReleasesandTargetPlatforms##Proje']} vector=None shard_key=None order_value=None\n",
      "id=8 payload={'link': 'https://github.com/ros2/ros2/tree/rolling/README.md', 'type': 'Github', 'chunk': 3, 'text': ['rgetPlatforms##ProjectResources*[PurchaseROSSwag](https://spring.ros.org/)*[InformationabouttheROSTrademark](https://www.ros.org/blog/media/)*OnSocialMedia*[OpenRoboticsonLinkedIn](https://www.linkedin.com/company/open-source-robotics-foundation)*[OpenRoboticsonTwitter](https://twitter.com/OpenRoboticsOrg)*[ROS.orgonTwitter](https://twitter.com/ROSOrg)ROSismadepossiblethroughthegeneroussupportofopensourcecontributorsandthenon-profit[OpenSourceRoboticsFoundation(OSRF)](https://www.openrobotics.or']} vector=None shard_key=None order_value=None\n",
      "id=9 payload={'link': 'https://github.com/ros2/ros2/tree/rolling/README.md', 'type': 'Github', 'chunk': 4, 'text': ['/www.openrobotics.org/).TaxdeductibledonationstotheOSRFcanbe[madehere.](https://donorbox.org/support-open-robotics?utm_medium=qrcode&utm_source=qrcode)']} vector=None shard_key=None order_value=None\n",
      "id=10 payload={'link': 'https://github.com/ros2/ros2/tree/rolling/.gitignore', 'type': 'Github', 'chunk': 0, 'text': ['#Ignoredefaultnamesforcolconcreatedfoldersbuildinstalllog#Ignoreeverythinginsrcexcepta.gitkeepfilesrc/*!src/.gitkeep']} vector=None shard_key=None order_value=None\n",
      "id=11 payload={'link': 'https://github.com/ros2/ros2/tree/rolling/CODEOWNERS', 'type': 'Github', 'chunk': 0, 'text': ['#Thisfilewasgeneratedbyhttps://github.com/audrow/update-ros2-repos*@clalancette@codebot']} vector=None shard_key=None order_value=None\n",
      "id=12 payload={'link': 'https://github.com/ros2/ros2/tree/rolling/ros2.repos', 'type': 'Github', 'chunk': 0, 'text': ['repositories:ament/ament_cmake:type:giturl:https://github.com/ament/ament_cmake.gitversion:rollingament/ament_index:type:giturl:https://github.com/ament/ament_index.gitversion:rollingament/ament_lint:type:giturl:https://github.com/ament/ament_lint.gitversion:rollingament/ament_package:type:giturl:https://github.com/ament/ament_package.gitversion:rollingament/google_benchmark_vendor:type:giturl:https://github.com/ament/google_benchmark_vendor.gitversion:rollingament/googletest:type:giturl:https:/']} vector=None shard_key=None order_value=None\n",
      "id=13 payload={'link': 'https://github.com/ros2/ros2/tree/rolling/ros2.repos', 'type': 'Github', 'chunk': 1, 'text': [':type:giturl:https://github.com/ament/googletest.gitversion:rollingament/uncrustify_vendor:type:giturl:https://github.com/ament/uncrustify_vendor.gitversion:rollingeProsima/Fast-CDR:type:giturl:https://github.com/eProsima/Fast-CDR.gitversion:2.2.xeProsima/Fast-DDS:type:giturl:https://github.com/eProsima/Fast-DDS.gitversion:2.14.xeProsima/foonathan_memory_vendor:type:giturl:https://github.com/eProsima/foonathan_memory_vendor.gitversion:mastereclipse-cyclonedds/cyclonedds:type:giturl:https://githu']} vector=None shard_key=None order_value=None\n",
      "id=14 payload={'link': 'https://github.com/ros2/ros2/tree/rolling/ros2.repos', 'type': 'Github', 'chunk': 2, 'text': ['giturl:https://github.com/eclipse-cyclonedds/cyclonedds.gitversion:releases/0.10.xeclipse-iceoryx/iceoryx:type:giturl:https://github.com/eclipse-iceoryx/iceoryx.gitversion:release_2.0gazebo-release/gz_cmake_vendor:type:giturl:https://github.com/gazebo-release/gz_cmake_vendor.gitversion:rollinggazebo-release/gz_math_vendor:type:giturl:https://github.com/gazebo-release/gz_math_vendor.gitversion:rollinggazebo-release/gz_utils_vendor:type:giturl:https://github.com/gazebo-release/gz_utils_vendor.gitv']} vector=None shard_key=None order_value=None\n",
      "\n",
      "Number of Github chunks:  10\n",
      "\n",
      "Sample Github chunk(metadata not the vector): \n",
      "id=5 payload={'link': 'https://github.com/ros2/ros2/tree/rolling/README.md', 'type': 'Github', 'chunk': 0, 'text': [\"#AboutTheRobotOperatingSystem(ROS)isasetofsoftwarelibrariesandtoolsthathelpyoubuildrobotapplications.Fromdriverstostate-of-the-artalgorithms,andwithpowerfuldevelopertools,ROShaswhatyouneedforyournextroboticsproject.Andit'sallopensource.Fullprojectdetailson[ROS.org](https://ros.org/)#GettingStartedLookingtogetstartedwithROS?Our[installationguideishere](https://www.ros.org/blog/getting-started/).Onceyou'veinstalledROSstartbylearningsome[basicconcepts](https://docs.ros.org/en/rolling/Concepts/Basic\"]} vector=None shard_key=None order_value=None \n",
      "\n",
      "\n",
      "Sample search result(n=2): \n",
      "id=3 version=3 score=0.27665198 payload={'link': 'https://www.ros.org/', 'type': 'Document', 'chunk': 3, 'text': ['Katherine Scott The videos from ROSCon 2024 in Odense are now available on the ROSCon Website (see the program), this Vimeo showcase, and in the ROS documentation. The ROSCon website also includes the slides from all the talks at ROSCon. I have also included a list of all the videos below. I want to thank AMD for being our 2024 ROSCon video sponsor, their generous support makes the ROSCon live stream and videos possible. READ MORE Recent ROS Discourse Posts ROS News of the Week 11/22/2024 - ROS']} vector=None shard_key=None order_value=None\n",
      "id=1 version=1 score=0.26147294 payload={'link': 'https://www.ros.org/', 'type': 'Document', 'chunk': 1, 'text': ['24.04 (Noble) and Windows 10, though other systems are supported to varying degrees. Learn More Humble Hawksbill ROS 2 Humble Hawksbill is a slighly older LTS release of ROS 2 targeted at Ubuntu 22.04 (Jammy) and Windows 10. Other systems are supported including tier 3 support for 20.04 for those transitioning from ROS 1. Learn More Support There are several mechanisms in place to support the ROS community, each with its own purpose. Documentation Documentation and tutorials for ROS 2 Stack']} vector=None shard_key=None order_value=None\n"
     ]
    }
   ],
   "source": [
    "from shared import getQdrantClient, getEmbeddingsModel\n",
    "qClient = getQdrantClient()\n",
    "\n",
    "# Show everything in the Document collection\n",
    "numDocumentChunks = 0\n",
    "# Note with_vectors defaults to false, so the vectors are not returned\n",
    "chunks = qClient.scroll(collection_name='Document')\n",
    "#print(chunks)\n",
    "for chunk in chunks[0]:\n",
    "    # Only display chunks if vector database is small\n",
    "    print(chunk)\n",
    "    if numDocumentChunks == 0:\n",
    "        sampleDocumentChunk = chunk\n",
    "    numDocumentChunks += 1\n",
    "print(\"Number of document chunks: \", numDocumentChunks)\n",
    "if numDocumentChunks > 0:\n",
    "    print(\"\\nSample document chunk(metadata not the vector): \")\n",
    "    print(sampleDocumentChunk, '\\n')\n",
    "\n",
    "# Show everything in the Github collection\n",
    "numGithubChunks = 0\n",
    "chunks = qClient.scroll(collection_name='Github')\n",
    "#print(chunks)\n",
    "for chunk in chunks[0]:\n",
    "    # Only display chunks if vector database is small\n",
    "    print(chunk)\n",
    "    if numGithubChunks == 0:\n",
    "        sampleGithubChunk = chunk\n",
    "    numGithubChunks += 1\n",
    "print(\"\\nNumber of Github chunks: \", numGithubChunks)\n",
    "if numGithubChunks > 0:\n",
    "    print(\"\\nSample Github chunk(metadata not the vector): \")\n",
    "    print(sampleGithubChunk, '\\n')\n",
    "\n",
    "# Show a sample search\n",
    "embeddingsModel = getEmbeddingsModel()\n",
    "results = qClient.search(\n",
    "    collection_name=\"Document\",\n",
    "    query_vector = embeddingsModel.embed_query(\"What operating system is ROS made for?\"),\n",
    "    limit=2\n",
    ")\n",
    "print(\"\\nSample search result(n=2): \")\n",
    "for result in results:\n",
    "    print(result)"
   ]
  },
  {
   "cell_type": "code",
   "execution_count": 12,
   "metadata": {},
   "outputs": [
    {
     "name": "stdout",
     "output_type": "stream",
     "text": [
      "Cosine Similarity for related sentences: 0.7035977848391597\n",
      "Cosine Similarity for unrelated sentences: 0.3566534327076298\n"
     ]
    }
   ],
   "source": [
    "import numpy as np\n",
    "# How cosine distance works\n",
    "\n",
    "embedding1 = embeddingsModel.embed_query(\"What is the weather like?\")\n",
    "embedding2 = embeddingsModel.embed_query(\"It is raining today.\")\n",
    "embedding3 = embeddingsModel.embed_query(\"ROS is an open source platform\")\n",
    "def cosine_similarity(vec1, vec2):\n",
    "    dot_product = np.dot(vec1, vec2)\n",
    "    norm_vec1 = np.linalg.norm(vec1)\n",
    "    norm_vec2 = np.linalg.norm(vec2)\n",
    "    return dot_product / (norm_vec1 * norm_vec2)\n",
    "similarity1 = cosine_similarity(embedding1, embedding2)\n",
    "similarity2 = cosine_similarity(embedding1, embedding3)\n",
    "print(\"Cosine Similarity for related sentences:\", similarity1)\n",
    "print(\"Cosine Similarity for unrelated sentences:\", similarity2)"
   ]
  },
  {
   "cell_type": "code",
   "execution_count": 20,
   "metadata": {},
   "outputs": [
    {
     "data": {
      "text/plain": [
       "True"
      ]
     },
     "execution_count": 20,
     "metadata": {},
     "output_type": "execute_result"
    }
   ],
   "source": [
    "from qdrant_client.http.models import Distance, VectorParams\n",
    "# Delete all collections and vectors inside them\n",
    "qClient.delete_collection(collection_name = \"Document\")\n",
    "qClient.delete_collection(collection_name = \"Github\")\n",
    "# Recreate the empty collections\n",
    "qClient.create_collection(\n",
    "    collection_name = \"Document\",\n",
    "    vectors_config=VectorParams(size=3072, distance=Distance.COSINE)\n",
    ")\n",
    "qClient.create_collection(\n",
    "    collection_name = \"Github\",\n",
    "    vectors_config=VectorParams(size=3072, distance=Distance.COSINE)\n",
    ")"
   ]
  }
 ],
 "metadata": {
  "kernelspec": {
   "display_name": ".venv",
   "language": "python",
   "name": "python3"
  },
  "language_info": {
   "codemirror_mode": {
    "name": "ipython",
    "version": 3
   },
   "file_extension": ".py",
   "mimetype": "text/x-python",
   "name": "python",
   "nbconvert_exporter": "python",
   "pygments_lexer": "ipython3",
   "version": "3.11.9"
  }
 },
 "nbformat": 4,
 "nbformat_minor": 2
}
