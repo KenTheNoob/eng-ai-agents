{
 "cells": [
  {
   "cell_type": "code",
   "execution_count": 7,
   "metadata": {},
   "outputs": [
    {
     "name": "stdout",
     "output_type": "stream",
     "text": [
      "Number of regular documents:  1\n",
      "Number of github documents:  5\n",
      "Links crawled:  ['https://www.ros.org/', 'https://github.com/ros2/ros2/tree/rolling/README.md', 'https://github.com/ros2/ros2/tree/rolling/.gitignore', 'https://github.com/ros2/ros2/tree/rolling/CODEOWNERS', 'https://github.com/ros2/ros2/tree/rolling/ros2.repos', 'https://github.com/ros2/ros2/tree/rolling/src/.gitkeep']\n",
      "Sample regular document:  {'_id': ObjectId('67546ba6d039caad6021408c'), 'link': 'https://www.ros.org/', 'type': 'Document', 'content': ' ROS: Home Why ROS? Getting Started Community Ecosystem ROS - Robot Operating System The Robot Operating System (ROS) is a set of software libraries and tools that help you build robot applications. From drivers to state-of-the-art algorithms, and with powerful developer tools, ROS has what you need for your next robotics project. And it\\'s all open source. What is ROS? ROS Videos \" Install Jazzy Jalisco Jazzy Jalisco is our latest ROS 2 LTS release targeted at the Ubuntu 24.04 (Noble) and Windows 10, though other systems are supported to varying degrees. Learn More Humble Hawksbill ROS 2 Humble Hawksbill is a slighly older LTS release of ROS 2 targeted at Ubuntu 22.04 (Jammy) and Windows 10. Other systems are supported including tier 3 support for 20.04 for those transitioning from ROS 1. Learn More Support There are several mechanisms in place to support the ROS community, each with its own purpose. Documentation Documentation and tutorials for ROS 2 Stack Exchange Ask questions. Get answers. Forums Hear the latest discussions ROS 1 Wiki Legacy documentation and tutorials for ROS 1 Documentation Documentation and tutorials for ROS 2 Robotics Stack Exchange Ask questions.Get answers.All ROS versions Forums Hear the latest discussions ROS 1 Wiki Legacy documentation and tutorials for ROS 1 Recent Updates and Highlights ROSCon 2024 Videos are Now Available See the ROSCon 2024 website for details 11/18/2024 - Katherine Scott The videos from ROSCon 2024 in Odense are now available on the ROSCon Website (see the program), this Vimeo showcase, and in the ROS documentation. The ROSCon website also includes the slides from all the talks at ROSCon. I have also included a list of all the videos below. I want to thank AMD for being our 2024 ROSCon video sponsor, their generous support makes the ROSCon live stream and videos possible. READ MORE Recent ROS Discourse Posts ROS News of the Week 11/22/2024 - ROS Discourse Gazebo Classic and Citadel End of Life 12/2/2024 - ROS Discourse ROS 2 driver for Mitsubishi Melfa RV-FR 10/24/2024 ROS Discourse Home Why ROS? Getting Started Community Ecosystem Q&A Forum Packages Wiki Documentation media Q&A Forum Packages ROSCon Wiki documentation discord Brought to you by Open Robotics | licensed under Creative Commons Attributions 3.0 | ©2021 Open Robotics '}\n",
      "Sample github document {'_id': ObjectId('67546ba6d039caad6021408d'), 'link': 'https://github.com/ros2/ros2/tree/rolling/README.md', 'type': 'Github', 'content': \"#About TheRobotOperatingSystem(ROS)isasetofsoftwarelibrariesandtoolsthathelpyoubuildrobotapplications. Fromdriverstostate-of-the-artalgorithms,andwithpowerfuldevelopertools,ROShaswhatyouneedforyournextroboticsproject. Andit'sallopensource. Fullprojectdetailson[ROS.org](https://ros.org/) #GettingStarted LookingtogetstartedwithROS? Our[installationguideishere](https://www.ros.org/blog/getting-started/). Onceyou'veinstalledROSstartbylearningsome[basicconcepts](https://docs.ros.org/en/rolling/Concepts/Basic.html)andtakealookatour[beginnertutorials](https://docs.ros.org/en/rolling/Tutorials/Beginner-CLI-Tools.html). #JointheROSCommunity ##CommunityResources *[ROSDiscussionForum](https://discourse.ros.org/) *[ROSDiscordServer](https://discord.com/servers/open-robotics-1077825543698927656) *[RoboticsStackExchange](https://robotics.stackexchange.com/)(preferredROSsupportforum). *[OfficialROSVideos](https://vimeo.com/osrfoundation) *[ROSCon](https://roscon.ros.org),ouryearlydeveloperconference. *CiteROS2inacademicworkusing[DOI:10.1126/scirobotics.abm6074](https://www.science.org/doi/10.1126/scirobotics.abm6074) ##DeveloperResources *[ROS2Documentation](https://docs.ros.org/) *[ROSPackageAPIreference](https://docs.ros.org/en/rolling/p/) *[ROSPackageIndex](https://index.ros.org/) *[ROSonDockerHub](https://hub.docker.com/_/ros/) *[ROSResourceStatusPage](https://status.openrobotics.org/) *[REP-2000](https://ros.org/reps/rep-2000.html):ROS2ReleasesandTargetPlatforms ##ProjectResources *[PurchaseROSSwag](https://spring.ros.org/) *[InformationabouttheROSTrademark](https://www.ros.org/blog/media/) *OnSocialMedia *[OpenRoboticsonLinkedIn](https://www.linkedin.com/company/open-source-robotics-foundation) *[OpenRoboticsonTwitter](https://twitter.com/OpenRoboticsOrg) *[ROS.orgonTwitter](https://twitter.com/ROSOrg) ROSismadepossiblethroughthegeneroussupportofopensourcecontributorsandthenon-profit[OpenSourceRoboticsFoundation(OSRF)](https://www.openrobotics.org/). TaxdeductibledonationstotheOSRFcanbe[madehere.](https://donorbox.org/support-open-robotics?utm_medium=qrcode&utm_source=qrcode) \"}\n"
     ]
    }
   ],
   "source": [
    "# Shows the state of the mongo database\n",
    "from shared import getMongoClient\n",
    "mongoHost = getMongoClient()\n",
    "mongoDatabase = mongoHost[\"twin\"]\n",
    "mongoDocumentCollection = mongoDatabase[\"Document\"]\n",
    "mongoGithubCollection = mongoDatabase[\"Github\"]\n",
    "documents = mongoDocumentCollection.find()\n",
    "codes = mongoGithubCollection.find()\n",
    "numDocuments = 0\n",
    "numCodes = 0\n",
    "links = []\n",
    "for document in documents:\n",
    "    links.append(document[\"link\"])\n",
    "    if numDocuments == 0:\n",
    "        sampleDocument = document\n",
    "    numDocuments += 1\n",
    "for code in codes:\n",
    "    links.append(code[\"link\"])\n",
    "    if numCodes == 0:\n",
    "        sampleCode = code\n",
    "    numCodes += 1\n",
    "print(\"Number of regular documents: \", numDocuments)\n",
    "print(\"Number of github documents: \", numCodes)\n",
    "print(\"Links crawled: \", links)\n",
    "if (numDocuments > 0):\n",
    "    print(\"Sample regular document: \", sampleDocument)\n",
    "else:\n",
    "    print(\"No documents\")\n",
    "if (numCodes > 0):\n",
    "    print(\"Sample github document\", sampleCode)\n",
    "else:\n",
    "    print(\"No github documents\")"
   ]
  },
  {
   "cell_type": "code",
   "execution_count": 6,
   "metadata": {},
   "outputs": [
    {
     "data": {
      "text/plain": [
       "DeleteResult({'n': 18, 'electionId': ObjectId('7fffffff000000000000016a'), 'opTime': {'ts': Timestamp(1733585625, 33), 't': 362}, 'ok': 1.0, '$clusterTime': {'clusterTime': Timestamp(1733585625, 33), 'signature': {'hash': b'\\xd0\\xa2\\xaf\\x1c?p\\xc5\\xd7\\x9a\\x1e\\x1f\\x15\\x1ews\\xdc\\xab)\\xf2B', 'keyId': 7395232362797203469}}, 'operationTime': Timestamp(1733585625, 33)}, acknowledged=True)"
      ]
     },
     "execution_count": 6,
     "metadata": {},
     "output_type": "execute_result"
    }
   ],
   "source": [
    "# Delete all files\n",
    "mongoDocumentCollection.delete_many({})\n",
    "mongoGithubCollection.delete_many({})"
   ]
  }
 ],
 "metadata": {
  "kernelspec": {
   "display_name": ".venv",
   "language": "python",
   "name": "python3"
  },
  "language_info": {
   "codemirror_mode": {
    "name": "ipython",
    "version": 3
   },
   "file_extension": ".py",
   "mimetype": "text/x-python",
   "name": "python",
   "nbconvert_exporter": "python",
   "pygments_lexer": "ipython3",
   "version": "3.11.9"
  }
 },
 "nbformat": 4,
 "nbformat_minor": 2
}
