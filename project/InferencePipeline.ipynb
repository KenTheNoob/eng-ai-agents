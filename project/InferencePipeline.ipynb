{
 "cells": [
  {
   "cell_type": "code",
   "execution_count": 1,
   "metadata": {},
   "outputs": [
    {
     "name": "stderr",
     "output_type": "stream",
     "text": [
      "/workspaces/eng-ai-agents/project/shared.py:51: LangChainDeprecationWarning: The class `OllamaEmbeddings` was deprecated in LangChain 0.3.1 and will be removed in 1.0.0. An updated version of the class exists in the :class:`~langchain-ollama package and should be used instead. To use it run `pip install -U :class:`~langchain-ollama` and import as `from :class:`~langchain_ollama import OllamaEmbeddings``.\n",
      "  return OllamaEmbeddings(model=MODEL)\n",
      "/tmp/ipykernel_6777/1949538342.py:15: LangChainDeprecationWarning: The class `Ollama` was deprecated in LangChain 0.3.1 and will be removed in 1.0.0. An updated version of the class exists in the :class:`~langchain-ollama package and should be used instead. To use it run `pip install -U :class:`~langchain-ollama` and import as `from :class:`~langchain_ollama import OllamaLLM``.\n",
      "  model = Ollama(model=MODEL)\n"
     ]
    }
   ],
   "source": [
    "# See README for more info on how the DataCollectionPipeline works\n",
    "# The retrieval pipeline is part of the DataCollectionPipeline\n",
    "from shared import getQdrantClient, getEmbeddingsModel\n",
    "from langchain_community.llms import Ollama\n",
    "from langchain.prompts import PromptTemplate\n",
    "from operator import itemgetter\n",
    "# Create a qdrant connection\n",
    "qClient = getQdrantClient()\n",
    "\n",
    "# Setup the text embedder\n",
    "embeddingsModel = getEmbeddingsModel()\n",
    "\n",
    "# Setup the model\n",
    "MODEL = 'llama3.2'\n",
    "model = Ollama(model=MODEL)\n",
    "\n",
    "# Retrieval Pipeline\n",
    "# Retrieve the chunks with the most similar embeddings from Qdrant\n",
    "def retriever(text, collection):\n",
    "    results = qClient.search(\n",
    "        collection_name=collection,\n",
    "        query_vector = embeddingsModel.embed_query(text),\n",
    "        limit=10\n",
    "    )\n",
    "    return results"
   ]
  },
  {
   "cell_type": "code",
   "execution_count": 21,
   "metadata": {},
   "outputs": [
    {
     "name": "stdout",
     "output_type": "stream",
     "text": [
      "Query expansion:  Create a comprehensive and user-friendly README document for the Robot Operating System (ROS), focusing on its features, benefits, and guidelines for adoption in various industries and applications.\n",
      "Coding Question?:  1\n",
      "Related Collection:  Github\n",
      "Top texts:  nyxml2_vendor.gitversion:rollingros2/tlsf:type:giturl:https://github.com/ros2/tlsf.gitversion:rollingros2/unique_identifier_msgs:type:giturl:https://github.com/ros2/unique_identifier_msgs.gitversion:rollingros2/urdf:type:giturl:https://github.com/ros2/urdf.gitversion:rollingros2/yaml_cpp_vendor:type:giturl:https://github.com/ros2/yaml_cpp_vendor.gitversion:rolling\n",
      "Link:  https://github.com/ros2/ros2/tree/rolling/ros2.repos\n",
      "Top texts:  s2/rosidl_core:type:giturl:https://github.com/ros2/rosidl_core.gitversion:rollingros2/rosidl_dds:type:giturl:https://github.com/ros2/rosidl_dds.gitversion:rollingros2/rosidl_defaults:type:giturl:https://github.com/ros2/rosidl_defaults.gitversion:rollingros2/rosidl_dynamic_typesupport:type:giturl:https://github.com/ros2/rosidl_dynamic_typesupport.gitversion:rollingros2/rosidl_dynamic_typesupport_fastrtps:type:giturl:https://github.com/ros2/rosidl_dynamic_typesupport_fastrtps.gitversion:rollingros\n",
      "Link:  https://github.com/ros2/ros2/tree/rolling/ros2.repos\n",
      "Top texts:  cl_logging.gitversion:rollingros2/rclcpp:type:giturl:https://github.com/ros2/rclcpp.gitversion:rollingros2/rclpy:type:giturl:https://github.com/ros2/rclpy.gitversion:rollingros2/rcpputils:type:giturl:https://github.com/ros2/rcpputils.gitversion:rollingros2/rcutils:type:giturl:https://github.com/ros2/rcutils.gitversion:rollingros2/realtime_support:type:giturl:https://github.com/ros2/realtime_support.gitversion:rollingros2/rmw:type:giturl:https://github.com/ros2/rmw.gitversion:rollingros2/rmw_conn\n",
      "Link:  https://github.com/ros2/ros2/tree/rolling/ros2.repos\n"
     ]
    },
    {
     "data": {
      "text/plain": [
       "'Here is a sample README file for ROS (Robot Operating System):\\n\\n---\\n\\n# Robot Operating System (ROS)\\n\\n## Introduction\\n\\nThe Robot Operating System (ROS) is an open-source software framework that allows developers to build robot applications. It provides a set of tools and libraries that make it easy to develop, test, and deploy robotic systems.\\n\\n## Features\\n\\n*   **Cross-platform**: ROS can run on multiple operating systems, including Linux, Windows, and macOS.\\n*   **Modular design**: ROS is designed as a collection of interchangeable modules, making it easy to extend or modify the system.\\n*   **Extensive community support**: The ROS community provides extensive documentation, tutorials, and forums for help with development and troubleshooting.\\n\\n## Installing ROS\\n\\nTo install ROS on your machine:\\n\\n1.  Download the installation package from the official [ROS website](https://index.ros.org/).\\n2.  Follow the instructions in the installation guide to install ROS on your system.\\n3.  Once installed, launch the ROS terminal by running `source /opt/ros/*_install/setup.bash` (or similar command for other operating systems).\\n\\n## Key Concepts\\n\\n*   **Nodes**: Independent programs that perform specific tasks and can be easily reused or combined.\\n*   **Topics**: A mechanism for nodes to communicate with each other over a network.\\n*   **Services**: A way for nodes to request and receive services from other nodes.\\n\\n## ROS Components\\n\\n*   **ROS Master**: Manages node connections and provides an interface for node communication.\\n*   **ROS Node**: Runs on the client or server machine, performs specific tasks, and can be controlled remotely through the master.\\n*   **ROS Package**: A collection of source files that define a set of classes, functions, and types.\\n\\n## ROS Tools\\n\\n*   **RQT Console**: A graphical interface for debugging and testing nodes.\\n*   **RQT Console**: Provides an interactive console for inspecting variables, examining node status, and troubleshooting issues.\\n*   **ROSBAG**: A tool for recording or replaying ROS data streams.\\n\\n---\\n\\nThis README file provides a general overview of the Robot Operating System (ROS), including its features, installation instructions, key concepts, components, and tools. Feel free to customize it according to your specific needs!'"
      ]
     },
     "execution_count": 21,
     "metadata": {},
     "output_type": "execute_result"
    }
   ],
   "source": [
    "# User query\n",
    "query = \"Can you create a README file for ROS\"\n",
    "\n",
    "# Query expansion(I only generate one additional prompt for simplicity)\n",
    "template = \"\"\"\n",
    "Rewrite the prompt. The new prompt must offer a different perspective.\n",
    "Do not change the meaning. Output only the rewritten prompt with no introduction.\n",
    "    Prompt: {prompt}\n",
    "\"\"\"\n",
    "prompt = PromptTemplate.from_template(template)\n",
    "chain = {\"prompt\": itemgetter(\"prompt\")} | prompt | model\n",
    "queryExpansion = chain.invoke({\"prompt\": query})\n",
    "print(\"Query expansion: \", queryExpansion)\n",
    "\n",
    "# Self-querying(The metadata I will be generating determines whether to look through the Qdrant collection containing github code)\n",
    "template = \"\"\"\n",
    "You are an AI assistant. You must determine if the prompt requires code as the answer.\n",
    "Output a 1 if it is or a 0 if it is not and nothing else.\n",
    "    Prompt: {prompt}\n",
    "\"\"\"\n",
    "prompt = PromptTemplate.from_template(template)\n",
    "chain = {\"prompt\": itemgetter(\"prompt\")} | prompt | model\n",
    "codingQuestion = chain.invoke({\"prompt\": query})\n",
    "print(\"Coding Question?: \", codingQuestion)\n",
    "\n",
    "# Filtered vector search for each of the N queries after expansion\n",
    "relatedCollection = 'Document'\n",
    "if (codingQuestion == '1'):\n",
    "    relatedCollection = 'Github'\n",
    "print(\"Related Collection: \", relatedCollection)\n",
    "results1 = retriever(query, relatedCollection)\n",
    "results2 = retriever(queryExpansion, relatedCollection)\n",
    "\n",
    "# Collecting results\n",
    "results = results1+results2\n",
    "\n",
    "# Reranking(Instead of using a CrossEncoder, I will manually compare embeddings)\n",
    "ids = [result.id for result in results]\n",
    "scores = [result.score for result in results]\n",
    "topIds = []\n",
    "topIndexes = []\n",
    "for x in range(3):\n",
    "    maxScore = 0\n",
    "    maxIndex = 0\n",
    "    for i in range(len(ids)):\n",
    "        if ids[i] not in topIds and scores[i] > maxScore:\n",
    "            maxScore = scores[i]\n",
    "            maxIndex = i\n",
    "    topIds.append(ids[maxIndex])\n",
    "    topIndexes.append(maxIndex)\n",
    "texts = [result.payload['text'] for result in results]\n",
    "links = [result.payload['link'] for result in results]\n",
    "topTexts = ''\n",
    "for index in topIndexes:\n",
    "    print(\"Top texts: \", texts[index][0])\n",
    "    print(\"Link: \", links[index])\n",
    "    topTexts += texts[index][0]\n",
    "\n",
    "# Building prompt\n",
    "if(codingQuestion == '1'):\n",
    "    template = \"\"\"\n",
    "    Write code for the following question given the related coding document below.\n",
    "\n",
    "    Document: {document}\n",
    "    Question: {question}\n",
    "    \"\"\"\n",
    "    prompt = PromptTemplate.from_template(template)\n",
    "else:\n",
    "    template = \"\"\"\n",
    "    Answer the question based on the document below. If you can't answer the question, reply \"I don't know\"\n",
    "\n",
    "    Document: {document}\n",
    "    Question: {question}\n",
    "    \"\"\"\n",
    "    prompt = PromptTemplate.from_template(template)\n",
    "\n",
    "# Obtaining answer\n",
    "chain = {\"document\": itemgetter(\"document\"), \"question\": itemgetter(\"question\")} | prompt | model\n",
    "chain.invoke({\"document\": topTexts, \"question\": query})"
   ]
  }
 ],
 "metadata": {
  "kernelspec": {
   "display_name": ".venv",
   "language": "python",
   "name": "python3"
  },
  "language_info": {
   "codemirror_mode": {
    "name": "ipython",
    "version": 3
   },
   "file_extension": ".py",
   "mimetype": "text/x-python",
   "name": "python",
   "nbconvert_exporter": "python",
   "pygments_lexer": "ipython3",
   "version": "3.11.9"
  }
 },
 "nbformat": 4,
 "nbformat_minor": 2
}
