{
 "cells": [
  {
   "cell_type": "code",
   "execution_count": null,
   "metadata": {},
   "outputs": [
    {
     "name": "stdout",
     "output_type": "stream",
     "text": [
      "Visiting link:  https://www.ros.org/\n",
      "Visiting link:  https://docs.nav2.org/\n",
      "Visiting link:  https://moveit.ai/\n",
      "Visiting link:  https://gazebosim.org/home\n",
      "Visiting link:  https://github.com/ros2/ros2\n"
     ]
    },
    {
     "name": "stderr",
     "output_type": "stream",
     "text": [
      "Cloning into 'ros2'...\n"
     ]
    },
    {
     "name": "stdout",
     "output_type": "stream",
     "text": [
      "Visiting link:  https://github.com/ros-navigation/navigation2\n"
     ]
    },
    {
     "name": "stderr",
     "output_type": "stream",
     "text": [
      "Cloning into 'navigation2'...\n"
     ]
    },
    {
     "name": "stdout",
     "output_type": "stream",
     "text": [
      "Visiting link:  https://github.com/moveit/moveit2\n"
     ]
    },
    {
     "name": "stderr",
     "output_type": "stream",
     "text": [
      "Cloning into 'moveit2'...\n"
     ]
    },
    {
     "name": "stdout",
     "output_type": "stream",
     "text": [
      "Visiting link:  https://github.com/gazebosim/gazebo-classic\n"
     ]
    },
    {
     "name": "stderr",
     "output_type": "stream",
     "text": [
      "Cloning into 'gazebo-classic'...\n",
      "Updating files: 100% (3714/3714), done.\n"
     ]
    },
    {
     "name": "stdout",
     "output_type": "stream",
     "text": [
      "Visiting link:  https://www.ros.org/blog/why-ros\n",
      "Visiting link:  https://www.ros.org/blog/getting-started\n",
      "Visiting link:  https://www.ros.org/blog/community\n",
      "Visiting link:  https://www.ros.org/blog/ecosystem\n",
      "Visiting link:  https://www.ros.org/blog/getting-started/\n",
      "Visiting link:  https://www.ros.org/blog/media\n",
      "Visiting link:  https://www.ros.org/blog/discord\n",
      "Visiting link:  https://docs.nav2.org/getting_started/index.html\n",
      "Visiting link:  https://docs.nav2.org/getting_started/index.html#installation\n",
      "Visiting link:  https://docs.nav2.org/getting_started/index.html#running-the-example\n",
      "Visiting link:  https://docs.nav2.org/getting_started/index.html#navigating\n",
      "Visiting link:  https://docs.nav2.org/development_guides/index.html\n",
      "Visiting link:  https://docs.nav2.org/development_guides/build_docs/index.html\n",
      "Visiting link:  https://docs.nav2.org/development_guides/build_docs/index.html#install\n",
      "Visiting link:  https://docs.nav2.org/development_guides/build_docs/index.html#for-iron-and-older\n",
      "Visiting link:  https://docs.nav2.org/development_guides/build_docs/index.html#for-jazzy-and-newer\n",
      "Visiting link:  https://docs.nav2.org/development_guides/build_docs/index.html#build\n",
      "Visiting link:  https://docs.nav2.org/development_guides/build_docs/index.html#released-distribution-binaries\n",
      "Visiting link:  https://docs.nav2.org/development_guides/build_docs/index.html#rolling-development-source\n",
      "Visiting link:  https://docs.nav2.org/development_guides/build_docs/index.html#docker-container-images\n",
      "Visiting link:  https://docs.nav2.org/development_guides/build_docs/index.html#generate-doxygen\n",
      "Visiting link:  https://docs.nav2.org/development_guides/build_docs/index.html#help\n",
      "Visiting link:  https://docs.nav2.org/development_guides/build_docs/build_troubleshooting_guide.html\n",
      "Visiting link:  https://docs.nav2.org/development_guides/devcontainer_docs/index.html\n",
      "Visiting link:  https://docs.nav2.org/development_guides/devcontainer_docs/devcontainer_guide.html\n",
      "Visiting link:  https://docs.nav2.org/development_guides/devcontainer_docs/devcontainer_guide.html#creating-dev-containers\n",
      "Visiting link:  https://docs.nav2.org/development_guides/devcontainer_docs/devcontainer_guide.html#using-dev-containers\n",
      "Visiting link:  https://docs.nav2.org/development_guides/devcontainer_docs/index.html#what-why-how\n",
      "Visiting link:  https://docs.nav2.org/development_guides/devcontainer_docs/index.html#what-is-a-dev-container\n",
      "Visiting link:  https://docs.nav2.org/development_guides/devcontainer_docs/index.html#why-use-a-dev-container\n",
      "Visiting link:  https://docs.nav2.org/development_guides/devcontainer_docs/index.html#how-do-dev-containers-work\n",
      "Visiting link:  https://docs.nav2.org/development_guides/devcontainer_docs/index.html#prerequisites\n",
      "Visiting link:  https://docs.nav2.org/development_guides/devcontainer_docs/index.html#getting-started\n",
      "Visiting link:  https://docs.nav2.org/development_guides/devcontainer_docs/index.html#security\n",
      "Visiting link:  https://docs.nav2.org/development_guides/involvement_docs/index.html\n",
      "Visiting link:  https://docs.nav2.org/development_guides/involvement_docs/index.html#id1\n",
      "Visiting link:  https://docs.nav2.org/development_guides/involvement_docs/index.html#process\n",
      "Visiting link:  https://docs.nav2.org/development_guides/involvement_docs/index.html#licensing\n",
      "Visiting link:  https://docs.nav2.org/development_guides/involvement_docs/index.html#developer-certification-of-origin-dco\n",
      "Visiting link:  https://docs.nav2.org/concepts/index.html\n",
      "Visiting link:  https://docs.nav2.org/concepts/index.html#ros-2\n",
      "Visiting link:  https://docs.nav2.org/concepts/index.html#action-server\n",
      "Visiting link:  https://docs.nav2.org/concepts/index.html#lifecycle-nodes-and-bond\n",
      "Visiting link:  https://docs.nav2.org/concepts/index.html#behavior-trees\n",
      "Visiting link:  https://docs.nav2.org/concepts/index.html#navigation-servers\n",
      "Visiting link:  https://docs.nav2.org/concepts/index.html#planner-controller-smoother-and-recovery-servers\n",
      "Visiting link:  https://docs.nav2.org/concepts/index.html#planners\n",
      "Visiting link:  https://docs.nav2.org/concepts/index.html#controllers\n",
      "Visiting link:  https://docs.nav2.org/concepts/index.html#behaviors\n",
      "Visiting link:  https://docs.nav2.org/concepts/index.html#smoothers\n",
      "Visiting link:  https://docs.nav2.org/concepts/index.html#robot-footprints\n",
      "Visiting link:  https://docs.nav2.org/concepts/index.html#waypoint-following\n",
      "Visiting link:  https://docs.nav2.org/concepts/index.html#state-estimation\n",
      "Visiting link:  https://docs.nav2.org/concepts/index.html#standards\n",
      "Visiting link:  https://docs.nav2.org/concepts/index.html#global-positioning-localization-and-slam\n",
      "Visiting link:  https://docs.nav2.org/concepts/index.html#odometry\n",
      "Visiting link:  https://docs.nav2.org/concepts/index.html#environmental-representation\n",
      "Visiting link:  https://docs.nav2.org/concepts/index.html#costmaps-and-layers\n",
      "Visiting link:  https://docs.nav2.org/concepts/index.html#costmap-filters\n",
      "Visiting link:  https://docs.nav2.org/concepts/index.html#other-forms\n",
      "Visiting link:  https://docs.nav2.org/concepts/index.html#nav2-academic-overview\n",
      "Visiting link:  https://docs.nav2.org/setup_guides/index.html\n",
      "Visiting link:  https://docs.nav2.org/setup_guides/transformation/setup_transforms.html\n",
      "Visiting link:  https://docs.nav2.org/setup_guides/transformation/setup_transforms.html#transforms-introduction\n",
      "Visiting link:  https://docs.nav2.org/setup_guides/transformation/setup_transforms.html#static-transform-publisher-demo\n",
      "Visiting link:  https://docs.nav2.org/setup_guides/transformation/setup_transforms.html#transforms-in-navigation2\n",
      "Visiting link:  https://docs.nav2.org/setup_guides/transformation/setup_transforms.html#conclusion\n",
      "Visiting link:  https://docs.nav2.org/setup_guides/urdf/setup_urdf.html\n",
      "Visiting link:  https://docs.nav2.org/setup_guides/urdf/setup_urdf.html#urdf-and-the-robot-state-publisher\n",
      "Visiting link:  https://docs.nav2.org/setup_guides/urdf/setup_urdf.html#setting-up-the-environment\n",
      "Visiting link:  https://docs.nav2.org/setup_guides/urdf/setup_urdf.html#writing-the-urdf\n",
      "Visiting link:  https://docs.nav2.org/setup_guides/urdf/setup_urdf.html#build-and-launch\n",
      "Visiting link:  https://docs.nav2.org/setup_guides/urdf/setup_urdf.html#visualization-using-rviz\n",
      "Visiting link:  https://docs.nav2.org/setup_guides/urdf/setup_urdf.html#adding-physical-properties\n",
      "Visiting link:  https://docs.nav2.org/setup_guides/urdf/setup_urdf.html#conclusion\n",
      "Visiting link:  https://docs.nav2.org/setup_guides/odom/setup_odom.html\n",
      "Visiting link:  https://docs.nav2.org/setup_guides/odom/setup_odom.html#odometry-introduction\n",
      "Visiting link:  https://docs.nav2.org/setup_guides/odom/setup_odom.html#setting-up-odometry-on-your-robot\n",
      "Visiting link:  https://docs.nav2.org/setup_guides/odom/setup_odom.html#simulating-an-odometry-system-using-gazebo\n",
      "Visiting link:  https://docs.nav2.org/setup_guides/odom/setup_odom.html#setup-and-prerequisites\n",
      "Visiting link:  https://docs.nav2.org/setup_guides/odom/setup_odom.html#adding-gazebo-plugins-to-a-urdf\n",
      "Visiting link:  https://docs.nav2.org/setup_guides/odom/setup_odom.html#launch-and-build-files\n",
      "Visiting link:  https://docs.nav2.org/setup_guides/odom/setup_odom.html#build-run-and-verification\n",
      "Visiting link:  https://docs.nav2.org/setup_guides/odom/setup_odom.html#robot-localization-demo\n",
      "Visiting link:  https://docs.nav2.org/setup_guides/odom/setup_odom.html#configuring-robot-localization\n",
      "Visiting link:  https://docs.nav2.org/setup_guides/odom/setup_odom.html#id3\n",
      "Visiting link:  https://docs.nav2.org/setup_guides/odom/setup_odom.html#id4\n",
      "Visiting link:  https://docs.nav2.org/setup_guides/odom/setup_odom.html#conclusion\n",
      "Visiting link:  https://docs.nav2.org/setup_guides/sensors/setup_sensors.html\n",
      "Visiting link:  https://docs.nav2.org/setup_guides/sensors/setup_sensors.html#sensor-introduction\n",
      "Visiting link:  https://docs.nav2.org/setup_guides/sensors/setup_sensors.html#common-sensor-messages\n",
      "Visiting link:  https://docs.nav2.org/setup_guides/sensors/setup_sensors.html#simulating-sensors-using-gazebo\n",
      "Visiting link:  https://docs.nav2.org/setup_guides/sensors/setup_sensors.html#adding-gazebo-plugins-to-a-urdf\n",
      "Visiting link:  https://docs.nav2.org/setup_guides/sensors/setup_sensors.html#launch-and-build-files\n",
      "Visiting link:  https://docs.nav2.org/setup_guides/sensors/setup_sensors.html#build-run-and-verification\n",
      "Visiting link:  https://docs.nav2.org/setup_guides/sensors/setup_sensors.html#mapping-and-localization\n",
      "Visiting link:  https://docs.nav2.org/setup_guides/sensors/setup_sensors.html#costmap-2d\n",
      "Visiting link:  https://docs.nav2.org/setup_guides/sensors/setup_sensors.html#configuring-nav2-costmap-2d\n",
      "Visiting link:  https://docs.nav2.org/setup_guides/sensors/setup_sensors.html#id2\n",
      "Visiting link:  https://docs.nav2.org/setup_guides/sensors/setup_sensors.html#conclusion\n",
      "Visiting link:  https://docs.nav2.org/setup_guides/footprint/setup_footprint.html\n",
      "Visiting link:  https://docs.nav2.org/setup_guides/footprint/setup_footprint.html#footprint-introduction\n",
      "Visiting link:  https://docs.nav2.org/setup_guides/footprint/setup_footprint.html#configuring-the-robot-s-footprint\n",
      "Visiting link:  https://docs.nav2.org/setup_guides/footprint/setup_footprint.html#build-run-and-verification\n",
      "Visiting link:  https://docs.nav2.org/setup_guides/footprint/setup_footprint.html#visualizing-footprint-in-rviz\n",
      "Visiting link:  https://docs.nav2.org/setup_guides/footprint/setup_footprint.html#conclusion\n",
      "Visiting link:  https://docs.nav2.org/setup_guides/algorithm/select_algorithm.html\n",
      "Visiting link:  https://docs.nav2.org/setup_guides/algorithm/select_algorithm.html#planner-and-controller-servers\n",
      "Visiting link:  https://docs.nav2.org/setup_guides/algorithm/select_algorithm.html#selecting-the-algorithm-plugins\n",
      "Visiting link:  https://docs.nav2.org/setup_guides/algorithm/select_algorithm.html#planner-server\n",
      "Visiting link:  https://docs.nav2.org/setup_guides/algorithm/select_algorithm.html#controller-server\n",
      "Visiting link:  https://docs.nav2.org/setup_guides/algorithm/select_algorithm.html#conclusion\n",
      "Visiting link:  https://docs.nav2.org/about/robots.html\n",
      "Visiting link:  https://docs.nav2.org/tutorials/index.html\n",
      "Visiting link:  https://docs.nav2.org/tutorials/docs/navigation2_on_real_turtlebot3.html\n",
      "Visiting link:  https://docs.nav2.org/tutorials/docs/navigation2_on_real_turtlebot3.html#overview\n",
      "Visiting link:  https://docs.nav2.org/tutorials/docs/navigation2_on_real_turtlebot3.html#requirements\n",
      "Visiting link:  https://docs.nav2.org/tutorials/docs/navigation2_on_real_turtlebot3.html#tutorial-steps\n",
      "Visiting link:  https://docs.nav2.org/tutorials/docs/navigation2_on_real_turtlebot3.html#setup-your-environment-variables\n",
      "Visiting link:  https://docs.nav2.org/tutorials/docs/navigation2_on_real_turtlebot3.html#launch-turtlebot-3\n",
      "Visiting link:  https://docs.nav2.org/tutorials/docs/navigation2_on_real_turtlebot3.html#launch-nav2\n",
      "Visiting link:  https://docs.nav2.org/tutorials/docs/navigation2_on_real_turtlebot3.html#launch-rviz\n",
      "Visiting link:  https://docs.nav2.org/tutorials/docs/navigation2_on_real_turtlebot3.html#initialize-the-location-of-turtlebot-3\n",
      "Visiting link:  https://docs.nav2.org/tutorials/docs/navigation2_on_real_turtlebot3.html#send-a-goal-pose\n",
      "Visiting link:  https://docs.nav2.org/tutorials/docs/navigation2_with_slam.html\n",
      "Visiting link:  https://docs.nav2.org/tutorials/docs/navigation2_with_slam.html#overview\n",
      "Visiting link:  https://docs.nav2.org/tutorials/docs/navigation2_with_slam.html#requirements\n",
      "Visiting link:  https://docs.nav2.org/tutorials/docs/navigation2_with_slam.html#tutorial-steps\n",
      "Visiting link:  https://docs.nav2.org/tutorials/docs/navigation2_with_slam.html#launch-robot-interfaces\n",
      "Visiting link:  https://docs.nav2.org/tutorials/docs/navigation2_with_slam.html#launch-navigation2\n",
      "Visiting link:  https://docs.nav2.org/tutorials/docs/navigation2_with_slam.html#launch-slam\n",
      "Visiting link:  https://docs.nav2.org/tutorials/docs/navigation2_with_slam.html#working-with-slam\n",
      "Visiting link:  https://docs.nav2.org/tutorials/docs/navigation2_with_slam.html#getting-started-simplification\n",
      "Visiting link:  https://docs.nav2.org/tutorials/docs/navigation2_with_stvl.html\n",
      "Visiting link:  https://docs.nav2.org/tutorials/docs/navigation2_with_stvl.html#overview\n",
      "Visiting link:  https://docs.nav2.org/tutorials/docs/navigation2_with_stvl.html#costmap2d-and-stvl\n",
      "Visiting link:  https://docs.nav2.org/tutorials/docs/navigation2_with_stvl.html#tutorial-steps\n",
      "Visiting link:  https://docs.nav2.org/tutorials/docs/navigation2_with_stvl.html#setup\n",
      "Visiting link:  https://docs.nav2.org/tutorials/docs/navigation2_with_stvl.html#install-stvl\n",
      "Visiting link:  https://docs.nav2.org/tutorials/docs/navigation2_with_stvl.html#modify-navigation2-parameter\n",
      "Visiting link:  https://docs.nav2.org/tutorials/docs/navigation2_with_stvl.html#launch-navigation2\n",
      "Visiting link:  https://docs.nav2.org/tutorials/docs/navigation2_with_stvl.html#rviz\n",
      "Visiting link:  https://docs.nav2.org/tutorials/docs/navigation2_with_gps.html\n",
      "Visiting link:  https://docs.nav2.org/tutorials/docs/navigation2_with_gps.html#overview\n",
      "Visiting link:  https://docs.nav2.org/tutorials/docs/navigation2_with_gps.html#requirements\n",
      "Visiting link:  https://docs.nav2.org/tutorials/docs/navigation2_with_gps.html#gps-localization-overview\n",
      "Visiting link:  https://docs.nav2.org/tutorials/docs/navigation2_with_gps.html#tutorial-steps\n",
      "Visiting link:  https://docs.nav2.org/tutorials/docs/navigation2_with_gps.html#setup-gazebo-world\n",
      "Visiting link:  https://docs.nav2.org/tutorials/docs/navigation2_with_gps.html#setup-gps-localization-system\n",
      "Visiting link:  https://docs.nav2.org/tutorials/docs/navigation2_with_gps.html#setup-navigation-system\n",
      "Visiting link:  https://docs.nav2.org/tutorials/docs/navigation2_with_gps.html#interactive-gps-waypoint-follower\n",
      "Visiting link:  https://docs.nav2.org/tutorials/docs/navigation2_with_gps.html#logged-gps-waypoint-follower-waypoint-logging\n",
      "Visiting link:  https://docs.nav2.org/tutorials/docs/navigation2_with_gps.html#conclusion\n",
      "Visiting link:  https://docs.nav2.org/tutorials/docs/using_groot.html\n",
      "Visiting link:  https://docs.nav2.org/tutorials/docs/using_groot.html#overview\n",
      "Visiting link:  https://docs.nav2.org/tutorials/docs/using_groot.html#visualize-behavior-trees\n",
      "Visiting link:  https://docs.nav2.org/tutorials/docs/using_groot.html#edit-behavior-trees\n",
      "Visiting link:  https://docs.nav2.org/tutorials/docs/using_groot.html#adding-a-custom-node\n",
      "Visiting link:  https://docs.nav2.org/tutorials/docs/integrating_vio.html\n",
      "Visiting link:  https://docs.nav2.org/tutorials/docs/integrating_vio.html#overview\n",
      "Visiting link:  https://docs.nav2.org/tutorials/docs/integrating_vio.html#setting-up-the-zed-x-camera\n",
      "Visiting link:  https://docs.nav2.org/tutorials/docs/integrating_vio.html#setting-up-zed-ros\n",
      "Visiting link:  https://docs.nav2.org/tutorials/docs/integrating_vio.html#fusing-vio-into-local-state-estimate\n",
      "Visiting link:  https://docs.nav2.org/tutorials/docs/integrating_vio.html#fusing-vslam-into-global-state-estimate\n",
      "Visiting link:  https://docs.nav2.org/tutorials/docs/integrating_vio.html#testing-it-out\n",
      "Visiting link:  https://docs.nav2.org/tutorials/docs/navigation2_dynamic_point_following.html\n",
      "Visiting link:  https://docs.nav2.org/tutorials/docs/navigation2_dynamic_point_following.html#overview\n",
      "Visiting link:  https://docs.nav2.org/tutorials/docs/navigation2_dynamic_point_following.html#tutorial-steps\n",
      "Visiting link:  https://docs.nav2.org/tutorials/docs/navigation2_dynamic_point_following.html#create-the-behavior-tree\n",
      "Visiting link:  https://docs.nav2.org/tutorials/docs/navigation2_dynamic_point_following.html#setup-rviz-clicked-point\n",
      "Visiting link:  https://docs.nav2.org/tutorials/docs/navigation2_dynamic_point_following.html#run-dynamic-object-following-in-nav2-simulation\n",
      "Visiting link:  https://docs.nav2.org/tutorials/docs/navigation2_with_keepout_filter.html\n",
      "Visiting link:  https://docs.nav2.org/tutorials/docs/navigation2_with_keepout_filter.html#overview\n",
      "Visiting link:  https://docs.nav2.org/tutorials/docs/navigation2_with_keepout_filter.html#requirements\n",
      "Visiting link:  https://docs.nav2.org/tutorials/docs/navigation2_with_keepout_filter.html#tutorial-steps\n",
      "Visiting link:  https://docs.nav2.org/tutorials/docs/navigation2_with_keepout_filter.html#prepare-filter-mask\n",
      "Visiting link:  https://docs.nav2.org/tutorials/docs/navigation2_with_keepout_filter.html#configure-costmap-filter-info-publisher-server\n",
      "Visiting link:  https://docs.nav2.org/tutorials/docs/navigation2_with_keepout_filter.html#enable-keepout-filter\n",
      "Visiting link:  https://docs.nav2.org/tutorials/docs/navigation2_with_keepout_filter.html#run-nav2-stack\n",
      "Visiting link:  https://docs.nav2.org/tutorials/docs/navigation2_with_speed_filter.html\n",
      "Visiting link:  https://docs.nav2.org/tutorials/docs/navigation2_with_speed_filter.html#overview\n",
      "Visiting link:  https://docs.nav2.org/tutorials/docs/navigation2_with_speed_filter.html#requirements\n",
      "Visiting link:  https://docs.nav2.org/tutorials/docs/navigation2_with_speed_filter.html#tutorial-steps\n",
      "Visiting link:  https://docs.nav2.org/tutorials/docs/navigation2_with_speed_filter.html#prepare-filter-mask\n",
      "Visiting link:  https://docs.nav2.org/tutorials/docs/navigation2_with_speed_filter.html#configure-costmap-filter-info-publisher-server\n",
      "Visiting link:  https://docs.nav2.org/tutorials/docs/navigation2_with_speed_filter.html#enable-speed-filter\n",
      "Visiting link:  https://docs.nav2.org/tutorials/docs/navigation2_with_speed_filter.html#run-nav2-stack\n",
      "Visiting link:  https://docs.nav2.org/tutorials/docs/using_docking.html\n",
      "Visiting link:  https://docs.nav2.org/tutorials/docs/using_docking.html#overview\n",
      "Visiting link:  https://docs.nav2.org/tutorials/docs/using_docking.html#requirements\n",
      "Visiting link:  https://docs.nav2.org/tutorials/docs/using_docking.html#chargingdock-plugins\n",
      "Visiting link:  https://docs.nav2.org/tutorials/docs/using_docking.html#dock-database\n",
      "Visiting link:  https://docs.nav2.org/tutorials/docs/using_docking.html#configuring-docking-server\n",
      "Visiting link:  https://docs.nav2.org/tutorials/docs/using_docking.html#adding-docking-server-to-launch\n",
      "Visiting link:  https://docs.nav2.org/tutorials/docs/using_docking.html#docking-action-api\n",
      "Visiting link:  https://docs.nav2.org/tutorials/docs/using_docking.html#putting-it-all-together\n",
      "Visiting link:  https://docs.nav2.org/tutorials/docs/using_shim_controller.html\n",
      "Visiting link:  https://docs.nav2.org/tutorials/docs/using_shim_controller.html#overview\n",
      "Visiting link:  https://docs.nav2.org/tutorials/docs/using_shim_controller.html#what-is-the-rotation-shim-controller\n",
      "Visiting link:  https://docs.nav2.org/tutorials/docs/using_shim_controller.html#configuring-rotation-shim-controller\n",
      "Visiting link:  https://docs.nav2.org/tutorials/docs/using_shim_controller.html#configuring-primary-controller\n",
      "Visiting link:  https://docs.nav2.org/tutorials/docs/using_shim_controller.html#demo-execution\n",
      "Visiting link:  https://docs.nav2.org/tutorials/docs/adding_smoother.html\n",
      "Visiting link:  https://docs.nav2.org/tutorials/docs/adding_smoother.html#overview\n",
      "Visiting link:  https://docs.nav2.org/tutorials/docs/adding_smoother.html#requirements\n",
      "Visiting link:  https://docs.nav2.org/tutorials/docs/adding_smoother.html#tutorial-steps\n",
      "Visiting link:  https://docs.nav2.org/tutorials/docs/adding_smoother.html#familiarization-with-the-smoother-bt-node\n",
      "Visiting link:  https://docs.nav2.org/tutorials/docs/adding_smoother.html#specifying-a-smoother-plugin\n",
      "Visiting link:  https://docs.nav2.org/tutorials/docs/adding_smoother.html#modifying-your-bt-xml\n",
      "Visiting link:  https://docs.nav2.org/tutorials/docs/using_collision_monitor.html\n",
      "Visiting link:  https://docs.nav2.org/tutorials/docs/using_collision_monitor.html#overview\n",
      "Visiting link:  https://docs.nav2.org/tutorials/docs/using_collision_monitor.html#requirements\n",
      "Visiting link:  https://docs.nav2.org/tutorials/docs/using_collision_monitor.html#configuring-collision-monitor\n",
      "Visiting link:  https://docs.nav2.org/tutorials/docs/using_collision_monitor.html#configuring-collision-monitor-with-velocitypolygon\n",
      "Visiting link:  https://docs.nav2.org/tutorials/docs/using_collision_monitor.html#preparing-nav2-stack\n",
      "Visiting link:  https://docs.nav2.org/tutorials/docs/using_collision_monitor.html#demo-execution\n",
      "Visiting link:  https://docs.nav2.org/tutorials/docs/adding_a_nav2_task_server.html\n",
      "Visiting link:  https://docs.nav2.org/tutorials/docs/adding_a_nav2_task_server.html#lifecycle-nodes\n",
      "Visiting link:  https://docs.nav2.org/tutorials/docs/adding_a_nav2_task_server.html#composition\n",
      "Visiting link:  https://docs.nav2.org/tutorials/docs/adding_a_nav2_task_server.html#error-codes\n",
      "Visiting link:  https://docs.nav2.org/tutorials/docs/adding_a_nav2_task_server.html#conclusion\n",
      "Visiting link:  https://docs.nav2.org/tutorials/docs/filtering_of_noise-induced_obstacles.html\n",
      "Visiting link:  https://docs.nav2.org/tutorials/docs/filtering_of_noise-induced_obstacles.html#overview\n",
      "Visiting link:  https://docs.nav2.org/tutorials/docs/filtering_of_noise-induced_obstacles.html#requirements\n",
      "Visiting link:  https://docs.nav2.org/tutorials/docs/filtering_of_noise-induced_obstacles.html#tutorial-steps\n",
      "Visiting link:  https://docs.nav2.org/tutorials/docs/filtering_of_noise-induced_obstacles.html#enable-denoise-layer\n",
      "Visiting link:  https://docs.nav2.org/tutorials/docs/filtering_of_noise-induced_obstacles.html#run-nav2-stack\n",
      "Visiting link:  https://docs.nav2.org/tutorials/docs/filtering_of_noise-induced_obstacles.html#how-it-works\n",
      "Visiting link:  https://docs.nav2.org/tutorials/docs/camera_calibration.html\n",
      "Visiting link:  https://docs.nav2.org/tutorials/docs/camera_calibration.html#overview\n",
      "Visiting link:  https://docs.nav2.org/tutorials/docs/camera_calibration.html#requirements\n",
      "Visiting link:  https://docs.nav2.org/tutorials/docs/camera_calibration.html#tutorial-steps\n",
      "Visiting link:  https://docs.nav2.org/tutorials/docs/get_backtrace.html\n",
      "Visiting link:  https://docs.nav2.org/tutorials/docs/get_backtrace.html#overview\n",
      "Visiting link:  https://docs.nav2.org/tutorials/docs/get_backtrace.html#preliminaries\n",
      "Visiting link:  https://docs.nav2.org/tutorials/docs/get_backtrace.html#from-a-node\n",
      "Visiting link:  https://docs.nav2.org/tutorials/docs/get_backtrace.html#from-a-launch-file\n",
      "Visiting link:  https://docs.nav2.org/tutorials/docs/get_backtrace.html#from-large-project\n",
      "Visiting link:  https://docs.nav2.org/tutorials/docs/get_backtrace.html#from-nav2-bringup\n",
      "Visiting link:  https://docs.nav2.org/tutorials/docs/get_backtrace.html#automatic-backtrace-on-crash\n",
      "Visiting link:  https://docs.nav2.org/tutorials/docs/get_profile.html\n",
      "Visiting link:  https://docs.nav2.org/tutorials/docs/get_profile.html#overview\n",
      "Visiting link:  https://docs.nav2.org/tutorials/docs/get_profile.html#preliminaries\n",
      "Visiting link:  https://docs.nav2.org/tutorials/docs/get_profile.html#profile-from-a-node\n",
      "Visiting link:  https://docs.nav2.org/tutorials/docs/get_profile.html#profile-from-a-launch-file\n",
      "Visiting link:  https://docs.nav2.org/tutorials/docs/get_profile.html#from-nav2-bringup\n",
      "Visiting link:  https://docs.nav2.org/tutorials/docs/get_profile.html#interpreting-results\n",
      "Visiting link:  https://docs.nav2.org/tutorials/docs/docker_dev.html\n",
      "Page not found:  https://docs.nav2.org/tutorials/docs/docker_dev.html\n",
      "Visiting link:  https://docs.nav2.org/tutorials/docs/docker_dev.html#overview\n",
      "Page not found:  https://docs.nav2.org/tutorials/docs/docker_dev.html#overview\n",
      "Visiting link:  https://docs.nav2.org/tutorials/docs/docker_dev.html#preliminaries\n",
      "Page not found:  https://docs.nav2.org/tutorials/docs/docker_dev.html#preliminaries\n",
      "Visiting link:  https://docs.nav2.org/tutorials/docs/docker_dev.html#important-docker-commands\n",
      "Page not found:  https://docs.nav2.org/tutorials/docs/docker_dev.html#important-docker-commands\n",
      "Visiting link:  https://docs.nav2.org/tutorials/docs/docker_dev.html#exploring-your-first-container\n",
      "Page not found:  https://docs.nav2.org/tutorials/docs/docker_dev.html#exploring-your-first-container\n",
      "Visiting link:  https://docs.nav2.org/tutorials/docs/docker_dev.html#understanding-ros-docker-images\n",
      "Page not found:  https://docs.nav2.org/tutorials/docs/docker_dev.html#understanding-ros-docker-images\n",
      "Visiting link:  https://docs.nav2.org/tutorials/docs/docker_dev.html#for-docker-based-development\n",
      "Page not found:  https://docs.nav2.org/tutorials/docs/docker_dev.html#for-docker-based-development\n",
      "Visiting link:  https://docs.nav2.org/tutorials/docs/docker_dev.html#building-a-development-image\n",
      "Page not found:  https://docs.nav2.org/tutorials/docs/docker_dev.html#building-a-development-image\n",
      "Visiting link:  https://docs.nav2.org/tutorials/docs/docker_dev.html#visualizations-from-docker\n",
      "Page not found:  https://docs.nav2.org/tutorials/docs/docker_dev.html#visualizations-from-docker\n",
      "Visiting link:  https://docs.nav2.org/tutorials/docs/docker_dev.html#for-docker-based-deployment\n",
      "Page not found:  https://docs.nav2.org/tutorials/docs/docker_dev.html#for-docker-based-deployment\n",
      "Visiting link:  https://docs.nav2.org/tutorials/docs/docker_dev.html#conclusion\n",
      "Page not found:  https://docs.nav2.org/tutorials/docs/docker_dev.html#conclusion\n",
      "Visiting link:  https://docs.nav2.org/tutorials/docs/docker_dev.html#appendix\n",
      "Page not found:  https://docs.nav2.org/tutorials/docs/docker_dev.html#appendix\n",
      "Visiting link:  https://docs.nav2.org/tutorials/docs/docker_dev.html#nav2-development-image\n",
      "Page not found:  https://docs.nav2.org/tutorials/docs/docker_dev.html#nav2-development-image\n",
      "Visiting link:  https://docs.nav2.org/tutorials/docs/docker_dev.html#nav2-deployment-image\n",
      "Page not found:  https://docs.nav2.org/tutorials/docs/docker_dev.html#nav2-deployment-image\n",
      "Visiting link:  https://docs.nav2.org/plugin_tutorials/index.html\n",
      "Visiting link:  https://docs.nav2.org/plugin_tutorials/docs/writing_new_costmap2d_plugin.html\n",
      "Visiting link:  https://docs.nav2.org/plugin_tutorials/docs/writing_new_costmap2d_plugin.html#overview\n",
      "Visiting link:  https://docs.nav2.org/plugin_tutorials/docs/writing_new_costmap2d_plugin.html#requirements\n",
      "Visiting link:  https://docs.nav2.org/plugin_tutorials/docs/writing_new_costmap2d_plugin.html#tutorial-steps\n",
      "Visiting link:  https://docs.nav2.org/plugin_tutorials/docs/writing_new_costmap2d_plugin.html#write-a-new-costmap2d-plugin\n",
      "Visiting link:  https://docs.nav2.org/plugin_tutorials/docs/writing_new_costmap2d_plugin.html#export-and-make-gradientlayer-plugin\n",
      "Visiting link:  https://docs.nav2.org/plugin_tutorials/docs/writing_new_costmap2d_plugin.html#enable-the-plugin-in-costmap2d\n",
      "Visiting link:  https://docs.nav2.org/plugin_tutorials/docs/writing_new_costmap2d_plugin.html#run-gradientlayer-plugin\n",
      "Visiting link:  https://docs.nav2.org/plugin_tutorials/docs/writing_new_nav2planner_plugin.html\n",
      "Visiting link:  https://docs.nav2.org/plugin_tutorials/docs/writing_new_nav2planner_plugin.html#overview\n",
      "Visiting link:  https://docs.nav2.org/plugin_tutorials/docs/writing_new_nav2planner_plugin.html#requirements\n",
      "Visiting link:  https://docs.nav2.org/plugin_tutorials/docs/writing_new_nav2planner_plugin.html#tutorial-steps\n",
      "Visiting link:  https://docs.nav2.org/plugin_tutorials/docs/writing_new_nav2planner_plugin.html#creating-a-new-planner-plugin\n",
      "Visiting link:  https://docs.nav2.org/plugin_tutorials/docs/writing_new_nav2planner_plugin.html#exporting-the-planner-plugin\n",
      "Visiting link:  https://docs.nav2.org/plugin_tutorials/docs/writing_new_nav2planner_plugin.html#pass-the-plugin-name-through-params-file\n",
      "Visiting link:  https://docs.nav2.org/plugin_tutorials/docs/writing_new_nav2planner_plugin.html#run-straightline-plugin\n",
      "Visiting link:  https://docs.nav2.org/plugin_tutorials/docs/writing_new_nav2controller_plugin.html\n",
      "Visiting link:  https://docs.nav2.org/plugin_tutorials/docs/writing_new_nav2controller_plugin.html#overview\n",
      "Visiting link:  https://docs.nav2.org/plugin_tutorials/docs/writing_new_nav2controller_plugin.html#requirements\n",
      "Visiting link:  https://docs.nav2.org/plugin_tutorials/docs/writing_new_nav2controller_plugin.html#tutorial-steps\n",
      "Visiting link:  https://docs.nav2.org/plugin_tutorials/docs/writing_new_nav2controller_plugin.html#create-a-new-controller-plugin\n",
      "Visiting link:  https://docs.nav2.org/plugin_tutorials/docs/writing_new_nav2controller_plugin.html#exporting-the-controller-plugin\n",
      "Visiting link:  https://docs.nav2.org/plugin_tutorials/docs/writing_new_nav2controller_plugin.html#pass-the-plugin-name-through-the-params-file\n",
      "Visiting link:  https://docs.nav2.org/plugin_tutorials/docs/writing_new_nav2controller_plugin.html#run-pure-pursuit-controller-plugin\n",
      "Visiting link:  https://docs.nav2.org/plugin_tutorials/docs/writing_new_bt_plugin.html\n",
      "Visiting link:  https://docs.nav2.org/plugin_tutorials/docs/writing_new_bt_plugin.html#overview\n",
      "Visiting link:  https://docs.nav2.org/plugin_tutorials/docs/writing_new_bt_plugin.html#requirements\n",
      "Visiting link:  https://docs.nav2.org/plugin_tutorials/docs/writing_new_bt_plugin.html#tutorial-steps\n",
      "Visiting link:  https://docs.nav2.org/plugin_tutorials/docs/writing_new_bt_plugin.html#creating-a-new-bt-plugin\n",
      "Visiting link:  https://docs.nav2.org/plugin_tutorials/docs/writing_new_bt_plugin.html#exporting-the-planner-plugin\n",
      "Visiting link:  https://docs.nav2.org/plugin_tutorials/docs/writing_new_bt_plugin.html#add-plugin-library-name-to-config\n",
      "Visiting link:  https://docs.nav2.org/plugin_tutorials/docs/writing_new_bt_plugin.html#run-your-custom-plugin\n",
      "Visiting link:  https://docs.nav2.org/plugin_tutorials/docs/writing_new_behavior_plugin.html\n",
      "Visiting link:  https://docs.nav2.org/plugin_tutorials/docs/writing_new_behavior_plugin.html#overview\n",
      "Visiting link:  https://docs.nav2.org/plugin_tutorials/docs/writing_new_behavior_plugin.html#requirements\n",
      "Visiting link:  https://docs.nav2.org/plugin_tutorials/docs/writing_new_behavior_plugin.html#tutorial-steps\n",
      "Visiting link:  https://docs.nav2.org/plugin_tutorials/docs/writing_new_behavior_plugin.html#creating-a-new-behavior-plugin\n",
      "Visiting link:  https://docs.nav2.org/plugin_tutorials/docs/writing_new_behavior_plugin.html#exporting-the-behavior-plugin\n",
      "Visiting link:  https://docs.nav2.org/plugin_tutorials/docs/writing_new_behavior_plugin.html#pass-the-plugin-name-through-params-file\n",
      "Visiting link:  https://docs.nav2.org/plugin_tutorials/docs/writing_new_behavior_plugin.html#run-behavior-plugin\n",
      "Visiting link:  https://docs.nav2.org/plugin_tutorials/docs/writing_new_navigator_plugin.html\n",
      "Visiting link:  https://docs.nav2.org/plugin_tutorials/docs/writing_new_navigator_plugin.html#overview\n",
      "Visiting link:  https://docs.nav2.org/plugin_tutorials/docs/writing_new_navigator_plugin.html#requirements\n",
      "Visiting link:  https://docs.nav2.org/plugin_tutorials/docs/writing_new_navigator_plugin.html#tutorial-steps\n",
      "Visiting link:  https://docs.nav2.org/plugin_tutorials/docs/writing_new_navigator_plugin.html#create-a-new-navigator-plugin\n",
      "Visiting link:  https://docs.nav2.org/plugin_tutorials/docs/writing_new_navigator_plugin.html#exporting-the-navigator-plugin\n",
      "Visiting link:  https://docs.nav2.org/plugin_tutorials/docs/writing_new_navigator_plugin.html#pass-the-plugin-name-through-the-params-file\n",
      "Visiting link:  https://docs.nav2.org/plugin_tutorials/docs/writing_new_navigator_plugin.html#run-plugin\n",
      "Visiting link:  https://docs.nav2.org/configuration/index.html\n",
      "Visiting link:  https://docs.nav2.org/configuration/packages/configuring-bt-navigator.html\n",
      "Visiting link:  https://docs.nav2.org/configuration/packages/configuring-bt-navigator.html#parameters\n",
      "Visiting link:  https://docs.nav2.org/configuration/packages/configuring-bt-navigator.html#example\n",
      "Visiting link:  https://docs.nav2.org/configuration/packages/configuring-bt-xml.html\n",
      "Visiting link:  https://docs.nav2.org/configuration/packages/configuring-bt-xml.html#action-plugins\n",
      "Visiting link:  https://docs.nav2.org/configuration/packages/bt-plugins/actions/Wait.html\n",
      "Visiting link:  https://docs.nav2.org/configuration/packages/bt-plugins/actions/Spin.html\n",
      "Visiting link:  https://docs.nav2.org/configuration/packages/bt-plugins/actions/BackUp.html\n",
      "Visiting link:  https://docs.nav2.org/configuration/packages/bt-plugins/actions/DriveOnHeading.html\n",
      "Visiting link:  https://docs.nav2.org/configuration/packages/bt-plugins/actions/AssistedTeleop.html\n",
      "Visiting link:  https://docs.nav2.org/configuration/packages/bt-plugins/actions/ComputePathToPose.html\n",
      "Visiting link:  https://docs.nav2.org/configuration/packages/bt-plugins/actions/FollowPath.html\n",
      "Visiting link:  https://docs.nav2.org/configuration/packages/bt-plugins/actions/NavigateToPose.html\n",
      "Visiting link:  https://docs.nav2.org/configuration/packages/bt-plugins/actions/ClearEntireCostmap.html\n",
      "Visiting link:  https://docs.nav2.org/configuration/packages/bt-plugins/actions/ClearCostmapExceptRegion.html\n",
      "Visiting link:  https://docs.nav2.org/configuration/packages/bt-plugins/actions/ClearCostmapAroundRobot.html\n",
      "Visiting link:  https://docs.nav2.org/configuration/packages/bt-plugins/actions/ReinitializeGlobalLocalization.html\n",
      "Visiting link:  https://docs.nav2.org/configuration/packages/bt-plugins/actions/TruncatePath.html\n",
      "Visiting link:  https://docs.nav2.org/configuration/packages/bt-plugins/actions/TruncatePathLocal.html\n",
      "Visiting link:  https://docs.nav2.org/configuration/packages/bt-plugins/actions/PlannerSelector.html\n",
      "Visiting link:  https://docs.nav2.org/configuration/packages/bt-plugins/actions/ControllerSelector.html\n",
      "Visiting link:  https://docs.nav2.org/configuration/packages/bt-plugins/actions/SmootherSelector.html\n",
      "Visiting link:  https://docs.nav2.org/configuration/packages/bt-plugins/actions/GoalCheckerSelector.html\n",
      "Visiting link:  https://docs.nav2.org/configuration/packages/bt-plugins/actions/ProgressCheckerSelector.html\n",
      "Visiting link:  https://docs.nav2.org/configuration/packages/bt-plugins/actions/NavigateThroughPoses.html\n",
      "Visiting link:  https://docs.nav2.org/configuration/packages/bt-plugins/actions/ComputePathThroughPoses.html\n",
      "Visiting link:  https://docs.nav2.org/configuration/packages/bt-plugins/actions/ComputeCoveragePath.html\n",
      "Visiting link:  https://docs.nav2.org/configuration/packages/bt-plugins/actions/CancelCoverage.html\n",
      "Visiting link:  https://docs.nav2.org/configuration/packages/bt-plugins/actions/RemovePassedGoals.html\n",
      "Visiting link:  https://docs.nav2.org/configuration/packages/bt-plugins/actions/RemoveInCollisionGoals.html\n",
      "Visiting link:  https://docs.nav2.org/configuration/packages/bt-plugins/actions/CancelControl.html\n",
      "Visiting link:  https://docs.nav2.org/configuration/packages/bt-plugins/actions/CancelBackUp.html\n",
      "Visiting link:  https://docs.nav2.org/configuration/packages/bt-plugins/actions/CancelSpin.html\n",
      "Visiting link:  https://docs.nav2.org/configuration/packages/bt-plugins/actions/CancelWait.html\n",
      "Visiting link:  https://docs.nav2.org/configuration/packages/bt-plugins/actions/CancelDriveOnHeading.html\n",
      "Visiting link:  https://docs.nav2.org/configuration/packages/bt-plugins/actions/CancelAssistedTeleop.html\n",
      "Visiting link:  https://docs.nav2.org/configuration/packages/bt-plugins/actions/Smooth.html\n",
      "Visiting link:  https://docs.nav2.org/configuration/packages/bt-plugins/actions/GetPoseFromPath.html\n",
      "Visiting link:  https://docs.nav2.org/configuration/packages/bt-plugins/actions/DockRobot.html\n",
      "Visiting link:  https://docs.nav2.org/configuration/packages/bt-plugins/actions/UndockRobot.html\n",
      "Visiting link:  https://docs.nav2.org/configuration/packages/configuring-bt-xml.html#condition-plugins\n",
      "Visiting link:  https://docs.nav2.org/configuration/packages/bt-plugins/conditions/GoalReached.html\n",
      "Visiting link:  https://docs.nav2.org/configuration/packages/bt-plugins/conditions/TransformAvailable.html\n",
      "Visiting link:  https://docs.nav2.org/configuration/packages/bt-plugins/conditions/DistanceTraveled.html\n",
      "Visiting link:  https://docs.nav2.org/configuration/packages/bt-plugins/conditions/GoalUpdated.html\n",
      "Visiting link:  https://docs.nav2.org/configuration/packages/bt-plugins/conditions/GloballyUpdatedGoal.html\n",
      "Visiting link:  https://docs.nav2.org/configuration/packages/bt-plugins/conditions/InitialPoseReceived.html\n",
      "Visiting link:  https://docs.nav2.org/configuration/packages/bt-plugins/conditions/IsStuck.html\n",
      "Visiting link:  https://docs.nav2.org/configuration/packages/bt-plugins/conditions/IsStopped.html\n",
      "Visiting link:  https://docs.nav2.org/configuration/packages/bt-plugins/conditions/TimeExpired.html\n",
      "Visiting link:  https://docs.nav2.org/configuration/packages/bt-plugins/conditions/IsBatteryLow.html\n",
      "Visiting link:  https://docs.nav2.org/configuration/packages/bt-plugins/conditions/IsPathValid.html\n",
      "Visiting link:  https://docs.nav2.org/configuration/packages/bt-plugins/conditions/PathExpiringTimer.html\n",
      "Visiting link:  https://docs.nav2.org/configuration/packages/bt-plugins/conditions/AreErrorCodesPresent.html\n",
      "Visiting link:  https://docs.nav2.org/configuration/packages/bt-plugins/conditions/WouldAControllerRecoveryHelp.html\n",
      "Visiting link:  https://docs.nav2.org/configuration/packages/bt-plugins/conditions/WouldAPlannerRecoveryHelp.html\n",
      "Visiting link:  https://docs.nav2.org/configuration/packages/bt-plugins/conditions/WouldASmootherRecoveryHelp.html\n",
      "Visiting link:  https://docs.nav2.org/configuration/packages/bt-plugins/conditions/IsBatteryCharging.html\n",
      "Visiting link:  https://docs.nav2.org/configuration/packages/configuring-bt-xml.html#control-plugins\n",
      "Visiting link:  https://docs.nav2.org/configuration/packages/bt-plugins/controls/PipelineSequence.html\n",
      "Visiting link:  https://docs.nav2.org/configuration/packages/bt-plugins/controls/RoundRobin.html\n",
      "Visiting link:  https://docs.nav2.org/configuration/packages/bt-plugins/controls/RecoveryNode.html\n",
      "Visiting link:  https://docs.nav2.org/configuration/packages/configuring-bt-xml.html#decorator-plugins\n",
      "Visiting link:  https://docs.nav2.org/configuration/packages/bt-plugins/decorators/RateController.html\n",
      "Visiting link:  https://docs.nav2.org/configuration/packages/bt-plugins/decorators/DistanceController.html\n",
      "Visiting link:  https://docs.nav2.org/configuration/packages/bt-plugins/decorators/SpeedController.html\n",
      "Visiting link:  https://docs.nav2.org/configuration/packages/bt-plugins/decorators/GoalUpdater.html\n",
      "Visiting link:  https://docs.nav2.org/configuration/packages/bt-plugins/decorators/PathLongerOnApproach.html\n",
      "Visiting link:  https://docs.nav2.org/configuration/packages/bt-plugins/decorators/SingleTrigger.html\n",
      "Visiting link:  https://docs.nav2.org/configuration/packages/configuring-bt-xml.html#example\n",
      "Visiting link:  https://docs.nav2.org/configuration/packages/configuring-costmaps.html\n",
      "Visiting link:  https://docs.nav2.org/configuration/packages/configuring-costmaps.html#costmap2d-ros-parameters\n",
      "Visiting link:  https://docs.nav2.org/configuration/packages/configuring-costmaps.html#default-plugins\n",
      "Visiting link:  https://docs.nav2.org/configuration/packages/configuring-costmaps.html#plugin-parameters\n",
      "Visiting link:  https://docs.nav2.org/configuration/packages/costmap-plugins/static.html\n",
      "Visiting link:  https://docs.nav2.org/configuration/packages/costmap-plugins/inflation.html\n",
      "Visiting link:  https://docs.nav2.org/configuration/packages/costmap-plugins/obstacle.html\n",
      "Visiting link:  https://docs.nav2.org/configuration/packages/costmap-plugins/voxel.html\n",
      "Visiting link:  https://docs.nav2.org/configuration/packages/costmap-plugins/range.html\n",
      "Visiting link:  https://docs.nav2.org/configuration/packages/costmap-plugins/denoise.html\n",
      "Visiting link:  https://docs.nav2.org/configuration/packages/configuring-costmaps.html#costmap-filters-parameters\n",
      "Visiting link:  https://docs.nav2.org/configuration/packages/costmap-plugins/keepout_filter.html\n",
      "Visiting link:  https://docs.nav2.org/configuration/packages/costmap-plugins/speed_filter.html\n",
      "Visiting link:  https://docs.nav2.org/configuration/packages/costmap-plugins/binary_filter.html\n",
      "Visiting link:  https://docs.nav2.org/configuration/packages/configuring-costmaps.html#example\n",
      "Visiting link:  https://docs.nav2.org/configuration/packages/configuring-lifecycle.html\n",
      "Visiting link:  https://docs.nav2.org/configuration/packages/configuring-lifecycle.html#parameters\n",
      "Visiting link:  https://docs.nav2.org/configuration/packages/configuring-lifecycle.html#example\n",
      "Visiting link:  https://docs.nav2.org/configuration/packages/configuring-planner-server.html\n",
      "Visiting link:  https://docs.nav2.org/configuration/packages/configuring-planner-server.html#parameters\n",
      "Visiting link:  https://docs.nav2.org/configuration/packages/configuring-planner-server.html#default-plugins\n",
      "Visiting link:  https://docs.nav2.org/configuration/packages/configuring-planner-server.html#example\n",
      "Visiting link:  https://docs.nav2.org/configuration/packages/configuring-coverage-server.html\n",
      "Visiting link:  https://docs.nav2.org/configuration/packages/configuring-coverage-server.html#parameters\n",
      "Visiting link:  https://docs.nav2.org/configuration/packages/configuring-coverage-server.html#example\n",
      "Visiting link:  https://docs.nav2.org/configuration/packages/configuring-navfn.html\n",
      "Visiting link:  https://docs.nav2.org/configuration/packages/configuring-navfn.html#parameters\n",
      "Visiting link:  https://docs.nav2.org/configuration/packages/configuring-navfn.html#example\n",
      "Visiting link:  https://docs.nav2.org/configuration/packages/configuring-smac-planner.html\n",
      "Visiting link:  https://docs.nav2.org/configuration/packages/configuring-smac-planner.html#provided-plugins\n",
      "Visiting link:  https://docs.nav2.org/configuration/packages/smac/configuring-smac-2d.html\n",
      "Visiting link:  https://docs.nav2.org/configuration/packages/smac/configuring-smac-hybrid.html\n",
      "Visiting link:  https://docs.nav2.org/configuration/packages/smac/configuring-smac-lattice.html\n",
      "Visiting link:  https://docs.nav2.org/configuration/packages/configuring-smac-planner.html#description\n",
      "Visiting link:  https://docs.nav2.org/configuration/packages/configuring-thetastar.html\n",
      "Visiting link:  https://docs.nav2.org/configuration/packages/configuring-thetastar.html#parameters\n",
      "Visiting link:  https://docs.nav2.org/configuration/packages/configuring-thetastar.html#example\n",
      "Visiting link:  https://docs.nav2.org/configuration/packages/configuring-controller-server.html\n",
      "Visiting link:  https://docs.nav2.org/configuration/packages/configuring-controller-server.html#parameters\n",
      "Visiting link:  https://docs.nav2.org/configuration/packages/configuring-controller-server.html#provided-plugins\n",
      "Visiting link:  https://docs.nav2.org/configuration/packages/nav2_controller-plugins/simple_progress_checker.html\n",
      "Visiting link:  https://docs.nav2.org/configuration/packages/nav2_controller-plugins/pose_progress_checker.html\n",
      "Visiting link:  https://docs.nav2.org/configuration/packages/nav2_controller-plugins/simple_goal_checker.html\n",
      "Visiting link:  https://docs.nav2.org/configuration/packages/nav2_controller-plugins/stopped_goal_checker.html\n",
      "Visiting link:  https://docs.nav2.org/configuration/packages/configuring-controller-server.html#default-plugins\n",
      "Visiting link:  https://docs.nav2.org/configuration/packages/configuring-controller-server.html#example\n",
      "Visiting link:  https://docs.nav2.org/configuration/packages/configuring-dwb-controller.html\n",
      "Visiting link:  https://docs.nav2.org/configuration/packages/configuring-dwb-controller.html#controller\n",
      "Visiting link:  https://docs.nav2.org/configuration/packages/dwb-params/controller.html\n",
      "Visiting link:  https://docs.nav2.org/configuration/packages/dwb-params/iterator.html\n",
      "Visiting link:  https://docs.nav2.org/configuration/packages/dwb-params/kinematic.html\n",
      "Visiting link:  https://docs.nav2.org/configuration/packages/dwb-params/visualization.html\n",
      "Visiting link:  https://docs.nav2.org/configuration/packages/configuring-dwb-controller.html#plugins\n",
      "Visiting link:  https://docs.nav2.org/configuration/packages/dwb-plugins/limited_accel_generator.html\n",
      "Visiting link:  https://docs.nav2.org/configuration/packages/dwb-plugins/standard_traj_generator.html\n",
      "Visiting link:  https://docs.nav2.org/configuration/packages/configuring-dwb-controller.html#trajectory-critics\n",
      "Visiting link:  https://docs.nav2.org/configuration/packages/trajectory_critics/base_obstacle.html\n",
      "Visiting link:  https://docs.nav2.org/configuration/packages/trajectory_critics/goal_align.html\n",
      "Visiting link:  https://docs.nav2.org/configuration/packages/trajectory_critics/goal_dist.html\n",
      "Visiting link:  https://docs.nav2.org/configuration/packages/trajectory_critics/obstacle_footprint.html\n",
      "Visiting link:  https://docs.nav2.org/configuration/packages/trajectory_critics/oscillation.html\n",
      "Visiting link:  https://docs.nav2.org/configuration/packages/trajectory_critics/path_align.html\n",
      "Visiting link:  https://docs.nav2.org/configuration/packages/trajectory_critics/path_dist.html\n",
      "Visiting link:  https://docs.nav2.org/configuration/packages/trajectory_critics/prefer_forward.html\n",
      "Visiting link:  https://docs.nav2.org/configuration/packages/trajectory_critics/rotate_to_goal.html\n",
      "Visiting link:  https://docs.nav2.org/configuration/packages/trajectory_critics/twirling.html\n",
      "Visiting link:  https://docs.nav2.org/configuration/packages/configuring-dwb-controller.html#example\n",
      "Visiting link:  https://docs.nav2.org/configuration/packages/configuring-regulated-pp.html\n",
      "Visiting link:  https://docs.nav2.org/configuration/packages/configuring-regulated-pp.html#regulated-pure-pursuit-parameters\n",
      "Visiting link:  https://docs.nav2.org/configuration/packages/configuring-regulated-pp.html#example\n",
      "Visiting link:  https://docs.nav2.org/configuration/packages/configuring-mppic.html\n",
      "Visiting link:  https://docs.nav2.org/configuration/packages/configuring-mppic.html#mppi-parameters\n",
      "Visiting link:  https://docs.nav2.org/configuration/packages/configuring-mppic.html#trajectory-visualization\n",
      "Visiting link:  https://docs.nav2.org/configuration/packages/configuring-mppic.html#path-handler\n",
      "Visiting link:  https://docs.nav2.org/configuration/packages/configuring-mppic.html#ackermann-motion-model\n",
      "Visiting link:  https://docs.nav2.org/configuration/packages/configuring-mppic.html#constraint-critic\n",
      "Visiting link:  https://docs.nav2.org/configuration/packages/configuring-mppic.html#goal-angle-critic\n",
      "Visiting link:  https://docs.nav2.org/configuration/packages/configuring-mppic.html#goal-critic\n",
      "Visiting link:  https://docs.nav2.org/configuration/packages/configuring-mppic.html#obstacles-critic\n",
      "Visiting link:  https://docs.nav2.org/configuration/packages/configuring-mppic.html#cost-critic\n",
      "Visiting link:  https://docs.nav2.org/configuration/packages/configuring-mppic.html#path-align-critic\n",
      "Visiting link:  https://docs.nav2.org/configuration/packages/configuring-mppic.html#path-angle-critic\n",
      "Visiting link:  https://docs.nav2.org/configuration/packages/configuring-mppic.html#path-follow-critic\n",
      "Visiting link:  https://docs.nav2.org/configuration/packages/configuring-mppic.html#prefer-forward-critic\n",
      "Visiting link:  https://docs.nav2.org/configuration/packages/configuring-mppic.html#twirling-critic\n",
      "Visiting link:  https://docs.nav2.org/configuration/packages/configuring-mppic.html#velocity-deadband-critic\n",
      "Visiting link:  https://docs.nav2.org/configuration/packages/configuring-mppic.html#example\n",
      "Visiting link:  https://docs.nav2.org/configuration/packages/configuring-mppic.html#notes-to-users\n",
      "Visiting link:  https://docs.nav2.org/configuration/packages/configuring-mppic.html#general-words-of-wisdom\n",
      "Visiting link:  https://docs.nav2.org/configuration/packages/configuring-mppic.html#prediction-horizon-costmap-sizing-and-offsets\n",
      "Visiting link:  https://docs.nav2.org/configuration/packages/configuring-mppic.html#obstacle-inflation-layer-and-path-following\n",
      "Visiting link:  https://docs.nav2.org/configuration/packages/configuring-rotation-shim-controller.html\n",
      "Visiting link:  https://docs.nav2.org/configuration/packages/configuring-rotation-shim-controller.html#rotation-shim-controller-parameters\n",
      "Visiting link:  https://docs.nav2.org/configuration/packages/configuring-rotation-shim-controller.html#example\n",
      "Visiting link:  https://docs.nav2.org/configuration/packages/configuring-graceful-motion-controller.html\n",
      "Visiting link:  https://docs.nav2.org/configuration/packages/configuring-graceful-motion-controller.html#graceful-controller-parameters\n",
      "Visiting link:  https://docs.nav2.org/configuration/packages/configuring-graceful-motion-controller.html#example\n",
      "Visiting link:  https://docs.nav2.org/configuration/packages/configuring-map-server.html\n",
      "Visiting link:  https://docs.nav2.org/configuration/packages/configuring-map-server.html#map-saver-parameters\n",
      "Visiting link:  https://docs.nav2.org/configuration/packages/configuring-map-server.html#map-server-parameters\n",
      "Visiting link:  https://docs.nav2.org/configuration/packages/configuring-map-server.html#costmap-filter-info-server-parameters\n",
      "Visiting link:  https://docs.nav2.org/configuration/packages/configuring-map-server.html#example\n",
      "Visiting link:  https://docs.nav2.org/configuration/packages/configuring-amcl.html\n",
      "Visiting link:  https://docs.nav2.org/configuration/packages/configuring-amcl.html#parameters\n",
      "Visiting link:  https://docs.nav2.org/configuration/packages/configuring-amcl.html#example\n",
      "Visiting link:  https://docs.nav2.org/configuration/packages/configuring-behavior-server.html\n",
      "Visiting link:  https://docs.nav2.org/configuration/packages/configuring-behavior-server.html#behavior-server-parameters\n",
      "Visiting link:  https://docs.nav2.org/configuration/packages/configuring-behavior-server.html#default-plugins\n",
      "Visiting link:  https://docs.nav2.org/configuration/packages/configuring-behavior-server.html#spin-behavior-parameters\n",
      "Visiting link:  https://docs.nav2.org/configuration/packages/configuring-behavior-server.html#backup-behavior-parameters\n",
      "Visiting link:  https://docs.nav2.org/configuration/packages/configuring-behavior-server.html#driveonheading-behavior-parameters\n",
      "Visiting link:  https://docs.nav2.org/configuration/packages/configuring-behavior-server.html#assistedteleop-behavior-parameters\n",
      "Visiting link:  https://docs.nav2.org/configuration/packages/configuring-behavior-server.html#example\n",
      "Visiting link:  https://docs.nav2.org/configuration/packages/configuring-smoother-server.html\n",
      "Visiting link:  https://docs.nav2.org/configuration/packages/configuring-smoother-server.html#smoother-server-parameters\n",
      "Visiting link:  https://docs.nav2.org/configuration/packages/configuring-smoother-server.html#example\n",
      "Visiting link:  https://docs.nav2.org/configuration/packages/configuring-simple-smoother.html\n",
      "Visiting link:  https://docs.nav2.org/configuration/packages/configuring-simple-smoother.html#simple-smoother-parameters\n",
      "Visiting link:  https://docs.nav2.org/configuration/packages/configuring-simple-smoother.html#example\n",
      "Visiting link:  https://docs.nav2.org/configuration/packages/configuring-savitzky-golay-smoother.html\n",
      "Visiting link:  https://docs.nav2.org/configuration/packages/configuring-savitzky-golay-smoother.html#savitzky-golay-smoother-parameters\n",
      "Visiting link:  https://docs.nav2.org/configuration/packages/configuring-savitzky-golay-smoother.html#example\n",
      "Visiting link:  https://docs.nav2.org/configuration/packages/configuring-constrained-smoother.html\n",
      "Visiting link:  https://docs.nav2.org/configuration/packages/configuring-constrained-smoother.html#smoother-server-parameters\n",
      "Visiting link:  https://docs.nav2.org/configuration/packages/configuring-constrained-smoother.html#example\n",
      "Visiting link:  https://docs.nav2.org/configuration/packages/configuring-velocity-smoother.html\n",
      "Visiting link:  https://docs.nav2.org/configuration/packages/configuring-velocity-smoother.html#velocity-smoother-parameters\n",
      "Visiting link:  https://docs.nav2.org/configuration/packages/configuring-velocity-smoother.html#example\n",
      "Visiting link:  https://docs.nav2.org/configuration/packages/configuring-collision-monitor.html\n",
      "Visiting link:  https://docs.nav2.org/configuration/packages/configuring-collision-monitor.html#provided-nodes\n",
      "Visiting link:  https://docs.nav2.org/configuration/packages/collision_monitor/configuring-collision-monitor-node.html\n",
      "Visiting link:  https://docs.nav2.org/configuration/packages/collision_monitor/configuring-collision-detector-node.html\n",
      "Visiting link:  https://docs.nav2.org/configuration/packages/configuring-waypoint-follower.html\n",
      "Visiting link:  https://docs.nav2.org/configuration/packages/configuring-waypoint-follower.html#parameters\n",
      "Visiting link:  https://docs.nav2.org/configuration/packages/configuring-waypoint-follower.html#provided-plugins\n",
      "Visiting link:  https://docs.nav2.org/configuration/packages/nav2_waypoint_follower-plugins/wait_at_waypoint.html\n",
      "Visiting link:  https://docs.nav2.org/configuration/packages/nav2_waypoint_follower-plugins/photo_at_waypoint.html\n",
      "Visiting link:  https://docs.nav2.org/configuration/packages/nav2_waypoint_follower-plugins/input_at_waypoint.html\n",
      "Visiting link:  https://docs.nav2.org/configuration/packages/configuring-waypoint-follower.html#default-plugin\n",
      "Visiting link:  https://docs.nav2.org/configuration/packages/configuring-waypoint-follower.html#example\n",
      "Visiting link:  https://docs.nav2.org/configuration/packages/configuring-loopback-sim.html\n",
      "Visiting link:  https://docs.nav2.org/configuration/packages/configuring-loopback-sim.html#parameters\n",
      "Visiting link:  https://docs.nav2.org/configuration/packages/configuring-loopback-sim.html#example\n",
      "Visiting link:  https://docs.nav2.org/configuration/packages/configuring-docking-server.html\n",
      "Visiting link:  https://docs.nav2.org/configuration/packages/configuring-docking-server.html#parameters\n",
      "Visiting link:  https://docs.nav2.org/configuration/packages/configuring-docking-server.html#simplechargingdock-parameters\n",
      "Visiting link:  https://docs.nav2.org/configuration/packages/configuring-docking-server.html#example\n",
      "Visiting link:  https://docs.nav2.org/tuning/index.html\n",
      "Visiting link:  https://docs.nav2.org/tuning/index.html#inflation-potential-fields\n",
      "Visiting link:  https://docs.nav2.org/tuning/index.html#robot-footprint-vs-radius\n",
      "Visiting link:  https://docs.nav2.org/tuning/index.html#rotate-in-place-behavior\n",
      "Visiting link:  https://docs.nav2.org/tuning/index.html#planner-plugin-selection\n",
      "Visiting link:  https://docs.nav2.org/tuning/index.html#controller-plugin-selection\n",
      "Visiting link:  https://docs.nav2.org/tuning/index.html#caching-obstacle-heuristic-in-smac-planners\n",
      "Visiting link:  https://docs.nav2.org/tuning/index.html#costmap2d-plugins\n",
      "Visiting link:  https://docs.nav2.org/tuning/index.html#nav2-launch-options\n",
      "Visiting link:  https://docs.nav2.org/tuning/index.html#other-pages-we-d-love-to-offer\n",
      "Visiting link:  https://docs.nav2.org/behavior_trees/index.html\n",
      "Visiting link:  https://docs.nav2.org/behavior_trees/overview/nav2_specific_nodes.html\n",
      "Visiting link:  https://docs.nav2.org/behavior_trees/overview/nav2_specific_nodes.html#action-nodes\n",
      "Visiting link:  https://docs.nav2.org/behavior_trees/overview/nav2_specific_nodes.html#condition-nodes\n",
      "Visiting link:  https://docs.nav2.org/behavior_trees/overview/nav2_specific_nodes.html#decorator-nodes\n",
      "Visiting link:  https://docs.nav2.org/behavior_trees/overview/nav2_specific_nodes.html#control-pipelinesequence\n",
      "Visiting link:  https://docs.nav2.org/behavior_trees/overview/nav2_specific_nodes.html#control-recovery\n",
      "Visiting link:  https://docs.nav2.org/behavior_trees/overview/nav2_specific_nodes.html#control-roundrobin\n",
      "Visiting link:  https://docs.nav2.org/behavior_trees/overview/detailed_behavior_tree_walkthrough.html\n",
      "Visiting link:  https://docs.nav2.org/behavior_trees/overview/detailed_behavior_tree_walkthrough.html#overview\n",
      "Visiting link:  https://docs.nav2.org/behavior_trees/overview/detailed_behavior_tree_walkthrough.html#prerequisites\n",
      "Visiting link:  https://docs.nav2.org/behavior_trees/overview/detailed_behavior_tree_walkthrough.html#navigate-to-pose-with-replanning-and-recovery\n",
      "Visiting link:  https://docs.nav2.org/behavior_trees/overview/detailed_behavior_tree_walkthrough.html#navigation-subtree\n",
      "Visiting link:  https://docs.nav2.org/behavior_trees/overview/detailed_behavior_tree_walkthrough.html#recovery-subtree\n",
      "Visiting link:  https://docs.nav2.org/behavior_trees/trees/nav_to_pose_recovery.html\n",
      "Visiting link:  https://docs.nav2.org/behavior_trees/trees/nav_through_poses_recovery.html\n",
      "Visiting link:  https://docs.nav2.org/behavior_trees/trees/nav_to_pose_and_pause_near_goal_obstacle.html\n",
      "Visiting link:  https://docs.nav2.org/behavior_trees/trees/nav_to_pose_with_consistent_replanning_and_if_path_becomes_invalid.html\n",
      "Visiting link:  https://docs.nav2.org/behavior_trees/trees/follow_point.html\n",
      "Visiting link:  https://docs.nav2.org/behavior_trees/trees/odometry_calibration.html\n",
      "Visiting link:  https://docs.nav2.org/plugins/index.html\n",
      "Visiting link:  https://docs.nav2.org/plugins/index.html#behavior-tree-navigators\n",
      "Visiting link:  https://docs.nav2.org/plugins/index.html#costmap-layers\n",
      "Visiting link:  https://docs.nav2.org/plugins/index.html#costmap-filters\n",
      "Visiting link:  https://docs.nav2.org/plugins/index.html#controllers\n",
      "Visiting link:  https://docs.nav2.org/plugins/index.html#planners\n",
      "Visiting link:  https://docs.nav2.org/plugins/index.html#smoothers\n",
      "Visiting link:  https://docs.nav2.org/plugins/index.html#behaviors\n",
      "Visiting link:  https://docs.nav2.org/plugins/index.html#waypoint-task-executors\n",
      "Visiting link:  https://docs.nav2.org/plugins/index.html#goal-checkers\n",
      "Visiting link:  https://docs.nav2.org/plugins/index.html#progress-checkers\n",
      "Visiting link:  https://docs.nav2.org/plugins/index.html#behavior-tree-nodes\n",
      "Visiting link:  https://docs.nav2.org/migration/index.html\n",
      "Visiting link:  https://docs.nav2.org/migration/Dashing.html\n",
      "Visiting link:  https://docs.nav2.org/migration/Dashing.html#new-packages\n",
      "Visiting link:  https://docs.nav2.org/migration/Dashing.html#new-plugins\n",
      "Visiting link:  https://docs.nav2.org/migration/Dashing.html#navigation2-architectural-changes\n",
      "Visiting link:  https://docs.nav2.org/migration/Eloquent.html\n",
      "Visiting link:  https://docs.nav2.org/migration/Eloquent.html#general\n",
      "Visiting link:  https://docs.nav2.org/migration/Eloquent.html#server-updates\n",
      "Visiting link:  https://docs.nav2.org/migration/Eloquent.html#new-plugins\n",
      "Visiting link:  https://docs.nav2.org/migration/Eloquent.html#map-server-re-work\n",
      "Visiting link:  https://docs.nav2.org/migration/Eloquent.html#new-particle-filter-messages\n",
      "Visiting link:  https://docs.nav2.org/migration/Eloquent.html#selection-of-behavior-tree-in-each-navigation-action\n",
      "Visiting link:  https://docs.nav2.org/migration/Eloquent.html#followpoint-capability\n",
      "Visiting link:  https://docs.nav2.org/migration/Eloquent.html#new-costmap-layer\n",
      "Visiting link:  https://docs.nav2.org/migration/Foxy.html\n",
      "Visiting link:  https://docs.nav2.org/migration/Foxy.html#navigatetopose-action-feedback-updates\n",
      "Visiting link:  https://docs.nav2.org/migration/Foxy.html#navigatetopose-bt-node-interface-changes\n",
      "Visiting link:  https://docs.nav2.org/migration/Foxy.html#navigatethroughposes-and-computepaththroughposes-actions-added\n",
      "Visiting link:  https://docs.nav2.org/migration/Foxy.html#computepathtopose-bt-node-interface-changes\n",
      "Visiting link:  https://docs.nav2.org/migration/Foxy.html#computepathtopose-action-interface-changes\n",
      "Visiting link:  https://docs.nav2.org/migration/Foxy.html#backup-bt-node-interface-changes\n",
      "Visiting link:  https://docs.nav2.org/migration/Foxy.html#backup-recovery-interface-changes\n",
      "Visiting link:  https://docs.nav2.org/migration/Foxy.html#nav2-controllers-and-goal-checker-plugin-interface-changes\n",
      "Visiting link:  https://docs.nav2.org/migration/Foxy.html#followpath-goal-checker-id-attribute\n",
      "Visiting link:  https://docs.nav2.org/migration/Foxy.html#groot-support\n",
      "Visiting link:  https://docs.nav2.org/migration/Foxy.html#new-plugins\n",
      "Visiting link:  https://docs.nav2.org/migration/Foxy.html#costmap-filters\n",
      "Visiting link:  https://docs.nav2.org/migration/Foxy.html#smacplanner\n",
      "Visiting link:  https://docs.nav2.org/migration/Foxy.html#thetastarplanner\n",
      "Visiting link:  https://docs.nav2.org/migration/Foxy.html#regulatedpurepursuitcontroller\n",
      "Visiting link:  https://docs.nav2.org/migration/Foxy.html#costmap2d-current-usage\n",
      "Visiting link:  https://docs.nav2.org/migration/Foxy.html#standard-time-units-in-parameters\n",
      "Visiting link:  https://docs.nav2.org/migration/Foxy.html#ray-tracing-parameters\n",
      "Visiting link:  https://docs.nav2.org/migration/Foxy.html#obstacle-marking-parameters\n",
      "Visiting link:  https://docs.nav2.org/migration/Foxy.html#recovery-action-changes\n",
      "Visiting link:  https://docs.nav2.org/migration/Foxy.html#default-behavior-tree-changes\n",
      "Visiting link:  https://docs.nav2.org/migration/Foxy.html#navfn-planner-parameters\n",
      "Visiting link:  https://docs.nav2.org/migration/Foxy.html#new-clearcostmapexceptregion-and-clearcostmaparoundrobot-bt-nodes\n",
      "Visiting link:  https://docs.nav2.org/migration/Foxy.html#new-behavior-tree-nodes\n",
      "Visiting link:  https://docs.nav2.org/migration/Foxy.html#sensor-msgs-pointcloud-to-sensor-msgs-pointcloud2-change\n",
      "Visiting link:  https://docs.nav2.org/migration/Foxy.html#controllerserver-new-parameter-failure-tolerance\n",
      "Visiting link:  https://docs.nav2.org/migration/Foxy.html#removed-bt-xml-launch-configurations\n",
      "Visiting link:  https://docs.nav2.org/migration/Foxy.html#nav2-rviz-panel-action-feedback-information\n",
      "Visiting link:  https://docs.nav2.org/migration/Galactic.html\n",
      "Visiting link:  https://docs.nav2.org/migration/Galactic.html#major-improvements-to-smac-planners\n",
      "Visiting link:  https://docs.nav2.org/migration/Galactic.html#simple-python-commander\n",
      "Visiting link:  https://docs.nav2.org/migration/Galactic.html#reduce-nodes-and-executors\n",
      "Visiting link:  https://docs.nav2.org/migration/Galactic.html#api-change-for-nav2-core\n",
      "Visiting link:  https://docs.nav2.org/migration/Galactic.html#extending-the-btservicenode-to-process-service-results\n",
      "Visiting link:  https://docs.nav2.org/migration/Galactic.html#including-new-rotation-shim-controller-plugin\n",
      "Visiting link:  https://docs.nav2.org/migration/Galactic.html#spawning-the-robot-in-gazebo\n",
      "Visiting link:  https://docs.nav2.org/migration/Galactic.html#recovery-behavior-timeout\n",
      "Visiting link:  https://docs.nav2.org/migration/Galactic.html#new-parameter-use-final-approach-orientation-for-the-3-2d-planners\n",
      "Visiting link:  https://docs.nav2.org/migration/Galactic.html#smacplanner2d-and-theta-fix-goal-orientation-being-ignored\n",
      "Visiting link:  https://docs.nav2.org/migration/Galactic.html#smacplanner2d-navfn-and-theta-fix-small-path-corner-cases\n",
      "Visiting link:  https://docs.nav2.org/migration/Galactic.html#change-and-fix-behavior-of-dynamic-parameter-change-detection\n",
      "Visiting link:  https://docs.nav2.org/migration/Galactic.html#dynamic-parameters\n",
      "Visiting link:  https://docs.nav2.org/migration/Galactic.html#bt-action-nodes-exception-changes\n",
      "Visiting link:  https://docs.nav2.org/migration/Galactic.html#bt-navigator-groot-multiple-navigators\n",
      "Visiting link:  https://docs.nav2.org/migration/Galactic.html#removed-kinematic-limiting-in-rpp\n",
      "Visiting link:  https://docs.nav2.org/migration/Galactic.html#added-smoother-task-server\n",
      "Visiting link:  https://docs.nav2.org/migration/Galactic.html#removed-use-approach-velocity-scaling-param-in-rpp\n",
      "Visiting link:  https://docs.nav2.org/migration/Galactic.html#refactored-amcl-motion-models-as-plugins\n",
      "Visiting link:  https://docs.nav2.org/migration/Galactic.html#dropping-support-for-live-groot-monitoring-of-nav2\n",
      "Visiting link:  https://docs.nav2.org/migration/Galactic.html#replanning-only-if-path-is-invalid\n",
      "Visiting link:  https://docs.nav2.org/migration/Galactic.html#fix-costmaplayer-cleararea-invert-param-logic\n",
      "Visiting link:  https://docs.nav2.org/migration/Galactic.html#dynamic-composition\n",
      "Visiting link:  https://docs.nav2.org/migration/Galactic.html#bt-cancel-node\n",
      "Visiting link:  https://docs.nav2.org/migration/Galactic.html#bt-pathlongeronapproach-node\n",
      "Visiting link:  https://docs.nav2.org/migration/Galactic.html#bt-truncatepathlocal-node\n",
      "Visiting link:  https://docs.nav2.org/migration/Galactic.html#constrained-smoother\n",
      "Visiting link:  https://docs.nav2.org/migration/Galactic.html#replanning-at-a-constant-rate-and-if-the-path-is-invalid\n",
      "Visiting link:  https://docs.nav2.org/migration/Galactic.html#euclidean-distance-2d\n",
      "Visiting link:  https://docs.nav2.org/migration/Galactic.html#recovery-to-behavior\n",
      "Visiting link:  https://docs.nav2.org/migration/Galactic.html#respawn-support-in-launch-and-lifecycle-manager\n",
      "Visiting link:  https://docs.nav2.org/migration/Galactic.html#new-nav2-velocity-smoother\n",
      "Visiting link:  https://docs.nav2.org/migration/Galactic.html#goal-checker-api-changed\n",
      "Visiting link:  https://docs.nav2.org/migration/Galactic.html#added-assisted-teleop\n",
      "Visiting link:  https://docs.nav2.org/migration/Humble.html\n",
      "Visiting link:  https://docs.nav2.org/migration/Humble.html#new-behavior-tree-navigator-plugins\n",
      "Visiting link:  https://docs.nav2.org/migration/Humble.html#added-collision-monitor\n",
      "Visiting link:  https://docs.nav2.org/migration/Humble.html#removed-use-sim-time-from-yaml\n",
      "Visiting link:  https://docs.nav2.org/migration/Humble.html#run-time-speed-up-of-smac-planner\n",
      "Visiting link:  https://docs.nav2.org/migration/Humble.html#recursive-refinement-of-smac-and-simple-smoothers\n",
      "Visiting link:  https://docs.nav2.org/migration/Humble.html#simple-commander-python-api\n",
      "Visiting link:  https://docs.nav2.org/migration/Humble.html#smac-planner-start-pose-included-in-path\n",
      "Visiting link:  https://docs.nav2.org/migration/Humble.html#parameterizable-collision-checking-in-rpp\n",
      "Visiting link:  https://docs.nav2.org/migration/Humble.html#expanded-planner-benchmark-tests\n",
      "Visiting link:  https://docs.nav2.org/migration/Humble.html#smac-planner-path-tolerances\n",
      "Visiting link:  https://docs.nav2.org/migration/Humble.html#costmap-2d-node-default-constructor\n",
      "Visiting link:  https://docs.nav2.org/migration/Humble.html#feedback-for-navigation-failures\n",
      "Visiting link:  https://docs.nav2.org/migration/Humble.html#costmap-filters\n",
      "Visiting link:  https://docs.nav2.org/migration/Humble.html#savitzky-golay-smoother\n",
      "Visiting link:  https://docs.nav2.org/migration/Humble.html#changes-to-map-yaml-file-path-for-map-server-node-in-launch\n",
      "Visiting link:  https://docs.nav2.org/migration/Humble.html#smootherselector-bt-node\n",
      "Visiting link:  https://docs.nav2.org/migration/Humble.html#publish-costmap-layers\n",
      "Visiting link:  https://docs.nav2.org/migration/Humble.html#give-behavior-server-access-to-both-costmaps\n",
      "Visiting link:  https://docs.nav2.org/migration/Humble.html#new-model-predictive-path-integral-controller\n",
      "Visiting link:  https://docs.nav2.org/migration/Humble.html#behavior-tree-uses-error-codes\n",
      "Visiting link:  https://docs.nav2.org/migration/Humble.html#load-save-and-loop-waypoints-from-the-nav2-panel-in-rviz\n",
      "Visiting link:  https://docs.nav2.org/migration/Humble.html#dwb-forward-vs-reverse-pruning\n",
      "Visiting link:  https://docs.nav2.org/migration/Humble.html#more-stable-regulation-on-curves-for-long-lookahead-distances\n",
      "Visiting link:  https://docs.nav2.org/migration/Humble.html#publish-collision-monitor-state\n",
      "Visiting link:  https://docs.nav2.org/migration/Humble.html#renamed-ros-parameter-in-collision-monitor\n",
      "Visiting link:  https://docs.nav2.org/migration/Humble.html#new-safety-behavior-model-limit-in-collision-monitor\n",
      "Visiting link:  https://docs.nav2.org/migration/Humble.html#velocity-smoother-applies-deceleration-when-timeout\n",
      "Visiting link:  https://docs.nav2.org/migration/Humble.html#poseprogresschecker-plugin\n",
      "Visiting link:  https://docs.nav2.org/migration/Humble.html#allow-multiple-goal-checkers-and-change-parameter-progress-checker-plugin-s-name-and-type\n",
      "Visiting link:  https://docs.nav2.org/migration/Humble.html#isbatterychargingcondition-bt-node\n",
      "Visiting link:  https://docs.nav2.org/migration/Humble.html#behavior-server-error-codes\n",
      "Visiting link:  https://docs.nav2.org/migration/Humble.html#new-denoise-costmap-layer-plugin\n",
      "Visiting link:  https://docs.nav2.org/migration/Humble.html#smacplannerhybrid-viz-expansions-parameter\n",
      "Visiting link:  https://docs.nav2.org/migration/Iron.html\n",
      "Visiting link:  https://docs.nav2.org/migration/Iron.html#behaviortree-cpp-upgraded-to-version-4-5\n",
      "Visiting link:  https://docs.nav2.org/migration/Iron.html#added-twiststamped-option-for-commands\n",
      "Visiting link:  https://docs.nav2.org/migration/Iron.html#add-velocitypolygon-in-collision-monitor\n",
      "Visiting link:  https://docs.nav2.org/migration/Iron.html#change-polygon-points-parameter-format-in-collision-monitor\n",
      "Visiting link:  https://docs.nav2.org/migration/Iron.html#introduction-of-soft-real-time-action-servers\n",
      "Visiting link:  https://docs.nav2.org/migration/Iron.html#opennav-coverage-project\n",
      "Visiting link:  https://docs.nav2.org/migration/Iron.html#opennav-docking-project\n",
      "Visiting link:  https://docs.nav2.org/migration/Iron.html#introduce-a-new-multi-robot-bringup-launch\n",
      "Visiting link:  https://docs.nav2.org/migration/Iron.html#new-option-for-the-voxel-and-obstacle-layers\n",
      "Visiting link:  https://docs.nav2.org/migration/Iron.html#use-interpolation-rpp-parameter-depreciated\n",
      "Visiting link:  https://docs.nav2.org/migration/Iron.html#changes-to-mppi-goal-critic\n",
      "Visiting link:  https://docs.nav2.org/migration/Iron.html#changes-to-mppi-path-angle-critic\n",
      "Visiting link:  https://docs.nav2.org/migration/Iron.html#changes-to-mppi-path-handling-for-directionality\n",
      "Visiting link:  https://docs.nav2.org/migration/Iron.html#addition-of-new-mppi-cost-critic\n",
      "Visiting link:  https://docs.nav2.org/migration/Iron.html#mppi-acceleration\n",
      "Visiting link:  https://docs.nav2.org/migration/Iron.html#move-error-code-enumerations\n",
      "Visiting link:  https://docs.nav2.org/migration/Iron.html#substitution-in-parameter-file\n",
      "Visiting link:  https://docs.nav2.org/migration/Iron.html#allow-behavior-server-plugins-to-access-the-action-result\n",
      "Visiting link:  https://docs.nav2.org/migration/Iron.html#smac-planner-debug-param-name-change\n",
      "Visiting link:  https://docs.nav2.org/migration/Iron.html#smac-planner-on-approach-to-goal-shortcutting-solutions\n",
      "Visiting link:  https://docs.nav2.org/migration/Iron.html#added-gps-waypoint-follower-server\n",
      "Visiting link:  https://docs.nav2.org/migration/Iron.html#smac-planner-hybrid-a-new-features\n",
      "Visiting link:  https://docs.nav2.org/migration/Iron.html#new-node-in-nav2-collision-monitor-collision-detector\n",
      "Visiting link:  https://docs.nav2.org/migration/Iron.html#dynamic-enabling-disabling-of-sources-polygons-in-collision-monitor-detector\n",
      "Visiting link:  https://docs.nav2.org/migration/Iron.html#expose-action-server-s-result-timeout\n",
      "Visiting link:  https://docs.nav2.org/migration/Iron.html#rewrittenyaml-could-add-new-parameters-to-yamls\n",
      "Visiting link:  https://docs.nav2.org/migration/Iron.html#simple-commander-api-allows-multi-robot-namespacing\n",
      "Visiting link:  https://docs.nav2.org/migration/Iron.html#change-duration-type-in-wait-action-node\n",
      "Visiting link:  https://docs.nav2.org/migration/Iron.html#the-costmap-activation-fails-when-required-transforms-are-not-available\n",
      "Visiting link:  https://docs.nav2.org/migration/Iron.html#subtrees-obtain-shared-resources\n",
      "Visiting link:  https://docs.nav2.org/migration/Iron.html#collision-monitor-added-watchdog-mechanism-based-on-source-timeout-parameter-with-default-blocking-behavior\n",
      "Visiting link:  https://docs.nav2.org/migration/Iron.html#btactionserver-use-native-library-halttree\n",
      "Visiting link:  https://docs.nav2.org/migration/Iron.html#global-frame-removed-from-2-bt-nodes\n",
      "Visiting link:  https://docs.nav2.org/migration/Iron.html#introduction-of-costmapupdate-msg\n",
      "Visiting link:  https://docs.nav2.org/migration/Iron.html#full-stack-uses-node-clocks\n",
      "Visiting link:  https://docs.nav2.org/migration/Iron.html#new-graceful-motion-controller\n",
      "Visiting link:  https://docs.nav2.org/migration/Iron.html#plugin-libraries-in-bt-navigator-only-includes-custom-nodes\n",
      "Visiting link:  https://docs.nav2.org/migration/Iron.html#new-rviz-plugin-for-selecting-planners-controllers-goal-checkers-progress-checkers-and-smoothers\n",
      "Visiting link:  https://docs.nav2.org/migration/Iron.html#rpp-new-optional-interpolate-curvature-after-goal-behavior-and-fix-conflict-between-use-rotate-to-heading-and-allow-reversing\n",
      "Visiting link:  https://docs.nav2.org/migration/Iron.html#cancel-checker-interface-for-globalplanner\n",
      "Visiting link:  https://docs.nav2.org/migration/Iron.html#new-btactionserver-btnavigator-parameter\n",
      "Visiting link:  https://docs.nav2.org/migration/Iron.html#new-collision-monitor-parameter\n",
      "Visiting link:  https://docs.nav2.org/migration/Iron.html#new-graceful-cancellation-api-for-controllers\n",
      "Visiting link:  https://docs.nav2.org/migration/Iron.html#standardization-of-plugin-naming-with-double-colons\n",
      "Visiting link:  https://docs.nav2.org/migration/Iron.html#collision-monitor-dynamic-radius-for-circle-type-polygons\n",
      "Visiting link:  https://docs.nav2.org/migration/Iron.html#static-layer-new-parameter-footprint-clearing-enabled\n",
      "Visiting link:  https://docs.nav2.org/migration/Iron.html#lifecycle-node-added-bond-heartbeat-period-parameter-and-allow-disabling-the-bond-mechanism\n",
      "Visiting link:  https://docs.nav2.org/migration/Iron.html#rotation-shim-controller-new-parameter-rotate-to-goal-heading\n",
      "Visiting link:  https://docs.nav2.org/migration/Iron.html#mppi-controller-addition-of-acceleration-constraints\n",
      "Visiting link:  https://docs.nav2.org/migration/Iron.html#regulatedpurepursuit-controller-rpp-new-parameter-use-cancel-deceleration\n",
      "Visiting link:  https://docs.nav2.org/migration/Jazzy.html\n",
      "Visiting link:  https://docs.nav2.org/migration/Jazzy.html#twiststamped-default-cmdvel-change\n",
      "Visiting link:  https://docs.nav2.org/migration/Jazzy.html#new-nav2-loopback-simulator\n",
      "Visiting link:  https://docs.nav2.org/migration/Jazzy.html#docking-with-static-infrastructure-or-dynamic-docking\n",
      "Visiting link:  https://docs.nav2.org/migration/Jazzy.html#new-rviz-panel-for-docking\n",
      "Visiting link:  https://docs.nav2.org/migration/Jazzy.html#new-bt-nodes\n",
      "Visiting link:  https://docs.nav2.org/migration/Jazzy.html#new-rviz-tool-for-costmap-cost-cell-inspection\n",
      "Visiting link:  https://docs.nav2.org/migration/Jazzy.html#fix-flickering-visualization\n",
      "Visiting link:  https://docs.nav2.org/migration/Jazzy.html#option-to-limit-velocity-through-dwb-trajectory\n",
      "Visiting link:  https://docs.nav2.org/migration/Jazzy.html#option-to-disable-zero-velocity-publishing-on-goal-exit\n",
      "Visiting link:  https://docs.nav2.org/migration/Jazzy.html#added-optional-collision-checking-for-the-docking-server\n",
      "Visiting link:  https://docs.nav2.org/migration/Jazzy.html#revamped-multirobot-bringup-and-config-files-to-use-namespaces\n",
      "Visiting link:  https://docs.nav2.org/migration/Jazzy.html#removed-global-map-topic-from-costmap-node\n",
      "Visiting link:  https://docs.nav2.org/migration/Jazzy.html#simplified-costmap2dros-constructors\n",
      "Visiting link:  https://docs.nav2.org/commander_api/index.html\n",
      "Visiting link:  https://docs.nav2.org/commander_api/index.html#overview\n",
      "Visiting link:  https://docs.nav2.org/commander_api/index.html#id1\n",
      "Visiting link:  https://docs.nav2.org/commander_api/index.html#costmap-api\n",
      "Visiting link:  https://docs.nav2.org/commander_api/index.html#footprint-collision-checker-api\n",
      "Visiting link:  https://docs.nav2.org/commander_api/index.html#examples-and-demos\n",
      "Visiting link:  https://docs.nav2.org/roadmap/roadmap.html\n",
      "Visiting link:  https://docs.nav2.org/roadmap/roadmap.html#jazzy-roadmap\n",
      "Visiting link:  https://docs.nav2.org/roadmap/roadmap.html#iron-roadmap\n",
      "Visiting link:  https://docs.nav2.org/roadmap/roadmap.html#humble-roadmap\n",
      "Visiting link:  https://docs.nav2.org/about/index.html\n",
      "Visiting link:  https://docs.nav2.org/about/related_projects.html\n",
      "Visiting link:  https://docs.nav2.org/about/index.html#id1\n",
      "Visiting link:  https://docs.nav2.org/about/index.html#contact\n",
      "Visiting link:  https://docs.nav2.org/#lpn\n",
      "Visiting link:  https://docs.nav2.org/#our-sponsors\n",
      "Visiting link:  https://docs.nav2.org/_images/sponsors_feb_2024.png\n"
     ]
    },
    {
     "name": "stderr",
     "output_type": "stream",
     "text": [
      "Some characters could not be decoded, and were replaced with REPLACEMENT CHARACTER.\n",
      "Some characters could not be decoded, and were replaced with REPLACEMENT CHARACTER.\n"
     ]
    },
    {
     "name": "stdout",
     "output_type": "stream",
     "text": [
      "Visiting link:  https://docs.nav2.org/#services\n",
      "Visiting link:  mailto:info%40opennav.org\n",
      "Could not crawl link mailto:info%40opennav.org\n",
      "Visiting link:  https://docs.nav2.org/#overview\n",
      "Visiting link:  https://docs.nav2.org/about/index.html#about\n",
      "Visiting link:  https://docs.nav2.org/concepts/index.html#concepts\n"
     ]
    },
    {
     "name": "stderr",
     "output_type": "stream",
     "text": [
      "Some characters could not be decoded, and were replaced with REPLACEMENT CHARACTER.\n",
      "Some characters could not be decoded, and were replaced with REPLACEMENT CHARACTER.\n"
     ]
    },
    {
     "name": "stdout",
     "output_type": "stream",
     "text": [
      "Visiting link:  https://docs.nav2.org/_images/nav2_architecture.png\n",
      "Visiting link:  https://docs.nav2.org/plugins/index.html#plugins\n",
      "Visiting link:  https://docs.nav2.org/#related-projects\n",
      "Visiting link:  https://docs.nav2.org/#citations\n",
      "Visiting link:  https://moveit.ai/install\n",
      "Visiting link:  https://moveit.ai/install-moveit2/binary/\n",
      "Visiting link:  https://moveit.ai/documentation/applications/\n",
      "Visiting link:  https://moveit.ai/documentation/concepts/\n",
      "Visiting link:  https://moveit.ai/documentation/related_projects/\n",
      "Visiting link:  https://moveit.ai/documentation/plugins/\n",
      "Visiting link:  https://moveit.ai/documentation/planners/\n",
      "Visiting link:  https://moveit.ai/documentation/source-code-api/\n",
      "Visiting link:  https://moveit.ai/about/\n",
      "Visiting link:  https://moveit.ai/robots/\n",
      "Visiting link:  https://moveit.ai/about/citations/\n",
      "Visiting link:  https://moveit.ai/about/distribution/\n",
      "Visiting link:  https://moveit.ai/documentation/faqs/\n",
      "Visiting link:  https://moveit.ai/support/\n",
      "Visiting link:  https://moveit.ai/about/press_kit/\n",
      "Visiting link:  https://moveit.ai/documentation/contributing\n",
      "Visiting link:  https://moveit.ai/documentation/contributing/\n",
      "Visiting link:  https://moveit.ai/events/\n",
      "Visiting link:  https://moveit.ai/documentation/contributing/roadmap/\n",
      "Visiting link:  https://moveit.ai/events/2024-google-summer-of-code/\n",
      "Visiting link:  https://moveit.ai/documentation/contributing/pullrequests/\n",
      "Visiting link:  https://moveit.ai/documentation/contributing/code/\n",
      "Visiting link:  https://moveit.ai/blog/\n",
      "Visiting link:  https://moveit.ai/about/get_involved/\n",
      "Visiting link:  https://moveit.ai/install-moveit2/source/\n",
      "Visiting link:  https://moveit.ai/#release-versions\n",
      "Visiting link:  https://www.ros.org/blog/discord/\n",
      "Visiting link:  https://www.ros.org/imgs/ROSPressKit.zip\n"
     ]
    },
    {
     "name": "stderr",
     "output_type": "stream",
     "text": [
      "Some characters could not be decoded, and were replaced with REPLACEMENT CHARACTER.\n"
     ]
    },
    {
     "name": "stdout",
     "output_type": "stream",
     "text": [
      "Page not found:  https://www.ros.org/imgs/ROSPressKit.zip\n"
     ]
    },
    {
     "name": "stderr",
     "output_type": "stream",
     "text": [
      "Some characters could not be decoded, and were replaced with REPLACEMENT CHARACTER.\n"
     ]
    },
    {
     "name": "stdout",
     "output_type": "stream",
     "text": [
      "Visiting link:  https://www.ros.org/imgs/TrademarkRulesAndGuidelines2022.pdf\n"
     ]
    },
    {
     "name": "stderr",
     "output_type": "stream",
     "text": [
      "Some characters could not be decoded, and were replaced with REPLACEMENT CHARACTER.\n",
      "Some characters could not be decoded, and were replaced with REPLACEMENT CHARACTER.\n"
     ]
    },
    {
     "name": "stdout",
     "output_type": "stream",
     "text": [
      "Page not found:  https://www.ros.org/imgs/TrademarkRulesAndGuidelines2022.pdf\n",
      "Visiting link:  https://www.ros.org/imgs/ROSBrandGuide.pdf\n"
     ]
    },
    {
     "name": "stderr",
     "output_type": "stream",
     "text": [
      "Some characters could not be decoded, and were replaced with REPLACEMENT CHARACTER.\n"
     ]
    },
    {
     "name": "stdout",
     "output_type": "stream",
     "text": [
      "Page not found:  https://www.ros.org/imgs/ROSBrandGuide.pdf\n"
     ]
    },
    {
     "name": "stderr",
     "output_type": "stream",
     "text": [
      "Some characters could not be decoded, and were replaced with REPLACEMENT CHARACTER.\n"
     ]
    },
    {
     "name": "stdout",
     "output_type": "stream",
     "text": [
      "Visiting link:  https://docs.nav2.org/index.html\n",
      "Visiting link:  https://docs.nav2.org/getting_started/index.html#getting-started\n",
      "Visiting link:  https://docs.nav2.org/development_guides/build_docs/index.html#build-instructions\n"
     ]
    },
    {
     "name": "stderr",
     "output_type": "stream",
     "text": [
      "Some characters could not be decoded, and were replaced with REPLACEMENT CHARACTER.\n",
      "Some characters could not be decoded, and were replaced with REPLACEMENT CHARACTER.\n"
     ]
    },
    {
     "name": "stdout",
     "output_type": "stream",
     "text": [
      "Visiting link:  https://docs.nav2.org/_images/rviz-not-started.png\n"
     ]
    },
    {
     "name": "stderr",
     "output_type": "stream",
     "text": [
      "Some characters could not be decoded, and were replaced with REPLACEMENT CHARACTER.\n"
     ]
    },
    {
     "name": "stdout",
     "output_type": "stream",
     "text": [
      "Visiting link:  https://docs.nav2.org/_images/gazebo_turtlebot1.png\n"
     ]
    },
    {
     "name": "stderr",
     "output_type": "stream",
     "text": [
      "Some characters could not be decoded, and were replaced with REPLACEMENT CHARACTER.\n",
      "Some characters could not be decoded, and were replaced with REPLACEMENT CHARACTER.\n",
      "Some characters could not be decoded, and were replaced with REPLACEMENT CHARACTER.\n"
     ]
    },
    {
     "name": "stdout",
     "output_type": "stream",
     "text": [
      "Visiting link:  https://docs.nav2.org/_images/rviz_initial.png\n"
     ]
    },
    {
     "name": "stderr",
     "output_type": "stream",
     "text": [
      "Some characters could not be decoded, and were replaced with REPLACEMENT CHARACTER.\n",
      "Some characters could not be decoded, and were replaced with REPLACEMENT CHARACTER.\n"
     ]
    },
    {
     "name": "stdout",
     "output_type": "stream",
     "text": [
      "Visiting link:  https://docs.nav2.org/_images/rviz-set-initial-pose.png\n"
     ]
    },
    {
     "name": "stderr",
     "output_type": "stream",
     "text": [
      "Some characters could not be decoded, and were replaced with REPLACEMENT CHARACTER.\n"
     ]
    },
    {
     "name": "stdout",
     "output_type": "stream",
     "text": [
      "Visiting link:  https://docs.nav2.org/_images/navstack-ready.png\n"
     ]
    },
    {
     "name": "stderr",
     "output_type": "stream",
     "text": [
      "Some characters could not be decoded, and were replaced with REPLACEMENT CHARACTER.\n",
      "Some characters could not be decoded, and were replaced with REPLACEMENT CHARACTER.\n"
     ]
    },
    {
     "name": "stdout",
     "output_type": "stream",
     "text": [
      "Visiting link:  https://docs.nav2.org/_images/navigate-to-pose.png\n"
     ]
    },
    {
     "name": "stderr",
     "output_type": "stream",
     "text": [
      "Some characters could not be decoded, and were replaced with REPLACEMENT CHARACTER.\n"
     ]
    },
    {
     "name": "stdout",
     "output_type": "stream",
     "text": [
      "Visiting link:  https://docs.nav2.org/_images/navigation_with_recovery_behaviours.gif\n"
     ]
    },
    {
     "name": "stderr",
     "output_type": "stream",
     "text": [
      "Some characters could not be decoded, and were replaced with REPLACEMENT CHARACTER.\n",
      "Some characters could not be decoded, and were replaced with REPLACEMENT CHARACTER.\n"
     ]
    },
    {
     "name": "stdout",
     "output_type": "stream",
     "text": [
      "Visiting link:  https://docs.nav2.org/development_guides/index.html#development-guides\n",
      "Visiting link:  https://docs.nav2.org/development_guides/build_docs/index.html#build-and-install\n",
      "Visiting link:  https://docs.nav2.org/development_guides/devcontainer_docs/index.html#devcontainers\n",
      "Visiting link:  https://docs.nav2.org/development_guides/build_docs/build_troubleshooting_guide.html#build-troubleshooting-guide\n",
      "Visiting link:  https://docs.nav2.org/development_guides/build_docs/build_troubleshooting_guide.html#common-nav2-dependencies-build-failures\n",
      "Visiting link:  https://docs.nav2.org/development_guides/build_docs/build_troubleshooting_guide.html#reporting-issue\n",
      "Visiting link:  https://docs.nav2.org/development_guides/devcontainer_docs/index.html#dev-containers\n",
      "Visiting link:  https://docs.nav2.org/development_guides/devcontainer_docs/devcontainer_guide.html#dev-container-guide\n",
      "Visiting link:  https://docs.nav2.org/development_guides/devcontainer_docs/devcontainer_guide.html#building-the-image\n",
      "Visiting link:  https://docs.nav2.org/development_guides/devcontainer_docs/devcontainer_guide.html#starting-the-container\n",
      "Visiting link:  https://docs.nav2.org/development_guides/devcontainer_docs/devcontainer_guide.html#terminals\n",
      "Visiting link:  https://docs.nav2.org/development_guides/devcontainer_docs/devcontainer_guide.html#lifecycle\n",
      "Visiting link:  https://docs.nav2.org/development_guides/devcontainer_docs/devcontainer_guide.html#rebuilding\n",
      "Visiting link:  https://docs.nav2.org/development_guides/involvement_docs/index.html#getting-involved\n",
      "Visiting link:  https://docs.nav2.org/concepts/index.html#navigation-concepts\n",
      "Visiting link:  https://docs.nav2.org/migration/Eloquent.html#eloquent-migration\n",
      "Visiting link:  https://docs.nav2.org/setup_guides/index.html#first-time-robot-setup-guide\n",
      "Visiting link:  https://docs.nav2.org/configuration/index.html#configuration\n",
      "Visiting link:  https://docs.nav2.org/setup_guides/transformation/setup_transforms.html#setting-up-transformations\n",
      "Visiting link:  https://docs.nav2.org/setup_guides/urdf/setup_urdf.html#urdf-handson\n",
      "Visiting link:  https://docs.nav2.org/setup_guides/urdf/setup_urdf.html#setting-up-the-urdf\n"
     ]
    },
    {
     "name": "stderr",
     "output_type": "stream",
     "text": [
      "Some characters could not be decoded, and were replaced with REPLACEMENT CHARACTER.\n",
      "Some characters could not be decoded, and were replaced with REPLACEMENT CHARACTER.\n"
     ]
    },
    {
     "name": "stdout",
     "output_type": "stream",
     "text": [
      "Visiting link:  https://docs.nav2.org/_images/base-bot_1.png\n",
      "Visiting link:  https://docs.nav2.org/_images/base-bot_2.png\n"
     ]
    },
    {
     "name": "stderr",
     "output_type": "stream",
     "text": [
      "Some characters could not be decoded, and were replaced with REPLACEMENT CHARACTER.\n",
      "Some characters could not be decoded, and were replaced with REPLACEMENT CHARACTER.\n"
     ]
    },
    {
     "name": "stdout",
     "output_type": "stream",
     "text": [
      "Visiting link:  https://docs.nav2.org/setup_guides/odom/setup_odom.html#setting-up-odometry\n"
     ]
    },
    {
     "name": "stderr",
     "output_type": "stream",
     "text": [
      "Some characters could not be decoded, and were replaced with REPLACEMENT CHARACTER.\n",
      "Some characters could not be decoded, and were replaced with REPLACEMENT CHARACTER.\n"
     ]
    },
    {
     "name": "stdout",
     "output_type": "stream",
     "text": [
      "Visiting link:  https://docs.nav2.org/_images/gazebo_sam_bot.png\n",
      "Visiting link:  https://docs.nav2.org/_images/rviz.png\n"
     ]
    },
    {
     "name": "stderr",
     "output_type": "stream",
     "text": [
      "Some characters could not be decoded, and were replaced with REPLACEMENT CHARACTER.\n",
      "Some characters could not be decoded, and were replaced with REPLACEMENT CHARACTER.\n"
     ]
    },
    {
     "name": "stdout",
     "output_type": "stream",
     "text": [
      "Visiting link:  https://docs.nav2.org/setup_guides/sensors/setup_sensors.html#setting-up-sensors\n",
      "Visiting link:  https://docs.nav2.org/setup_guides/sensors/setup_sensors.html#sensor-msgs-laserscan\n",
      "Visiting link:  https://docs.nav2.org/setup_guides/sensors/setup_sensors.html#sensor-msgs-pointcloud2\n",
      "Visiting link:  https://docs.nav2.org/setup_guides/sensors/setup_sensors.html#sensor-msgs-range\n",
      "Visiting link:  https://docs.nav2.org/setup_guides/sensors/setup_sensors.html#sensor-msgs-image\n"
     ]
    },
    {
     "name": "stderr",
     "output_type": "stream",
     "text": [
      "Some characters could not be decoded, and were replaced with REPLACEMENT CHARACTER.\n",
      "Some characters could not be decoded, and were replaced with REPLACEMENT CHARACTER.\n"
     ]
    },
    {
     "name": "stdout",
     "output_type": "stream",
     "text": [
      "Visiting link:  https://docs.nav2.org/_images/add_topic_laserscan.png\n",
      "Visiting link:  https://docs.nav2.org/setup_guides/sensors/setup_sensors.html#launching-description-nodes-rviz-and-gazebo\n",
      "Visiting link:  https://docs.nav2.org/setup_guides/sensors/setup_sensors.html#launching-slam-toolbox\n",
      "Visiting link:  https://docs.nav2.org/setup_guides/sensors/setup_sensors.html#launching-nav2\n",
      "Visiting link:  https://docs.nav2.org/setup_guides/sensors/setup_sensors.html#visualizing-costmaps-in-rviz\n"
     ]
    },
    {
     "name": "stderr",
     "output_type": "stream",
     "text": [
      "Some characters could not be decoded, and were replaced with REPLACEMENT CHARACTER.\n",
      "Some characters could not be decoded, and were replaced with REPLACEMENT CHARACTER.\n"
     ]
    },
    {
     "name": "stdout",
     "output_type": "stream",
     "text": [
      "Visiting link:  https://docs.nav2.org/_images/add_my_marker.png\n",
      "Visiting link:  https://docs.nav2.org/setup_guides/footprint/setup_footprint.html#setting-up-the-robot-s-footprint\n",
      "Visiting link:  https://docs.nav2.org/setup_guides/sensors/setup_sensors.html#setup-sensors\n"
     ]
    },
    {
     "name": "stderr",
     "output_type": "stream",
     "text": [
      "Some characters could not be decoded, and were replaced with REPLACEMENT CHARACTER.\n",
      "Some characters could not be decoded, and were replaced with REPLACEMENT CHARACTER.\n"
     ]
    },
    {
     "name": "stdout",
     "output_type": "stream",
     "text": [
      "Visiting link:  https://docs.nav2.org/_images/add_topic_local_costmap.png\n"
     ]
    },
    {
     "name": "stderr",
     "output_type": "stream",
     "text": [
      "Some characters could not be decoded, and were replaced with REPLACEMENT CHARACTER.\n",
      "Some characters could not be decoded, and were replaced with REPLACEMENT CHARACTER.\n"
     ]
    },
    {
     "name": "stdout",
     "output_type": "stream",
     "text": [
      "Visiting link:  https://docs.nav2.org/_images/add_topic_global_costmap.png\n",
      "Visiting link:  https://docs.nav2.org/setup_guides/algorithm/select_algorithm.html#setting-up-navigation-plugins\n",
      "Visiting link:  https://docs.nav2.org/setup_guides/algorithm/select_algorithm.html#summary\n",
      "Visiting link:  https://docs.nav2.org/setup_guides/algorithm/select_algorithm.html#example-configuration\n",
      "Visiting link:  https://docs.nav2.org/setup_guides/algorithm/select_algorithm.html#id1\n",
      "Visiting link:  https://docs.nav2.org/setup_guides/algorithm/select_algorithm.html#id2\n",
      "Visiting link:  https://docs.nav2.org/about/robots.html#robots-using\n",
      "Visiting link:  https://docs.nav2.org/tutorials/index.html#general-tutorials\n",
      "Visiting link:  https://docs.nav2.org/tutorials/docs/navigation2_on_real_turtlebot3.html#navigating-with-a-physical-turtlebot-3\n",
      "Visiting link:  https://docs.nav2.org/tutorials/docs/navigation2_with_slam.html#navigation2-with-slam\n"
     ]
    },
    {
     "name": "stderr",
     "output_type": "stream",
     "text": [
      "Some characters could not be decoded, and were replaced with REPLACEMENT CHARACTER.\n"
     ]
    },
    {
     "name": "stdout",
     "output_type": "stream",
     "text": [
      "Visiting link:  https://docs.nav2.org/_images/rviz_after_launch_view.png\n"
     ]
    },
    {
     "name": "stderr",
     "output_type": "stream",
     "text": [
      "Some characters could not be decoded, and were replaced with REPLACEMENT CHARACTER.\n",
      "Some characters could not be decoded, and were replaced with REPLACEMENT CHARACTER.\n",
      "Some characters could not be decoded, and were replaced with REPLACEMENT CHARACTER.\n"
     ]
    },
    {
     "name": "stdout",
     "output_type": "stream",
     "text": [
      "Visiting link:  https://docs.nav2.org/_images/rviz_slam_map_view.png\n"
     ]
    },
    {
     "name": "stderr",
     "output_type": "stream",
     "text": [
      "Some characters could not be decoded, and were replaced with REPLACEMENT CHARACTER.\n",
      "Some characters could not be decoded, and were replaced with REPLACEMENT CHARACTER.\n"
     ]
    },
    {
     "name": "stdout",
     "output_type": "stream",
     "text": [
      "Visiting link:  https://docs.nav2.org/_images/rviz_set_initial_pose.png\n"
     ]
    },
    {
     "name": "stderr",
     "output_type": "stream",
     "text": [
      "Some characters could not be decoded, and were replaced with REPLACEMENT CHARACTER.\n",
      "Some characters could not be decoded, and were replaced with REPLACEMENT CHARACTER.\n"
     ]
    },
    {
     "name": "stdout",
     "output_type": "stream",
     "text": [
      "Visiting link:  https://docs.nav2.org/_images/rviz_send_goal.png\n"
     ]
    },
    {
     "name": "stderr",
     "output_type": "stream",
     "text": [
      "Some characters could not be decoded, and were replaced with REPLACEMENT CHARACTER.\n",
      "Some characters could not be decoded, and were replaced with REPLACEMENT CHARACTER.\n"
     ]
    },
    {
     "name": "stdout",
     "output_type": "stream",
     "text": [
      "Visiting link:  https://docs.nav2.org/_images/rviz_robot_navigating.png\n",
      "Visiting link:  https://docs.nav2.org/tutorials/docs/navigation2_with_slam.html#slam-navigating-while-mapping\n",
      "Visiting link:  https://docs.nav2.org/_images/navigation2_with_slam.gif\n"
     ]
    },
    {
     "name": "stderr",
     "output_type": "stream",
     "text": [
      "Some characters could not be decoded, and were replaced with REPLACEMENT CHARACTER.\n"
     ]
    },
    {
     "name": "stdout",
     "output_type": "stream",
     "text": [
      "Page not found:  https://docs.nav2.org/_images/navigation2_with_slam.gif\n"
     ]
    },
    {
     "name": "stderr",
     "output_type": "stream",
     "text": [
      "Some characters could not be decoded, and were replaced with REPLACEMENT CHARACTER.\n"
     ]
    },
    {
     "name": "stdout",
     "output_type": "stream",
     "text": [
      "Visiting link:  https://docs.nav2.org/tutorials/docs/navigation2_with_stvl.html#stvl-using-an-external-costmap-plugin\n",
      "Visiting link:  https://docs.nav2.org/tutorials/docs/navigation2_with_gps.html#navigating-using-gps-localization\n",
      "Visiting link:  https://docs.nav2.org/_images/WGS_84_reference_frame.svg\n",
      "Visiting link:  https://docs.nav2.org/_images/South-America-UTM-zones.png\n"
     ]
    },
    {
     "name": "stderr",
     "output_type": "stream",
     "text": [
      "/usr/local/lib/python3.12/html/parser.py:171: XMLParsedAsHTMLWarning: It looks like you're parsing an XML document using an HTML parser. If this really is an HTML document (maybe it's XHTML?), you can ignore or filter this warning. If it's XML, you should know that using an XML parser will be more reliable. To parse this document as XML, make sure you have the lxml package installed, and pass the keyword argument `features=\"xml\"` into the BeautifulSoup constructor.\n",
      "  k = self.parse_starttag(i)\n",
      "Some characters could not be decoded, and were replaced with REPLACEMENT CHARACTER.\n",
      "Some characters could not be decoded, and were replaced with REPLACEMENT CHARACTER.\n"
     ]
    },
    {
     "name": "stdout",
     "output_type": "stream",
     "text": [
      "Visiting link:  https://docs.nav2.org/_images/gazebo_sonoma_raceway.png\n"
     ]
    },
    {
     "name": "stderr",
     "output_type": "stream",
     "text": [
      "Some characters could not be decoded, and were replaced with REPLACEMENT CHARACTER.\n",
      "Some characters could not be decoded, and were replaced with REPLACEMENT CHARACTER.\n"
     ]
    },
    {
     "name": "stdout",
     "output_type": "stream",
     "text": [
      "Visiting link:  https://docs.nav2.org/tutorials/docs/navigation2_with_gps.html#local-odometry\n",
      "Visiting link:  https://docs.nav2.org/tutorials/docs/navigation2_with_gps.html#global-odometry\n",
      "Visiting link:  https://docs.nav2.org/tutorials/docs/navigation2_with_gps.html#navsat-transform\n",
      "Visiting link:  https://docs.nav2.org/tutorials/docs/navigation2_with_gps.html#localization-testing\n",
      "Visiting link:  https://docs.nav2.org/_images/mapviz_init.png\n"
     ]
    },
    {
     "name": "stderr",
     "output_type": "stream",
     "text": [
      "Some characters could not be decoded, and were replaced with REPLACEMENT CHARACTER.\n",
      "Some characters could not be decoded, and were replaced with REPLACEMENT CHARACTER.\n"
     ]
    },
    {
     "name": "stdout",
     "output_type": "stream",
     "text": [
      "Visiting link:  https://docs.nav2.org/_images/localization_check.gif\n"
     ]
    },
    {
     "name": "stderr",
     "output_type": "stream",
     "text": [
      "Some characters could not be decoded, and were replaced with REPLACEMENT CHARACTER.\n",
      "Some characters could not be decoded, and were replaced with REPLACEMENT CHARACTER.\n"
     ]
    },
    {
     "name": "stdout",
     "output_type": "stream",
     "text": [
      "Visiting link:  https://docs.nav2.org/_images/navigation_check.gif\n"
     ]
    },
    {
     "name": "stderr",
     "output_type": "stream",
     "text": [
      "Some characters could not be decoded, and were replaced with REPLACEMENT CHARACTER.\n",
      "Some characters could not be decoded, and were replaced with REPLACEMENT CHARACTER.\n"
     ]
    },
    {
     "name": "stdout",
     "output_type": "stream",
     "text": [
      "Visiting link:  https://docs.nav2.org/_images/interactive_wpf.gif\n"
     ]
    },
    {
     "name": "stderr",
     "output_type": "stream",
     "text": [
      "Some characters could not be decoded, and were replaced with REPLACEMENT CHARACTER.\n",
      "Some characters could not be decoded, and were replaced with REPLACEMENT CHARACTER.\n"
     ]
    },
    {
     "name": "stdout",
     "output_type": "stream",
     "text": [
      "Visiting link:  https://docs.nav2.org/_images/waypoint_logging.gif\n"
     ]
    },
    {
     "name": "stderr",
     "output_type": "stream",
     "text": [
      "Some characters could not be decoded, and were replaced with REPLACEMENT CHARACTER.\n"
     ]
    },
    {
     "name": "stdout",
     "output_type": "stream",
     "text": [
      "Page not found:  https://docs.nav2.org/_images/waypoint_logging.gif\n"
     ]
    },
    {
     "name": "stderr",
     "output_type": "stream",
     "text": [
      "Some characters could not be decoded, and were replaced with REPLACEMENT CHARACTER.\n"
     ]
    },
    {
     "name": "stdout",
     "output_type": "stream",
     "text": [
      "Visiting link:  https://docs.nav2.org/_images/logged_waypoint_follower.gif\n"
     ]
    },
    {
     "name": "stderr",
     "output_type": "stream",
     "text": [
      "Some characters could not be decoded, and were replaced with REPLACEMENT CHARACTER.\n"
     ]
    },
    {
     "name": "stdout",
     "output_type": "stream",
     "text": [
      "Could not crawl link https://docs.nav2.org/_images/logged_waypoint_follower.gif\n",
      "Visiting link:  https://docs.nav2.org/tutorials/docs/using_groot.html#groot-interacting-with-behavior-trees\n",
      "Visiting link:  https://docs.nav2.org/plugin_tutorials/docs/writing_new_bt_plugin.html#writing-new-nbt-plugin\n",
      "Visiting link:  https://docs.nav2.org/migration/Galactic.html#galactic-migration\n",
      "Visiting link:  https://docs.nav2.org/tutorials/docs/using_groot.html#groot-nav2-default-bt\n",
      "Visiting link:  https://docs.nav2.org/tutorials/docs/using_groot.html#groot-bt-editor\n",
      "Visiting link:  https://docs.nav2.org/tutorials/docs/using_groot.html#groot-bt-editor-with-nodes\n",
      "Visiting link:  https://docs.nav2.org/tutorials/docs/using_groot.html#groot-create-custom-node\n",
      "Visiting link:  https://docs.nav2.org/tutorials/docs/using_groot.html#groot-interactive-node-creation\n",
      "Visiting link:  https://docs.nav2.org/tutorials/docs/using_groot.html#groot-export-new-node\n"
     ]
    },
    {
     "name": "stderr",
     "output_type": "stream",
     "text": [
      "Some characters could not be decoded, and were replaced with REPLACEMENT CHARACTER.\n",
      "Some characters could not be decoded, and were replaced with REPLACEMENT CHARACTER.\n"
     ]
    },
    {
     "name": "stdout",
     "output_type": "stream",
     "text": [
      "Visiting link:  https://docs.nav2.org/_images/groot_export_new_node.png\n",
      "Visiting link:  https://docs.nav2.org/tutorials/docs/integrating_vio.html#using-vio-to-augment-robot-odometry\n"
     ]
    },
    {
     "name": "stderr",
     "output_type": "stream",
     "text": [
      "Some characters could not be decoded, and were replaced with REPLACEMENT CHARACTER.\n"
     ]
    },
    {
     "name": "stdout",
     "output_type": "stream",
     "text": [
      "Visiting link:  https://docs.nav2.org/_images/vio.png\n"
     ]
    },
    {
     "name": "stderr",
     "output_type": "stream",
     "text": [
      "Some characters could not be decoded, and were replaced with REPLACEMENT CHARACTER.\n"
     ]
    },
    {
     "name": "stdout",
     "output_type": "stream",
     "text": [
      "Visiting link:  https://docs.nav2.org/setup_guides/index.html#setup-guides\n",
      "Visiting link:  https://docs.nav2.org/tutorials/docs/navigation2_dynamic_point_following.html#dynamic-object-following\n"
     ]
    },
    {
     "name": "stderr",
     "output_type": "stream",
     "text": [
      "Some characters could not be decoded, and were replaced with REPLACEMENT CHARACTER.\n",
      "Some characters could not be decoded, and were replaced with REPLACEMENT CHARACTER.\n"
     ]
    },
    {
     "name": "stdout",
     "output_type": "stream",
     "text": [
      "Visiting link:  https://docs.nav2.org/_images/main_diagram.png\n",
      "Visiting link:  https://docs.nav2.org/tutorials/docs/navigation2_with_keepout_filter.html#navigating-with-keepout-zones\n"
     ]
    },
    {
     "name": "stderr",
     "output_type": "stream",
     "text": [
      "Some characters could not be decoded, and were replaced with REPLACEMENT CHARACTER.\n",
      "Some characters could not be decoded, and were replaced with REPLACEMENT CHARACTER.\n"
     ]
    },
    {
     "name": "stdout",
     "output_type": "stream",
     "text": [
      "Visiting link:  https://docs.nav2.org/_images/drawing_keepout_mask.png\n",
      "Visiting link:  https://docs.nav2.org/configuration/packages/configuring-map-server.html#configuring-map-server\n",
      "Visiting link:  https://docs.nav2.org/configuration/packages/costmap-plugins/keepout_filter.html#keepout-filter\n",
      "Visiting link:  https://docs.nav2.org/_images/keepout_global.gif\n"
     ]
    },
    {
     "name": "stderr",
     "output_type": "stream",
     "text": [
      "Some characters could not be decoded, and were replaced with REPLACEMENT CHARACTER.\n",
      "Some characters could not be decoded, and were replaced with REPLACEMENT CHARACTER.\n",
      "Some characters could not be decoded, and were replaced with REPLACEMENT CHARACTER.\n",
      "Some characters could not be decoded, and were replaced with REPLACEMENT CHARACTER.\n"
     ]
    },
    {
     "name": "stdout",
     "output_type": "stream",
     "text": [
      "Visiting link:  https://docs.nav2.org/_images/keepout_mask.png\n",
      "Visiting link:  https://docs.nav2.org/tutorials/docs/navigation2_with_speed_filter.html#navigating-with-speed-limits\n",
      "Visiting link:  https://docs.nav2.org/tutorials/docs/navigation2_with_keepout_filter.html#navigation2-with-keepout-filter\n"
     ]
    },
    {
     "name": "stderr",
     "output_type": "stream",
     "text": [
      "Some characters could not be decoded, and were replaced with REPLACEMENT CHARACTER.\n",
      "Some characters could not be decoded, and were replaced with REPLACEMENT CHARACTER.\n"
     ]
    },
    {
     "name": "stdout",
     "output_type": "stream",
     "text": [
      "Visiting link:  https://docs.nav2.org/_images/drawing_speed_mask.png\n",
      "Visiting link:  https://docs.nav2.org/configuration/packages/costmap-plugins/speed_filter.html#speed-filter\n",
      "Visiting link:  https://docs.nav2.org/_images/speed_global.gif\n"
     ]
    },
    {
     "name": "stderr",
     "output_type": "stream",
     "text": [
      "Some characters could not be decoded, and were replaced with REPLACEMENT CHARACTER.\n",
      "Some characters could not be decoded, and were replaced with REPLACEMENT CHARACTER.\n",
      "Some characters could not be decoded, and were replaced with REPLACEMENT CHARACTER.\n",
      "Some characters could not be decoded, and were replaced with REPLACEMENT CHARACTER.\n"
     ]
    },
    {
     "name": "stdout",
     "output_type": "stream",
     "text": [
      "Visiting link:  https://docs.nav2.org/_images/speed_mask.png\n",
      "Visiting link:  https://docs.nav2.org/tutorials/docs/using_docking.html#using-docking-server\n",
      "Visiting link:  https://docs.nav2.org/configuration/packages/configuring-docking-server.html#configuring-docking-server\n",
      "Visiting link:  https://docs.nav2.org/tutorials/docs/using_shim_controller.html#using-rotation-shim-controller\n",
      "Visiting link:  https://docs.nav2.org/tutorials/docs/adding_smoother.html#adding-a-smoother-to-a-bt\n"
     ]
    },
    {
     "name": "stderr",
     "output_type": "stream",
     "text": [
      "Some characters could not be decoded, and were replaced with REPLACEMENT CHARACTER.\n",
      "Some characters could not be decoded, and were replaced with REPLACEMENT CHARACTER.\n"
     ]
    },
    {
     "name": "stdout",
     "output_type": "stream",
     "text": [
      "Visiting link:  https://docs.nav2.org/_images/smoothing_path.png\n",
      "Visiting link:  https://docs.nav2.org/configuration/packages/bt-plugins/actions/Smooth.html#bt-smooth-action\n",
      "Visiting link:  https://docs.nav2.org/tutorials/docs/using_collision_monitor.html#using-collision-monitor\n",
      "Visiting link:  https://docs.nav2.org/_images/collision_monitor.gif\n"
     ]
    },
    {
     "name": "stderr",
     "output_type": "stream",
     "text": [
      "Some characters could not be decoded, and were replaced with REPLACEMENT CHARACTER.\n"
     ]
    },
    {
     "name": "stdout",
     "output_type": "stream",
     "text": [
      "Page not found:  https://docs.nav2.org/_images/collision_monitor.gif\n"
     ]
    },
    {
     "name": "stderr",
     "output_type": "stream",
     "text": [
      "Some characters could not be decoded, and were replaced with REPLACEMENT CHARACTER.\n",
      "Some characters could not be decoded, and were replaced with REPLACEMENT CHARACTER.\n",
      "Some characters could not be decoded, and were replaced with REPLACEMENT CHARACTER.\n"
     ]
    },
    {
     "name": "stdout",
     "output_type": "stream",
     "text": [
      "Visiting link:  https://docs.nav2.org/_images/polygons.png\n",
      "Visiting link:  https://docs.nav2.org/configuration/packages/configuring-collision-monitor.html#configuring-collision-monitor\n",
      "Visiting link:  https://docs.nav2.org/_images/dexory_velocity_polygon.gif\n"
     ]
    },
    {
     "name": "stderr",
     "output_type": "stream",
     "text": [
      "Some characters could not be decoded, and were replaced with REPLACEMENT CHARACTER.\n"
     ]
    },
    {
     "name": "stdout",
     "output_type": "stream",
     "text": [
      "Page not found:  https://docs.nav2.org/_images/dexory_velocity_polygon.gif\n"
     ]
    },
    {
     "name": "stderr",
     "output_type": "stream",
     "text": [
      "Some characters could not be decoded, and were replaced with REPLACEMENT CHARACTER.\n",
      "Some characters could not be decoded, and were replaced with REPLACEMENT CHARACTER.\n",
      "Some characters could not be decoded, and were replaced with REPLACEMENT CHARACTER.\n"
     ]
    },
    {
     "name": "stdout",
     "output_type": "stream",
     "text": [
      "Visiting link:  https://docs.nav2.org/_images/holonomic_direction.png\n",
      "Visiting link:  https://docs.nav2.org/_images/holonomic_examples1.png\n"
     ]
    },
    {
     "name": "stderr",
     "output_type": "stream",
     "text": [
      "Some characters could not be decoded, and were replaced with REPLACEMENT CHARACTER.\n",
      "Some characters could not be decoded, and were replaced with REPLACEMENT CHARACTER.\n",
      "Some characters could not be decoded, and were replaced with REPLACEMENT CHARACTER.\n",
      "Some characters could not be decoded, and were replaced with REPLACEMENT CHARACTER.\n"
     ]
    },
    {
     "name": "stdout",
     "output_type": "stream",
     "text": [
      "Visiting link:  https://docs.nav2.org/_images/polygons_visualization.png\n"
     ]
    },
    {
     "name": "stderr",
     "output_type": "stream",
     "text": [
      "Some characters could not be decoded, and were replaced with REPLACEMENT CHARACTER.\n",
      "Some characters could not be decoded, and were replaced with REPLACEMENT CHARACTER.\n"
     ]
    },
    {
     "name": "stdout",
     "output_type": "stream",
     "text": [
      "Visiting link:  https://docs.nav2.org/_images/collision.png\n",
      "Visiting link:  https://docs.nav2.org/tutorials/docs/adding_a_nav2_task_server.html#adding-a-new-nav2-task-server\n",
      "Visiting link:  https://docs.nav2.org/tutorials/docs/filtering_of_noise-induced_obstacles.html#filtering-of-noise-induced-obstacles\n"
     ]
    },
    {
     "name": "stderr",
     "output_type": "stream",
     "text": [
      "Some characters could not be decoded, and were replaced with REPLACEMENT CHARACTER.\n",
      "Some characters could not be decoded, and were replaced with REPLACEMENT CHARACTER.\n"
     ]
    },
    {
     "name": "stdout",
     "output_type": "stream",
     "text": [
      "Visiting link:  https://docs.nav2.org/_images/title.png\n",
      "Visiting link:  https://docs.nav2.org/configuration/packages/costmap-plugins/denoise.html#denoise\n"
     ]
    },
    {
     "name": "stderr",
     "output_type": "stream",
     "text": [
      "Some characters could not be decoded, and were replaced with REPLACEMENT CHARACTER.\n",
      "Some characters could not be decoded, and were replaced with REPLACEMENT CHARACTER.\n"
     ]
    },
    {
     "name": "stdout",
     "output_type": "stream",
     "text": [
      "Visiting link:  https://docs.nav2.org/_images/3x3_kernels.png\n",
      "Visiting link:  https://docs.nav2.org/_images/dilate.gif\n"
     ]
    },
    {
     "name": "stderr",
     "output_type": "stream",
     "text": [
      "Some characters could not be decoded, and were replaced with REPLACEMENT CHARACTER.\n",
      "Some characters could not be decoded, and were replaced with REPLACEMENT CHARACTER.\n",
      "Some characters could not be decoded, and were replaced with REPLACEMENT CHARACTER.\n",
      "Some characters could not be decoded, and were replaced with REPLACEMENT CHARACTER.\n"
     ]
    },
    {
     "name": "stdout",
     "output_type": "stream",
     "text": [
      "Visiting link:  https://docs.nav2.org/_images/connected_components.gif\n",
      "Visiting link:  https://docs.nav2.org/tutorials/docs/camera_calibration.html#camera-calibration\n"
     ]
    },
    {
     "name": "stderr",
     "output_type": "stream",
     "text": [
      "Some characters could not be decoded, and were replaced with REPLACEMENT CHARACTER.\n",
      "Some characters could not be decoded, and were replaced with REPLACEMENT CHARACTER.\n"
     ]
    },
    {
     "name": "stdout",
     "output_type": "stream",
     "text": [
      "Visiting link:  https://docs.nav2.org/_images/ROS2_topic_hz.png\n"
     ]
    },
    {
     "name": "stderr",
     "output_type": "stream",
     "text": [
      "Some characters could not be decoded, and were replaced with REPLACEMENT CHARACTER.\n"
     ]
    },
    {
     "name": "stdout",
     "output_type": "stream",
     "text": [
      "Visiting link:  https://docs.nav2.org/_images/window1.png\n"
     ]
    },
    {
     "name": "stderr",
     "output_type": "stream",
     "text": [
      "Some characters could not be decoded, and were replaced with REPLACEMENT CHARACTER.\n",
      "Some characters could not be decoded, and were replaced with REPLACEMENT CHARACTER.\n"
     ]
    },
    {
     "name": "stdout",
     "output_type": "stream",
     "text": [
      "Visiting link:  https://docs.nav2.org/_images/calibration.jpg\n"
     ]
    },
    {
     "name": "stderr",
     "output_type": "stream",
     "text": [
      "Some characters could not be decoded, and were replaced with REPLACEMENT CHARACTER.\n"
     ]
    },
    {
     "name": "stdout",
     "output_type": "stream",
     "text": [
      "Visiting link:  https://docs.nav2.org/_images/greenbars.png\n"
     ]
    },
    {
     "name": "stderr",
     "output_type": "stream",
     "text": [
      "Some characters could not be decoded, and were replaced with REPLACEMENT CHARACTER.\n",
      "Some characters could not be decoded, and were replaced with REPLACEMENT CHARACTER.\n"
     ]
    },
    {
     "name": "stdout",
     "output_type": "stream",
     "text": [
      "Visiting link:  https://docs.nav2.org/_images/calibration_complete.png\n"
     ]
    },
    {
     "name": "stderr",
     "output_type": "stream",
     "text": [
      "Some characters could not be decoded, and were replaced with REPLACEMENT CHARACTER.\n",
      "Some characters could not be decoded, and were replaced with REPLACEMENT CHARACTER.\n",
      "Some characters could not be decoded, and were replaced with REPLACEMENT CHARACTER.\n",
      "Some characters could not be decoded, and were replaced with REPLACEMENT CHARACTER.\n"
     ]
    },
    {
     "name": "stdout",
     "output_type": "stream",
     "text": [
      "Visiting link:  https://docs.nav2.org/_images/calibration_parameters.png\n",
      "Visiting link:  https://docs.nav2.org/tutorials/docs/get_backtrace.html#get-backtrace-in-ros-2-nav2\n",
      "Visiting link:  https://docs.nav2.org/tutorials/docs/get_profile.html#profiling-in-ros-2-nav2\n"
     ]
    },
    {
     "name": "stderr",
     "output_type": "stream",
     "text": [
      "Some characters could not be decoded, and were replaced with REPLACEMENT CHARACTER.\n"
     ]
    },
    {
     "name": "stdout",
     "output_type": "stream",
     "text": [
      "Visiting link:  https://docs.nav2.org/_images/kcachegrind.png\n"
     ]
    },
    {
     "name": "stderr",
     "output_type": "stream",
     "text": [
      "Some characters could not be decoded, and were replaced with REPLACEMENT CHARACTER.\n",
      "Some characters could not be decoded, and were replaced with REPLACEMENT CHARACTER.\n",
      "Some characters could not be decoded, and were replaced with REPLACEMENT CHARACTER.\n"
     ]
    },
    {
     "name": "stdout",
     "output_type": "stream",
     "text": [
      "Visiting link:  https://docs.nav2.org/_images/call_graph.png\n",
      "Visiting link:  https://docs.nav2.org/tutorials/docs/docker_dev.html#docker-for-development-zero-to-hero\n",
      "Page not found:  https://docs.nav2.org/tutorials/docs/docker_dev.html#docker-for-development-zero-to-hero\n",
      "Visiting link:  https://docs.nav2.org/plugin_tutorials/index.html#plugin-tutorials\n",
      "Visiting link:  https://docs.nav2.org/plugin_tutorials/docs/writing_new_costmap2d_plugin.html#writing-a-new-costmap2d-plugin\n"
     ]
    },
    {
     "name": "stderr",
     "output_type": "stream",
     "text": [
      "Some characters could not be decoded, and were replaced with REPLACEMENT CHARACTER.\n"
     ]
    },
    {
     "name": "stdout",
     "output_type": "stream",
     "text": [
      "Visiting link:  https://docs.nav2.org/_images/gradient_layer_preview.gif\n"
     ]
    },
    {
     "name": "stderr",
     "output_type": "stream",
     "text": [
      "Some characters could not be decoded, and were replaced with REPLACEMENT CHARACTER.\n",
      "Some characters could not be decoded, and were replaced with REPLACEMENT CHARACTER.\n",
      "Some characters could not be decoded, and were replaced with REPLACEMENT CHARACTER.\n"
     ]
    },
    {
     "name": "stdout",
     "output_type": "stream",
     "text": [
      "Visiting link:  https://docs.nav2.org/_images/gradient_layer_run.png\n",
      "Visiting link:  https://docs.nav2.org/plugin_tutorials/docs/writing_new_nav2planner_plugin.html#writing-a-new-planner-plugin\n"
     ]
    },
    {
     "name": "stderr",
     "output_type": "stream",
     "text": [
      "Some characters could not be decoded, and were replaced with REPLACEMENT CHARACTER.\n"
     ]
    },
    {
     "name": "stdout",
     "output_type": "stream",
     "text": [
      "Visiting link:  https://docs.nav2.org/_images/nav2_straightline_gif.gif\n"
     ]
    },
    {
     "name": "stderr",
     "output_type": "stream",
     "text": [
      "Some characters could not be decoded, and were replaced with REPLACEMENT CHARACTER.\n"
     ]
    },
    {
     "name": "stdout",
     "output_type": "stream",
     "text": [
      "Visiting link:  https://docs.nav2.org/plugin_tutorials/docs/writing_new_nav2controller_plugin.html#writing-a-new-controller-plugin\n",
      "Visiting link:  https://docs.nav2.org/_images/nav2_pure_pursuit_gif.gif\n"
     ]
    },
    {
     "name": "stderr",
     "output_type": "stream",
     "text": [
      "Some characters could not be decoded, and were replaced with REPLACEMENT CHARACTER.\n",
      "Some characters could not be decoded, and were replaced with REPLACEMENT CHARACTER.\n"
     ]
    },
    {
     "name": "stdout",
     "output_type": "stream",
     "text": [
      "Visiting link:  https://docs.nav2.org/plugin_tutorials/docs/writing_new_bt_plugin.html#writing-a-new-behavior-tree-plugin\n",
      "Visiting link:  https://docs.nav2.org/plugin_tutorials/docs/writing_new_behavior_plugin.html#writing-a-new-behavior-plugin\n",
      "Visiting link:  https://docs.nav2.org/plugin_tutorials/docs/writing_new_navigator_plugin.html#writing-a-new-navigator-plugin\n",
      "Visiting link:  https://docs.nav2.org/configuration/index.html#configuration-guide\n",
      "Visiting link:  https://docs.nav2.org/configuration/packages/configuring-bt-navigator.html#behavior-tree-navigator\n",
      "Visiting link:  https://docs.nav2.org/tutorials/docs/using_groot.html#groot-introduction\n",
      "Visiting link:  https://docs.nav2.org/configuration/packages/configuring-bt-xml.html#configuring-behavior-tree-xml\n",
      "Visiting link:  https://docs.nav2.org/configuration/packages/configuring-bt-xml.html#behavior-tree-xml-nodes\n",
      "Visiting link:  https://docs.nav2.org/configuration/packages/bt-plugins/actions/Wait.html#wait\n",
      "Visiting link:  https://docs.nav2.org/configuration/packages/bt-plugins/actions/Wait.html#input-ports\n",
      "Visiting link:  https://docs.nav2.org/configuration/packages/bt-plugins/actions/Wait.html#example\n",
      "Visiting link:  https://docs.nav2.org/configuration/packages/bt-plugins/actions/Spin.html#spin\n",
      "Visiting link:  https://docs.nav2.org/configuration/packages/bt-plugins/actions/Spin.html#input-ports\n",
      "Visiting link:  https://docs.nav2.org/configuration/packages/bt-plugins/actions/Spin.html#output-ports\n",
      "Visiting link:  https://docs.nav2.org/configuration/packages/bt-plugins/actions/Spin.html#example\n",
      "Visiting link:  https://docs.nav2.org/configuration/packages/bt-plugins/actions/BackUp.html#backup\n",
      "Visiting link:  https://docs.nav2.org/configuration/packages/bt-plugins/actions/BackUp.html#input-ports\n",
      "Visiting link:  https://docs.nav2.org/configuration/packages/bt-plugins/actions/BackUp.html#output-ports\n",
      "Visiting link:  https://docs.nav2.org/configuration/packages/bt-plugins/actions/BackUp.html#example\n",
      "Visiting link:  https://docs.nav2.org/configuration/packages/bt-plugins/actions/DriveOnHeading.html#driveonheading\n",
      "Visiting link:  https://docs.nav2.org/configuration/packages/bt-plugins/actions/DriveOnHeading.html#input-ports\n",
      "Visiting link:  https://docs.nav2.org/configuration/packages/bt-plugins/actions/DriveOnHeading.html#output-ports\n",
      "Visiting link:  https://docs.nav2.org/configuration/packages/bt-plugins/actions/DriveOnHeading.html#example\n",
      "Visiting link:  https://docs.nav2.org/configuration/packages/bt-plugins/actions/AssistedTeleop.html#assistedteleop\n",
      "Visiting link:  https://docs.nav2.org/configuration/packages/bt-plugins/actions/AssistedTeleop.html#input-ports\n",
      "Visiting link:  https://docs.nav2.org/configuration/packages/bt-plugins/actions/AssistedTeleop.html#example\n",
      "Visiting link:  https://docs.nav2.org/configuration/packages/bt-plugins/actions/ComputePathToPose.html#computepathtopose\n",
      "Visiting link:  https://docs.nav2.org/configuration/packages/bt-plugins/actions/ComputePathToPose.html#input-ports\n",
      "Visiting link:  https://docs.nav2.org/configuration/packages/bt-plugins/actions/ComputePathToPose.html#output-ports\n",
      "Visiting link:  https://docs.nav2.org/configuration/packages/bt-plugins/actions/ComputePathToPose.html#example\n",
      "Visiting link:  https://docs.nav2.org/configuration/packages/bt-plugins/actions/FollowPath.html#followpath\n",
      "Visiting link:  https://docs.nav2.org/configuration/packages/bt-plugins/actions/FollowPath.html#input-ports\n",
      "Visiting link:  https://docs.nav2.org/configuration/packages/bt-plugins/actions/FollowPath.html#output-ports\n",
      "Visiting link:  https://docs.nav2.org/configuration/packages/bt-plugins/actions/FollowPath.html#example\n",
      "Visiting link:  https://docs.nav2.org/configuration/packages/bt-plugins/actions/NavigateToPose.html#navigatetopose\n",
      "Visiting link:  https://docs.nav2.org/configuration/packages/bt-plugins/actions/NavigateToPose.html#input-ports\n",
      "Visiting link:  https://docs.nav2.org/configuration/packages/bt-plugins/actions/NavigateToPose.html#output-ports\n",
      "Visiting link:  https://docs.nav2.org/configuration/packages/bt-plugins/actions/NavigateToPose.html#example\n",
      "Visiting link:  https://docs.nav2.org/configuration/packages/bt-plugins/actions/ClearEntireCostmap.html#clearentirecostmap\n",
      "Visiting link:  https://docs.nav2.org/configuration/packages/bt-plugins/actions/ClearEntireCostmap.html#input-ports\n",
      "Visiting link:  https://docs.nav2.org/configuration/packages/bt-plugins/actions/ClearEntireCostmap.html#example\n",
      "Visiting link:  https://docs.nav2.org/configuration/packages/bt-plugins/actions/ClearCostmapExceptRegion.html#clearcostmapexceptregion\n",
      "Visiting link:  https://docs.nav2.org/configuration/packages/bt-plugins/actions/ClearCostmapExceptRegion.html#input-ports\n",
      "Visiting link:  https://docs.nav2.org/configuration/packages/bt-plugins/actions/ClearCostmapExceptRegion.html#example\n",
      "Visiting link:  https://docs.nav2.org/configuration/packages/bt-plugins/actions/ClearCostmapAroundRobot.html#clearcostmaparoundrobot\n",
      "Visiting link:  https://docs.nav2.org/configuration/packages/bt-plugins/actions/ClearCostmapAroundRobot.html#input-ports\n",
      "Visiting link:  https://docs.nav2.org/configuration/packages/bt-plugins/actions/ClearCostmapAroundRobot.html#example\n",
      "Visiting link:  https://docs.nav2.org/configuration/packages/bt-plugins/actions/ReinitializeGlobalLocalization.html#reinitializegloballocalization\n",
      "Visiting link:  https://docs.nav2.org/configuration/packages/bt-plugins/actions/ReinitializeGlobalLocalization.html#input-ports\n",
      "Visiting link:  https://docs.nav2.org/configuration/packages/bt-plugins/actions/ReinitializeGlobalLocalization.html#example\n",
      "Visiting link:  https://docs.nav2.org/configuration/packages/bt-plugins/actions/TruncatePath.html#truncatepath\n",
      "Visiting link:  https://docs.nav2.org/configuration/packages/bt-plugins/actions/TruncatePath.html#input-ports\n",
      "Visiting link:  https://docs.nav2.org/configuration/packages/bt-plugins/actions/TruncatePath.html#output-ports\n",
      "Visiting link:  https://docs.nav2.org/configuration/packages/bt-plugins/actions/TruncatePath.html#example\n",
      "Visiting link:  https://docs.nav2.org/configuration/packages/bt-plugins/actions/TruncatePathLocal.html#truncatepathlocal\n",
      "Visiting link:  https://docs.nav2.org/configuration/packages/bt-plugins/actions/TruncatePathLocal.html#input-ports\n",
      "Visiting link:  https://docs.nav2.org/configuration/packages/bt-plugins/actions/TruncatePathLocal.html#output-ports\n",
      "Visiting link:  https://docs.nav2.org/configuration/packages/bt-plugins/actions/TruncatePathLocal.html#example\n",
      "Visiting link:  https://docs.nav2.org/configuration/packages/bt-plugins/actions/PlannerSelector.html#plannerselector\n",
      "Visiting link:  https://docs.nav2.org/configuration/packages/bt-plugins/actions/PlannerSelector.html#input-ports\n",
      "Visiting link:  https://docs.nav2.org/configuration/packages/bt-plugins/actions/PlannerSelector.html#output-ports\n",
      "Visiting link:  https://docs.nav2.org/configuration/packages/bt-plugins/actions/PlannerSelector.html#example\n",
      "Visiting link:  https://docs.nav2.org/configuration/packages/bt-plugins/actions/ControllerSelector.html#controllerselector\n",
      "Visiting link:  https://docs.nav2.org/configuration/packages/bt-plugins/actions/ControllerSelector.html#input-ports\n",
      "Visiting link:  https://docs.nav2.org/configuration/packages/bt-plugins/actions/ControllerSelector.html#output-ports\n",
      "Visiting link:  https://docs.nav2.org/configuration/packages/bt-plugins/actions/ControllerSelector.html#example\n",
      "Visiting link:  https://docs.nav2.org/configuration/packages/bt-plugins/actions/SmootherSelector.html#smootherselector\n",
      "Visiting link:  https://docs.nav2.org/configuration/packages/bt-plugins/actions/SmootherSelector.html#input-ports\n",
      "Visiting link:  https://docs.nav2.org/configuration/packages/bt-plugins/actions/SmootherSelector.html#output-ports\n",
      "Visiting link:  https://docs.nav2.org/configuration/packages/bt-plugins/actions/SmootherSelector.html#example\n",
      "Visiting link:  https://docs.nav2.org/configuration/packages/bt-plugins/actions/GoalCheckerSelector.html#goalcheckerselector\n",
      "Visiting link:  https://docs.nav2.org/configuration/packages/bt-plugins/actions/GoalCheckerSelector.html#input-ports\n",
      "Visiting link:  https://docs.nav2.org/configuration/packages/bt-plugins/actions/GoalCheckerSelector.html#output-ports\n",
      "Visiting link:  https://docs.nav2.org/configuration/packages/bt-plugins/actions/GoalCheckerSelector.html#example\n",
      "Visiting link:  https://docs.nav2.org/configuration/packages/bt-plugins/actions/ProgressCheckerSelector.html#progresscheckerselector\n",
      "Visiting link:  https://docs.nav2.org/configuration/packages/bt-plugins/actions/ProgressCheckerSelector.html#input-ports\n",
      "Visiting link:  https://docs.nav2.org/configuration/packages/bt-plugins/actions/ProgressCheckerSelector.html#output-ports\n",
      "Visiting link:  https://docs.nav2.org/configuration/packages/bt-plugins/actions/ProgressCheckerSelector.html#example\n",
      "Visiting link:  https://docs.nav2.org/configuration/packages/bt-plugins/actions/NavigateThroughPoses.html#navigatethroughposes\n",
      "Visiting link:  https://docs.nav2.org/configuration/packages/bt-plugins/actions/NavigateThroughPoses.html#input-ports\n",
      "Visiting link:  https://docs.nav2.org/configuration/packages/bt-plugins/actions/NavigateThroughPoses.html#output-ports\n",
      "Visiting link:  https://docs.nav2.org/configuration/packages/bt-plugins/actions/NavigateThroughPoses.html#example\n",
      "Visiting link:  https://docs.nav2.org/configuration/packages/bt-plugins/actions/ComputePathThroughPoses.html#computepaththroughposes\n",
      "Visiting link:  https://docs.nav2.org/configuration/packages/bt-plugins/actions/ComputePathThroughPoses.html#input-ports\n",
      "Visiting link:  https://docs.nav2.org/configuration/packages/bt-plugins/actions/ComputePathThroughPoses.html#output-ports\n",
      "Visiting link:  https://docs.nav2.org/configuration/packages/bt-plugins/actions/ComputePathThroughPoses.html#example\n",
      "Visiting link:  https://docs.nav2.org/configuration/packages/bt-plugins/actions/ComputeCoveragePath.html#computecoveragepath\n",
      "Visiting link:  https://docs.nav2.org/configuration/packages/bt-plugins/actions/ComputeCoveragePath.html#input-ports\n",
      "Visiting link:  https://docs.nav2.org/configuration/packages/bt-plugins/actions/ComputeCoveragePath.html#output-ports\n",
      "Visiting link:  https://docs.nav2.org/configuration/packages/bt-plugins/actions/ComputeCoveragePath.html#example\n",
      "Visiting link:  https://docs.nav2.org/configuration/packages/bt-plugins/actions/CancelCoverage.html#cancelcoverage\n",
      "Visiting link:  https://docs.nav2.org/configuration/packages/bt-plugins/actions/CancelCoverage.html#input-ports\n",
      "Visiting link:  https://docs.nav2.org/configuration/packages/bt-plugins/actions/CancelCoverage.html#example\n",
      "Visiting link:  https://docs.nav2.org/configuration/packages/bt-plugins/actions/RemovePassedGoals.html#removepassedgoals\n",
      "Visiting link:  https://docs.nav2.org/configuration/packages/bt-plugins/actions/RemovePassedGoals.html#input-ports\n",
      "Visiting link:  https://docs.nav2.org/configuration/packages/bt-plugins/actions/RemovePassedGoals.html#output-ports\n",
      "Visiting link:  https://docs.nav2.org/configuration/packages/bt-plugins/actions/RemovePassedGoals.html#example\n",
      "Visiting link:  https://docs.nav2.org/configuration/packages/bt-plugins/actions/RemoveInCollisionGoals.html#removeincollisiongoals\n",
      "Visiting link:  https://docs.nav2.org/configuration/packages/bt-plugins/actions/RemoveInCollisionGoals.html#input-ports\n",
      "Visiting link:  https://docs.nav2.org/configuration/packages/bt-plugins/actions/RemoveInCollisionGoals.html#output-ports\n",
      "Visiting link:  https://docs.nav2.org/configuration/packages/bt-plugins/actions/RemoveInCollisionGoals.html#example\n",
      "Visiting link:  https://docs.nav2.org/configuration/packages/bt-plugins/actions/CancelControl.html#cancelcontrol\n",
      "Visiting link:  https://docs.nav2.org/configuration/packages/bt-plugins/actions/CancelControl.html#input-ports\n",
      "Visiting link:  https://docs.nav2.org/configuration/packages/bt-plugins/actions/CancelControl.html#example\n",
      "Visiting link:  https://docs.nav2.org/configuration/packages/bt-plugins/actions/CancelBackUp.html#cancelbackup\n",
      "Visiting link:  https://docs.nav2.org/configuration/packages/bt-plugins/actions/CancelBackUp.html#input-ports\n",
      "Visiting link:  https://docs.nav2.org/configuration/packages/bt-plugins/actions/CancelBackUp.html#example\n",
      "Visiting link:  https://docs.nav2.org/configuration/packages/bt-plugins/actions/CancelSpin.html#cancelspin\n",
      "Visiting link:  https://docs.nav2.org/configuration/packages/bt-plugins/actions/CancelSpin.html#input-ports\n",
      "Visiting link:  https://docs.nav2.org/configuration/packages/bt-plugins/actions/CancelSpin.html#example\n",
      "Visiting link:  https://docs.nav2.org/configuration/packages/bt-plugins/actions/CancelWait.html#cancelwait\n",
      "Visiting link:  https://docs.nav2.org/configuration/packages/bt-plugins/actions/CancelWait.html#input-ports\n",
      "Visiting link:  https://docs.nav2.org/configuration/packages/bt-plugins/actions/CancelWait.html#example\n",
      "Visiting link:  https://docs.nav2.org/configuration/packages/bt-plugins/actions/CancelDriveOnHeading.html#canceldriveonheading\n",
      "Visiting link:  https://docs.nav2.org/configuration/packages/bt-plugins/actions/CancelDriveOnHeading.html#input-ports\n",
      "Visiting link:  https://docs.nav2.org/configuration/packages/bt-plugins/actions/CancelDriveOnHeading.html#example\n",
      "Visiting link:  https://docs.nav2.org/configuration/packages/bt-plugins/actions/CancelAssistedTeleop.html#cancelassistedteleop\n",
      "Visiting link:  https://docs.nav2.org/configuration/packages/bt-plugins/actions/CancelAssistedTeleop.html#input-ports\n",
      "Visiting link:  https://docs.nav2.org/configuration/packages/bt-plugins/actions/CancelAssistedTeleop.html#example\n",
      "Visiting link:  https://docs.nav2.org/configuration/packages/bt-plugins/actions/Smooth.html#smoothpath\n",
      "Visiting link:  https://docs.nav2.org/configuration/packages/bt-plugins/actions/Smooth.html#input-ports\n",
      "Visiting link:  https://docs.nav2.org/configuration/packages/bt-plugins/actions/Smooth.html#output-ports\n",
      "Visiting link:  https://docs.nav2.org/configuration/packages/bt-plugins/actions/Smooth.html#example\n",
      "Visiting link:  https://docs.nav2.org/configuration/packages/bt-plugins/actions/GetPoseFromPath.html#getposefrompath\n",
      "Visiting link:  https://docs.nav2.org/configuration/packages/bt-plugins/actions/GetPoseFromPath.html#input-ports\n",
      "Visiting link:  https://docs.nav2.org/configuration/packages/bt-plugins/actions/GetPoseFromPath.html#output-ports\n",
      "Visiting link:  https://docs.nav2.org/configuration/packages/bt-plugins/actions/GetPoseFromPath.html#example\n",
      "Visiting link:  https://docs.nav2.org/configuration/packages/bt-plugins/actions/DockRobot.html#dockrobot\n",
      "Visiting link:  https://docs.nav2.org/configuration/packages/bt-plugins/actions/DockRobot.html#input-ports\n",
      "Visiting link:  https://docs.nav2.org/configuration/packages/bt-plugins/actions/DockRobot.html#output-ports\n",
      "Visiting link:  https://docs.nav2.org/configuration/packages/bt-plugins/actions/DockRobot.html#example\n",
      "Visiting link:  https://docs.nav2.org/configuration/packages/bt-plugins/actions/UndockRobot.html#undockrobot\n",
      "Visiting link:  https://docs.nav2.org/configuration/packages/bt-plugins/actions/UndockRobot.html#input-ports\n",
      "Visiting link:  https://docs.nav2.org/configuration/packages/bt-plugins/actions/UndockRobot.html#output-ports\n",
      "Visiting link:  https://docs.nav2.org/configuration/packages/bt-plugins/actions/UndockRobot.html#example\n",
      "Visiting link:  https://docs.nav2.org/configuration/packages/bt-plugins/conditions/GoalReached.html#goalreached\n",
      "Visiting link:  https://docs.nav2.org/configuration/packages/bt-plugins/conditions/GoalReached.html#parameter\n",
      "Visiting link:  https://docs.nav2.org/configuration/packages/configuring-bt-navigator.html#configuring-bt-navigator\n",
      "Visiting link:  https://docs.nav2.org/configuration/packages/bt-plugins/conditions/GoalReached.html#example\n",
      "Visiting link:  https://docs.nav2.org/configuration/packages/bt-plugins/conditions/GoalReached.html#input-ports\n",
      "Visiting link:  https://docs.nav2.org/configuration/packages/bt-plugins/conditions/GoalReached.html#id1\n",
      "Visiting link:  https://docs.nav2.org/configuration/packages/bt-plugins/conditions/TransformAvailable.html#transformavailable\n",
      "Visiting link:  https://docs.nav2.org/configuration/packages/bt-plugins/conditions/TransformAvailable.html#input-ports\n",
      "Visiting link:  https://docs.nav2.org/configuration/packages/bt-plugins/conditions/TransformAvailable.html#example\n",
      "Visiting link:  https://docs.nav2.org/configuration/packages/bt-plugins/conditions/DistanceTraveled.html#distancetraveled\n",
      "Visiting link:  https://docs.nav2.org/configuration/packages/bt-plugins/conditions/DistanceTraveled.html#parameters\n",
      "Visiting link:  https://docs.nav2.org/configuration/packages/bt-plugins/conditions/DistanceTraveled.html#example\n",
      "Visiting link:  https://docs.nav2.org/configuration/packages/bt-plugins/conditions/DistanceTraveled.html#input-ports\n",
      "Visiting link:  https://docs.nav2.org/configuration/packages/bt-plugins/conditions/DistanceTraveled.html#id1\n",
      "Visiting link:  https://docs.nav2.org/configuration/packages/bt-plugins/conditions/GoalUpdated.html#goalupdated\n",
      "Visiting link:  https://docs.nav2.org/configuration/packages/bt-plugins/conditions/GoalUpdated.html#input-ports\n",
      "Visiting link:  https://docs.nav2.org/configuration/packages/bt-plugins/conditions/GoalUpdated.html#example\n",
      "Visiting link:  https://docs.nav2.org/configuration/packages/bt-plugins/conditions/GloballyUpdatedGoal.html#globallyupdatedgoal\n",
      "Visiting link:  https://docs.nav2.org/configuration/packages/bt-plugins/conditions/GloballyUpdatedGoal.html#input-ports\n",
      "Visiting link:  https://docs.nav2.org/configuration/packages/bt-plugins/conditions/GloballyUpdatedGoal.html#example\n",
      "Visiting link:  https://docs.nav2.org/configuration/packages/bt-plugins/conditions/InitialPoseReceived.html#initialposereceived\n",
      "Visiting link:  https://docs.nav2.org/configuration/packages/bt-plugins/conditions/InitialPoseReceived.html#input-ports\n",
      "Visiting link:  https://docs.nav2.org/configuration/packages/bt-plugins/conditions/InitialPoseReceived.html#example\n",
      "Visiting link:  https://docs.nav2.org/configuration/packages/bt-plugins/conditions/IsStuck.html#isstuck\n",
      "Visiting link:  https://docs.nav2.org/configuration/packages/bt-plugins/conditions/IsStuck.html#example\n",
      "Visiting link:  https://docs.nav2.org/configuration/packages/bt-plugins/conditions/IsStopped.html#isstopped\n",
      "Visiting link:  https://docs.nav2.org/configuration/packages/bt-plugins/conditions/IsStopped.html#input-port\n",
      "Visiting link:  https://docs.nav2.org/configuration/packages/bt-plugins/conditions/IsStopped.html#example\n",
      "Visiting link:  https://docs.nav2.org/configuration/packages/bt-plugins/conditions/TimeExpired.html#timeexpired\n",
      "Visiting link:  https://docs.nav2.org/configuration/packages/bt-plugins/conditions/TimeExpired.html#example\n",
      "Visiting link:  https://docs.nav2.org/configuration/packages/bt-plugins/conditions/IsBatteryLow.html#isbatterylow\n",
      "Visiting link:  https://docs.nav2.org/configuration/packages/bt-plugins/conditions/IsBatteryLow.html#example\n",
      "Visiting link:  https://docs.nav2.org/configuration/packages/bt-plugins/conditions/IsPathValid.html#ispathvalid\n",
      "Visiting link:  https://docs.nav2.org/configuration/packages/bt-plugins/conditions/IsPathValid.html#example\n",
      "Visiting link:  https://docs.nav2.org/configuration/packages/bt-plugins/conditions/PathExpiringTimer.html#pathexpiringtimer\n",
      "Visiting link:  https://docs.nav2.org/configuration/packages/bt-plugins/conditions/PathExpiringTimer.html#example\n",
      "Visiting link:  https://docs.nav2.org/configuration/packages/bt-plugins/conditions/AreErrorCodesPresent.html#areerrorcodespresent\n",
      "Visiting link:  https://docs.nav2.org/configuration/packages/bt-plugins/conditions/AreErrorCodesPresent.html#input-ports\n",
      "Visiting link:  https://docs.nav2.org/configuration/packages/bt-plugins/conditions/AreErrorCodesPresent.html#example\n",
      "Visiting link:  https://docs.nav2.org/configuration/packages/bt-plugins/conditions/WouldAControllerRecoveryHelp.html#wouldacontrollerrecoveryhelp\n",
      "Visiting link:  https://docs.nav2.org/configuration/packages/bt-plugins/conditions/WouldAControllerRecoveryHelp.html#input-port\n",
      "Visiting link:  https://docs.nav2.org/configuration/packages/bt-plugins/conditions/WouldAControllerRecoveryHelp.html#example\n",
      "Visiting link:  https://docs.nav2.org/configuration/packages/bt-plugins/conditions/WouldAPlannerRecoveryHelp.html#wouldaplannerrecoveryhelp\n",
      "Visiting link:  https://docs.nav2.org/configuration/packages/bt-plugins/conditions/WouldAPlannerRecoveryHelp.html#input-port\n",
      "Visiting link:  https://docs.nav2.org/configuration/packages/bt-plugins/conditions/WouldAPlannerRecoveryHelp.html#example\n",
      "Visiting link:  https://docs.nav2.org/configuration/packages/bt-plugins/conditions/WouldASmootherRecoveryHelp.html#wouldasmootherrecoveryhelp\n",
      "Visiting link:  https://docs.nav2.org/configuration/packages/bt-plugins/conditions/WouldASmootherRecoveryHelp.html#input-port\n",
      "Visiting link:  https://docs.nav2.org/configuration/packages/bt-plugins/conditions/WouldASmootherRecoveryHelp.html#example\n",
      "Visiting link:  https://docs.nav2.org/configuration/packages/bt-plugins/conditions/IsBatteryCharging.html#isbatterycharging\n",
      "Visiting link:  https://docs.nav2.org/configuration/packages/bt-plugins/conditions/IsBatteryCharging.html#example\n",
      "Visiting link:  https://docs.nav2.org/configuration/packages/bt-plugins/controls/PipelineSequence.html#pipelinesequence\n",
      "Visiting link:  https://docs.nav2.org/configuration/packages/bt-plugins/controls/PipelineSequence.html#example\n",
      "Visiting link:  https://docs.nav2.org/configuration/packages/bt-plugins/controls/RoundRobin.html#roundrobin\n",
      "Visiting link:  https://docs.nav2.org/configuration/packages/bt-plugins/controls/RoundRobin.html#example\n",
      "Visiting link:  https://docs.nav2.org/configuration/packages/bt-plugins/controls/RecoveryNode.html#recoverynode\n",
      "Visiting link:  https://docs.nav2.org/configuration/packages/bt-plugins/controls/RecoveryNode.html#input-ports\n",
      "Visiting link:  https://docs.nav2.org/configuration/packages/bt-plugins/controls/RecoveryNode.html#example\n",
      "Visiting link:  https://docs.nav2.org/configuration/packages/bt-plugins/decorators/RateController.html#ratecontroller\n",
      "Visiting link:  https://docs.nav2.org/configuration/packages/bt-plugins/decorators/RateController.html#input-ports\n",
      "Visiting link:  https://docs.nav2.org/configuration/packages/bt-plugins/decorators/RateController.html#example\n",
      "Visiting link:  https://docs.nav2.org/configuration/packages/bt-plugins/decorators/DistanceController.html#distancecontroller\n",
      "Visiting link:  https://docs.nav2.org/configuration/packages/bt-plugins/decorators/DistanceController.html#input-ports\n",
      "Visiting link:  https://docs.nav2.org/configuration/packages/bt-plugins/decorators/DistanceController.html#example\n",
      "Visiting link:  https://docs.nav2.org/configuration/packages/bt-plugins/decorators/SpeedController.html#speedcontroller\n",
      "Visiting link:  https://docs.nav2.org/configuration/packages/bt-plugins/decorators/SpeedController.html#input-ports\n",
      "Visiting link:  https://docs.nav2.org/configuration/packages/bt-plugins/decorators/SpeedController.html#example\n",
      "Visiting link:  https://docs.nav2.org/configuration/packages/bt-plugins/decorators/GoalUpdater.html#goalupdater\n",
      "Visiting link:  https://docs.nav2.org/configuration/packages/bt-plugins/decorators/GoalUpdater.html#parameters\n",
      "Visiting link:  https://docs.nav2.org/configuration/packages/bt-plugins/decorators/GoalUpdater.html#input-ports\n",
      "Visiting link:  https://docs.nav2.org/configuration/packages/bt-plugins/decorators/GoalUpdater.html#example\n",
      "Visiting link:  https://docs.nav2.org/configuration/packages/bt-plugins/decorators/PathLongerOnApproach.html#pathlongeronapproach\n",
      "Visiting link:  https://docs.nav2.org/configuration/packages/bt-plugins/decorators/PathLongerOnApproach.html#input-ports\n",
      "Visiting link:  https://docs.nav2.org/configuration/packages/bt-plugins/decorators/PathLongerOnApproach.html#example\n",
      "Visiting link:  https://docs.nav2.org/configuration/packages/bt-plugins/decorators/SingleTrigger.html#singletrigger\n",
      "Visiting link:  https://docs.nav2.org/configuration/packages/bt-plugins/decorators/SingleTrigger.html#example\n",
      "Visiting link:  https://docs.nav2.org/configuration/packages/configuring-costmaps.html#costmap-2d\n",
      "Visiting link:  https://docs.nav2.org/configuration/packages/costmap-plugins/static.html#static-layer-parameters\n",
      "Visiting link:  https://docs.nav2.org/configuration/packages/costmap-plugins/inflation.html#inflation-layer-parameters\n",
      "Visiting link:  https://docs.nav2.org/configuration/packages/costmap-plugins/obstacle.html#obstacle-layer-parameters\n",
      "Visiting link:  https://docs.nav2.org/configuration/packages/costmap-plugins/voxel.html#voxel-layer-parameters\n",
      "Visiting link:  https://docs.nav2.org/configuration/packages/costmap-plugins/range.html#range-sensor-parameters\n",
      "Visiting link:  https://docs.nav2.org/configuration/packages/costmap-plugins/denoise.html#denoise-layer-parameters\n",
      "Visiting link:  https://docs.nav2.org/configuration/packages/costmap-plugins/denoise.html#example\n",
      "Visiting link:  https://docs.nav2.org/configuration/packages/costmap-plugins/keepout_filter.html#keepout-filter-parameters\n",
      "Visiting link:  https://docs.nav2.org/configuration/packages/costmap-plugins/keepout_filter.html#example\n",
      "Visiting link:  https://docs.nav2.org/configuration/packages/costmap-plugins/speed_filter.html#speed-filter-parameters\n",
      "Visiting link:  https://docs.nav2.org/configuration/packages/configuring-controller-server.html#configuring-controller-server\n",
      "Visiting link:  https://docs.nav2.org/configuration/packages/costmap-plugins/speed_filter.html#example\n",
      "Visiting link:  https://docs.nav2.org/configuration/packages/costmap-plugins/binary_filter.html#binary-filter-parameters\n",
      "Visiting link:  https://docs.nav2.org/configuration/packages/costmap-plugins/binary_filter.html#example\n",
      "Visiting link:  https://docs.nav2.org/configuration/packages/configuring-lifecycle.html#lifecycle-manager\n",
      "Visiting link:  https://docs.nav2.org/configuration/packages/configuring-planner-server.html#planner-server\n",
      "Visiting link:  https://docs.nav2.org/configuration/packages/configuring-coverage-server.html#coverage-server\n",
      "Visiting link:  https://docs.nav2.org/configuration/packages/configuring-coverage-server.html#id1\n",
      "Visiting link:  https://docs.nav2.org/configuration/packages/configuring-navfn.html#navfn-planner\n",
      "Visiting link:  https://docs.nav2.org/configuration/packages/configuring-smac-planner.html#smac-planner\n",
      "Visiting link:  https://docs.nav2.org/configuration/packages/configuring-smac-planner.html#id1\n",
      "Visiting link:  https://docs.nav2.org/configuration/packages/smac/configuring-smac-2d.html#smac-2d-planner\n"
     ]
    },
    {
     "name": "stderr",
     "output_type": "stream",
     "text": [
      "Some characters could not be decoded, and were replaced with REPLACEMENT CHARACTER.\n"
     ]
    },
    {
     "name": "stdout",
     "output_type": "stream",
     "text": [
      "Visiting link:  https://docs.nav2.org/_images/2d_test.png\n"
     ]
    },
    {
     "name": "stderr",
     "output_type": "stream",
     "text": [
      "Some characters could not be decoded, and were replaced with REPLACEMENT CHARACTER.\n"
     ]
    },
    {
     "name": "stdout",
     "output_type": "stream",
     "text": [
      "Visiting link:  https://docs.nav2.org/configuration/packages/smac/configuring-smac-2d.html#parameters\n",
      "Visiting link:  https://docs.nav2.org/configuration/packages/smac/configuring-smac-2d.html#example\n",
      "Visiting link:  https://docs.nav2.org/configuration/packages/smac/configuring-smac-hybrid.html#smac-hybrid-a-planner\n"
     ]
    },
    {
     "name": "stderr",
     "output_type": "stream",
     "text": [
      "Some characters could not be decoded, and were replaced with REPLACEMENT CHARACTER.\n"
     ]
    },
    {
     "name": "stdout",
     "output_type": "stream",
     "text": [
      "Visiting link:  https://docs.nav2.org/_images/hybrid_144.png\n"
     ]
    },
    {
     "name": "stderr",
     "output_type": "stream",
     "text": [
      "Some characters could not be decoded, and were replaced with REPLACEMENT CHARACTER.\n"
     ]
    },
    {
     "name": "stdout",
     "output_type": "stream",
     "text": [
      "Visiting link:  https://docs.nav2.org/configuration/packages/smac/configuring-smac-hybrid.html#parameters\n",
      "Visiting link:  https://docs.nav2.org/configuration/packages/smac/configuring-smac-hybrid.html#example\n",
      "Visiting link:  https://docs.nav2.org/configuration/packages/smac/configuring-smac-lattice.html#smac-state-lattice-planner\n"
     ]
    },
    {
     "name": "stderr",
     "output_type": "stream",
     "text": [
      "Some characters could not be decoded, and were replaced with REPLACEMENT CHARACTER.\n",
      "Some characters could not be decoded, and were replaced with REPLACEMENT CHARACTER.\n"
     ]
    },
    {
     "name": "stdout",
     "output_type": "stream",
     "text": [
      "Visiting link:  https://docs.nav2.org/_images/state_reverse.png\n",
      "Visiting link:  https://docs.nav2.org/configuration/packages/smac/configuring-smac-lattice.html#parameters\n",
      "Visiting link:  https://docs.nav2.org/configuration/packages/smac/configuring-smac-lattice.html#example\n",
      "Visiting link:  https://docs.nav2.org/configuration/packages/configuring-thetastar.html#theta-star-planner\n",
      "Visiting link:  https://docs.nav2.org/_images/00-37.png\n"
     ]
    },
    {
     "name": "stderr",
     "output_type": "stream",
     "text": [
      "Some characters could not be decoded, and were replaced with REPLACEMENT CHARACTER.\n",
      "Some characters could not be decoded, and were replaced with REPLACEMENT CHARACTER.\n"
     ]
    },
    {
     "name": "stdout",
     "output_type": "stream",
     "text": [
      "Visiting link:  https://docs.nav2.org/configuration/packages/configuring-controller-server.html#controller-server\n",
      "Visiting link:  https://docs.nav2.org/configuration/packages/nav2_controller-plugins/simple_progress_checker.html#simpleprogresschecker\n",
      "Visiting link:  https://docs.nav2.org/configuration/packages/nav2_controller-plugins/simple_progress_checker.html#parameters\n",
      "Visiting link:  https://docs.nav2.org/configuration/packages/nav2_controller-plugins/pose_progress_checker.html#poseprogresschecker\n",
      "Visiting link:  https://docs.nav2.org/configuration/packages/nav2_controller-plugins/pose_progress_checker.html#parameters\n",
      "Visiting link:  https://docs.nav2.org/configuration/packages/nav2_controller-plugins/simple_goal_checker.html#simplegoalchecker\n",
      "Visiting link:  https://docs.nav2.org/configuration/packages/nav2_controller-plugins/simple_goal_checker.html#parameters\n",
      "Visiting link:  https://docs.nav2.org/configuration/packages/nav2_controller-plugins/stopped_goal_checker.html#stoppedgoalchecker\n",
      "Visiting link:  https://docs.nav2.org/configuration/packages/nav2_controller-plugins/stopped_goal_checker.html#parameters\n",
      "Visiting link:  https://docs.nav2.org/configuration/packages/configuring-dwb-controller.html#dwb-controller\n",
      "Visiting link:  https://docs.nav2.org/configuration/packages/dwb-params/controller.html#dwb-controller\n",
      "Visiting link:  https://docs.nav2.org/configuration/packages/dwb-params/controller.html#parameters\n",
      "Visiting link:  https://docs.nav2.org/configuration/packages/dwb-params/iterator.html#xytheta-iterator\n",
      "Visiting link:  https://docs.nav2.org/configuration/packages/dwb-params/iterator.html#parameters\n",
      "Visiting link:  https://docs.nav2.org/configuration/packages/dwb-params/kinematic.html#kinematic-parameters\n",
      "Visiting link:  https://docs.nav2.org/configuration/packages/dwb-params/kinematic.html#parameters\n",
      "Visiting link:  https://docs.nav2.org/configuration/packages/dwb-params/visualization.html#publisher\n",
      "Visiting link:  https://docs.nav2.org/configuration/packages/dwb-params/visualization.html#parameters\n",
      "Visiting link:  https://docs.nav2.org/configuration/packages/dwb-plugins/limited_accel_generator.html#limitedaccelgenerator\n",
      "Visiting link:  https://docs.nav2.org/configuration/packages/dwb-plugins/limited_accel_generator.html#parameters\n",
      "Visiting link:  https://docs.nav2.org/configuration/packages/dwb-plugins/standard_traj_generator.html#standardtrajectorygenerator\n",
      "Visiting link:  https://docs.nav2.org/configuration/packages/dwb-plugins/standard_traj_generator.html#parameters\n",
      "Visiting link:  https://docs.nav2.org/configuration/packages/trajectory_critics/base_obstacle.html#baseobstaclecritic\n",
      "Visiting link:  https://docs.nav2.org/configuration/packages/trajectory_critics/base_obstacle.html#parameters\n",
      "Visiting link:  https://docs.nav2.org/configuration/packages/trajectory_critics/goal_align.html#goalaligncritic\n",
      "Visiting link:  https://docs.nav2.org/configuration/packages/trajectory_critics/goal_align.html#parameters\n",
      "Visiting link:  https://docs.nav2.org/configuration/packages/trajectory_critics/goal_dist.html#goaldistcritic\n",
      "Visiting link:  https://docs.nav2.org/configuration/packages/trajectory_critics/goal_dist.html#parameters\n",
      "Visiting link:  https://docs.nav2.org/configuration/packages/trajectory_critics/obstacle_footprint.html#obstaclefootprintcritic\n",
      "Visiting link:  https://docs.nav2.org/configuration/packages/trajectory_critics/obstacle_footprint.html#parameters\n",
      "Visiting link:  https://docs.nav2.org/configuration/packages/trajectory_critics/oscillation.html#oscillationcritic\n",
      "Visiting link:  https://docs.nav2.org/configuration/packages/trajectory_critics/oscillation.html#parameters\n",
      "Visiting link:  https://docs.nav2.org/configuration/packages/trajectory_critics/path_align.html#pathaligncritic\n",
      "Visiting link:  https://docs.nav2.org/configuration/packages/trajectory_critics/path_align.html#parameters\n",
      "Visiting link:  https://docs.nav2.org/configuration/packages/trajectory_critics/path_dist.html#pathdistcritic\n",
      "Visiting link:  https://docs.nav2.org/configuration/packages/trajectory_critics/path_dist.html#parameters\n",
      "Visiting link:  https://docs.nav2.org/configuration/packages/trajectory_critics/prefer_forward.html#preferforwardcritic\n",
      "Visiting link:  https://docs.nav2.org/configuration/packages/trajectory_critics/prefer_forward.html#parameters\n",
      "Visiting link:  https://docs.nav2.org/configuration/packages/trajectory_critics/rotate_to_goal.html#rotatetogoalcritic\n",
      "Visiting link:  https://docs.nav2.org/configuration/packages/trajectory_critics/rotate_to_goal.html#parameters\n",
      "Visiting link:  https://docs.nav2.org/configuration/packages/trajectory_critics/twirling.html#twirlingcritic\n",
      "Visiting link:  https://docs.nav2.org/configuration/packages/trajectory_critics/twirling.html#parameters\n",
      "Visiting link:  https://docs.nav2.org/configuration/packages/configuring-regulated-pp.html#regulated-pure-pursuit\n",
      "Visiting link:  https://docs.nav2.org/configuration/packages/configuring-smac-planner.html#configuring-smac-planner\n",
      "Visiting link:  https://docs.nav2.org/configuration/packages/configuring-mppic.html#model-predictive-path-integral-controller\n",
      "Visiting link:  https://docs.nav2.org/_images/mppi_demo.gif\n"
     ]
    },
    {
     "name": "stderr",
     "output_type": "stream",
     "text": [
      "Some characters could not be decoded, and were replaced with REPLACEMENT CHARACTER.\n"
     ]
    },
    {
     "name": "stdout",
     "output_type": "stream",
     "text": [
      "Page not found:  https://docs.nav2.org/_images/mppi_demo.gif\n"
     ]
    },
    {
     "name": "stderr",
     "output_type": "stream",
     "text": [
      "Some characters could not be decoded, and were replaced with REPLACEMENT CHARACTER.\n"
     ]
    },
    {
     "name": "stdout",
     "output_type": "stream",
     "text": [
      "Visiting link:  https://docs.nav2.org/configuration/packages/configuring-rotation-shim-controller.html#rotation-shim-controller\n",
      "Visiting link:  https://docs.nav2.org/configuration/packages/configuring-graceful-motion-controller.html#graceful-controller\n",
      "Visiting link:  https://docs.nav2.org/configuration/packages/configuring-map-server.html#map-server-saver\n",
      "Visiting link:  https://docs.nav2.org/configuration/packages/configuring-amcl.html#amcl\n",
      "Visiting link:  https://docs.nav2.org/configuration/packages/configuring-behavior-server.html#behavior-server\n",
      "Visiting link:  https://docs.nav2.org/configuration/packages/configuring-smoother-server.html#smoother-server\n",
      "Visiting link:  https://docs.nav2.org/configuration/packages/configuring-simple-smoother.html#simple-smoother\n",
      "Visiting link:  https://docs.nav2.org/configuration/packages/configuring-savitzky-golay-smoother.html#savitzky-golay-smoother\n",
      "Visiting link:  https://docs.nav2.org/configuration/packages/configuring-constrained-smoother.html#constrained-smoother\n"
     ]
    },
    {
     "name": "stderr",
     "output_type": "stream",
     "text": [
      "Some characters could not be decoded, and were replaced with REPLACEMENT CHARACTER.\n",
      "Some characters could not be decoded, and were replaced with REPLACEMENT CHARACTER.\n"
     ]
    },
    {
     "name": "stdout",
     "output_type": "stream",
     "text": [
      "Visiting link:  https://docs.nav2.org/_images/constrained_smoother.png\n"
     ]
    },
    {
     "name": "stderr",
     "output_type": "stream",
     "text": [
      "Some characters could not be decoded, and were replaced with REPLACEMENT CHARACTER.\n",
      "Some characters could not be decoded, and were replaced with REPLACEMENT CHARACTER.\n"
     ]
    },
    {
     "name": "stdout",
     "output_type": "stream",
     "text": [
      "Visiting link:  https://docs.nav2.org/_images/w_cost_cusp_multiplier.png\n"
     ]
    },
    {
     "name": "stderr",
     "output_type": "stream",
     "text": [
      "Some characters could not be decoded, and were replaced with REPLACEMENT CHARACTER.\n",
      "Some characters could not be decoded, and were replaced with REPLACEMENT CHARACTER.\n"
     ]
    },
    {
     "name": "stdout",
     "output_type": "stream",
     "text": [
      "Visiting link:  https://docs.nav2.org/_images/cost_check_points.png\n",
      "Visiting link:  https://docs.nav2.org/configuration/packages/configuring-velocity-smoother.html#velocity-smoother\n",
      "Visiting link:  https://docs.nav2.org/configuration/packages/configuring-collision-monitor.html#collision-monitor\n",
      "Visiting link:  https://docs.nav2.org/configuration/packages/collision_monitor/configuring-collision-monitor-node.html#collision-monitor-node\n",
      "Visiting link:  https://docs.nav2.org/tutorials/docs/using_collision_monitor.html#collision-monitor-tutorial\n",
      "Visiting link:  https://docs.nav2.org/configuration/packages/collision_monitor/configuring-collision-monitor-node.html#features\n",
      "Visiting link:  https://docs.nav2.org/configuration/packages/collision_monitor/configuring-collision-monitor-node.html#parameters\n",
      "Visiting link:  https://docs.nav2.org/configuration/packages/collision_monitor/configuring-collision-monitor-node.html#polygons-parameters\n",
      "Visiting link:  https://docs.nav2.org/configuration/packages/collision_monitor/configuring-collision-monitor-node.html#velocitypolygon-parameters\n",
      "Visiting link:  https://docs.nav2.org/configuration/packages/collision_monitor/configuring-collision-monitor-node.html#example\n",
      "Visiting link:  https://docs.nav2.org/configuration/packages/collision_monitor/configuring-collision-monitor-node.html#observation-sources-parameters\n",
      "Visiting link:  https://docs.nav2.org/_images/holonomic_examples.png\n"
     ]
    },
    {
     "name": "stderr",
     "output_type": "stream",
     "text": [
      "Some characters could not be decoded, and were replaced with REPLACEMENT CHARACTER.\n",
      "Some characters could not be decoded, and were replaced with REPLACEMENT CHARACTER.\n"
     ]
    },
    {
     "name": "stdout",
     "output_type": "stream",
     "text": [
      "Visiting link:  https://docs.nav2.org/configuration/packages/collision_monitor/configuring-collision-detector-node.html#collision-detector-node\n",
      "Visiting link:  https://docs.nav2.org/configuration/packages/collision_monitor/configuring-collision-detector-node.html#features\n",
      "Visiting link:  https://docs.nav2.org/configuration/packages/collision_monitor/configuring-collision-detector-node.html#parameters\n",
      "Visiting link:  https://docs.nav2.org/configuration/packages/collision_monitor/configuring-collision-detector-node.html#polygons-parameters\n",
      "Visiting link:  https://docs.nav2.org/configuration/packages/collision_monitor/configuring-collision-detector-node.html#observation-sources-parameters\n",
      "Visiting link:  https://docs.nav2.org/configuration/packages/collision_monitor/configuring-collision-detector-node.html#example\n",
      "Visiting link:  https://docs.nav2.org/configuration/packages/configuring-waypoint-follower.html#waypoint-follower\n",
      "Visiting link:  https://docs.nav2.org/configuration/packages/nav2_waypoint_follower-plugins/wait_at_waypoint.html#waitatwaypoint\n",
      "Visiting link:  https://docs.nav2.org/configuration/packages/nav2_waypoint_follower-plugins/wait_at_waypoint.html#parameters\n",
      "Visiting link:  https://docs.nav2.org/configuration/packages/configuring-waypoint-follower.html#configuring-waypoint-follower\n",
      "Visiting link:  https://docs.nav2.org/configuration/packages/nav2_waypoint_follower-plugins/photo_at_waypoint.html#photoatwaypoint\n",
      "Visiting link:  https://docs.nav2.org/configuration/packages/nav2_waypoint_follower-plugins/photo_at_waypoint.html#parameters\n",
      "Visiting link:  https://docs.nav2.org/configuration/packages/nav2_waypoint_follower-plugins/input_at_waypoint.html#inputatwaypoint\n",
      "Visiting link:  https://docs.nav2.org/configuration/packages/nav2_waypoint_follower-plugins/input_at_waypoint.html#parameters\n",
      "Visiting link:  https://docs.nav2.org/configuration/packages/configuring-loopback-sim.html#loopback-simulator\n",
      "Visiting link:  https://docs.nav2.org/configuration/packages/configuring-docking-server.html#docking-server\n",
      "Visiting link:  https://docs.nav2.org/configuration/packages/configuring-docking-server.html#id1\n",
      "Visiting link:  https://docs.nav2.org/configuration/packages/configuring-docking-server.html#id3\n",
      "Visiting link:  https://docs.nav2.org/tuning/index.html#tuning-guide\n",
      "Visiting link:  https://docs.nav2.org/configuration/packages/configuring-rotation-shim-controller.html#configuring-rotation-shim\n",
      "Visiting link:  https://docs.nav2.org/setup_guides/algorithm/select_algorithm.html#select-algorithm\n",
      "Visiting link:  https://docs.nav2.org/plugin_tutorials/docs/writing_new_nav2planner_plugin.html#writing-new-nav2planner-plugin\n",
      "Visiting link:  https://docs.nav2.org/plugin_tutorials/docs/writing_new_nav2controller_plugin.html#writing-new-nav2controller-plugin\n",
      "Visiting link:  https://docs.nav2.org/behavior_trees/index.html#nav2-behavior-trees\n",
      "Visiting link:  https://docs.nav2.org/behavior_trees/overview/nav2_specific_nodes.html#introduction-to-nav2-specific-nodes\n",
      "Visiting link:  https://docs.nav2.org/behavior_trees/overview/detailed_behavior_tree_walkthrough.html#detailed-behavior-tree-walkthrough\n",
      "Visiting link:  https://docs.nav2.org/behavior_trees/trees/nav_to_pose_recovery.html#navigate-to-pose\n",
      "Visiting link:  https://docs.nav2.org/behavior_trees/index.html#behavior-trees\n",
      "Visiting link:  https://docs.nav2.org/behavior_trees/trees/nav_through_poses_recovery.html#navigate-through-poses\n",
      "Visiting link:  https://docs.nav2.org/behavior_trees/trees/nav_to_pose_and_pause_near_goal_obstacle.html#navigate-to-pose-and-pause-near-goal-obstacle\n",
      "Visiting link:  https://docs.nav2.org/behavior_trees/trees/nav_to_pose_recovery.html#behavior-tree-nav-to-pose\n",
      "Visiting link:  https://docs.nav2.org/behavior_trees/trees/nav_to_pose_with_consistent_replanning_and_if_path_becomes_invalid.html#navigate-to-pose-with-consistent-replanning-and-if-path-becomes-invalid\n",
      "Visiting link:  https://docs.nav2.org/behavior_trees/trees/follow_point.html#follow-dynamic-point\n",
      "Visiting link:  https://docs.nav2.org/behavior_trees/trees/odometry_calibration.html#odometry-calibration\n",
      "Visiting link:  https://docs.nav2.org/_images/odometry_calibration.gif\n"
     ]
    },
    {
     "name": "stderr",
     "output_type": "stream",
     "text": [
      "Some characters could not be decoded, and were replaced with REPLACEMENT CHARACTER.\n",
      "Some characters could not be decoded, and were replaced with REPLACEMENT CHARACTER.\n"
     ]
    },
    {
     "name": "stdout",
     "output_type": "stream",
     "text": [
      "Visiting link:  https://docs.nav2.org/plugins/index.html#navigation-plugins\n",
      "Visiting link:  https://docs.nav2.org/plugin_tutorials/docs/writing_new_costmap2d_plugin.html#writing-new-costmap2d-plugin\n",
      "Visiting link:  https://docs.nav2.org/plugin_tutorials/docs/writing_new_behavior_plugin.html#writing-new-behavior-plugin\n",
      "Visiting link:  https://docs.nav2.org/plugin_tutorials/docs/writing_new_navigator_plugin.html#writing-new-nav2navigator-plugin\n",
      "Visiting link:  https://docs.nav2.org/migration/index.html#migration-guides\n",
      "Visiting link:  https://docs.nav2.org/migration/Dashing.html#dashing-to-eloquent\n",
      "Visiting link:  https://docs.nav2.org/migration/Eloquent.html#eloquent-to-foxy\n",
      "Visiting link:  https://docs.nav2.org/migration/Foxy.html#foxy-to-galactic\n",
      "Visiting link:  https://docs.nav2.org/configuration/packages/bt-plugins/actions/NavigateToPose.html#bt-navigate-to-pose-action\n",
      "Visiting link:  https://docs.nav2.org/configuration/packages/bt-plugins/actions/ComputePathToPose.html#bt-compute-path-to-pose-action\n",
      "Visiting link:  https://docs.nav2.org/tutorials/docs/navigation2_with_speed_filter.html#navigation2-with-speed-filter\n",
      "Visiting link:  https://docs.nav2.org/configuration/packages/bt-plugins/actions/ClearCostmapExceptRegion.html#bt-clear-costmap-except-region-action\n",
      "Visiting link:  https://docs.nav2.org/configuration/packages/bt-plugins/actions/ClearCostmapAroundRobot.html#bt-clear-entire-costmap-around-robot-action\n",
      "Visiting link:  https://docs.nav2.org/_images/panel-feedback.gif\n"
     ]
    },
    {
     "name": "stderr",
     "output_type": "stream",
     "text": [
      "Some characters could not be decoded, and were replaced with REPLACEMENT CHARACTER.\n",
      "Some characters could not be decoded, and were replaced with REPLACEMENT CHARACTER.\n"
     ]
    },
    {
     "name": "stdout",
     "output_type": "stream",
     "text": [
      "Visiting link:  https://docs.nav2.org/migration/Galactic.html#galactic-to-humble\n"
     ]
    },
    {
     "name": "stderr",
     "output_type": "stream",
     "text": [
      "Some characters could not be decoded, and were replaced with REPLACEMENT CHARACTER.\n"
     ]
    },
    {
     "name": "stdout",
     "output_type": "stream",
     "text": [
      "Visiting link:  https://docs.nav2.org/_images/use_final_approach_orientation_false.gif\n"
     ]
    },
    {
     "name": "stderr",
     "output_type": "stream",
     "text": [
      "Some characters could not be decoded, and were replaced with REPLACEMENT CHARACTER.\n",
      "Some characters could not be decoded, and were replaced with REPLACEMENT CHARACTER.\n"
     ]
    },
    {
     "name": "stdout",
     "output_type": "stream",
     "text": [
      "Visiting link:  https://docs.nav2.org/_images/use_final_approach_orientation_true.gif\n"
     ]
    },
    {
     "name": "stderr",
     "output_type": "stream",
     "text": [
      "Some characters could not be decoded, and were replaced with REPLACEMENT CHARACTER.\n"
     ]
    },
    {
     "name": "stdout",
     "output_type": "stream",
     "text": [
      "Visiting link:  https://docs.nav2.org/configuration/packages/configuring-velocity-smoother.html#configuring-velocity-smoother\n",
      "Visiting link:  https://docs.nav2.org/migration/Humble.html#humble-to-iron\n",
      "Visiting link:  https://docs.nav2.org/tutorials/docs/adding_a_nav2_task_server.html#adding-a-nav2-task-server\n",
      "Visiting link:  https://docs.nav2.org/configuration/packages/configuring-savitzky-golay-smoother.html#configuring-savitzky-golay-filter-smoother\n",
      "Visiting link:  https://docs.nav2.org/configuration/packages/configuring-simple-smoother.html#configuring-simple-smoother\n",
      "Visiting link:  https://docs.nav2.org/configuration/packages/configuring-mppic.html#configuring-mppic\n",
      "Visiting link:  https://docs.nav2.org/configuration/packages/bt-plugins/conditions/IsBatteryCharging.html#bt-is-battery-charging-condition\n",
      "Visiting link:  https://docs.nav2.org/configuration/packages/configuring-costmaps.html#configuring-cosmaps\n",
      "Visiting link:  https://docs.nav2.org/migration/Iron.html#iron-to-jazzy\n",
      "Visiting link:  https://docs.nav2.org/tutorials/docs/using_docking.html#docking-tutorial\n",
      "Visiting link:  https://docs.nav2.org/configuration/packages/configuring-graceful-motion-controller.html#configuring-graceful-motion-controller\n"
     ]
    },
    {
     "name": "stderr",
     "output_type": "stream",
     "text": [
      "Some characters could not be decoded, and were replaced with REPLACEMENT CHARACTER.\n"
     ]
    },
    {
     "name": "stdout",
     "output_type": "stream",
     "text": [
      "Visiting link:  https://docs.nav2.org/_images/rpp_goal_lookahead_interpolate.gif\n"
     ]
    },
    {
     "name": "stderr",
     "output_type": "stream",
     "text": [
      "Some characters could not be decoded, and were replaced with REPLACEMENT CHARACTER.\n"
     ]
    },
    {
     "name": "stdout",
     "output_type": "stream",
     "text": [
      "Visiting link:  https://docs.nav2.org/migration/Iron.html#id2\n",
      "Visiting link:  https://docs.nav2.org/migration/Jazzy.html#jazzy-to-k-turtle\n",
      "Visiting link:  https://docs.nav2.org/commander_api/index.html#simple-commander-api\n",
      "Visiting link:  https://docs.nav2.org/_images/readme.gif\n"
     ]
    },
    {
     "name": "stderr",
     "output_type": "stream",
     "text": [
      "Some characters could not be decoded, and were replaced with REPLACEMENT CHARACTER.\n"
     ]
    },
    {
     "name": "stdout",
     "output_type": "stream",
     "text": [
      "Could not crawl link https://docs.nav2.org/_images/readme.gif\n",
      "Visiting link:  https://docs.nav2.org/roadmap/roadmap.html#roadmaps\n",
      "Visiting link:  https://docs.nav2.org/migration/index.html#migration\n",
      "Visiting link:  https://docs.nav2.org/about/index.html#about-and-contact\n",
      "Visiting link:  https://docs.nav2.org/about/robots.html#robots\n",
      "Visiting link:  https://docs.nav2.org/about/related_projects.html#related-projects\n",
      "Visiting link:  https://moveit.ai/install/\n",
      "Visiting link:  https://moveit.ai/install/source/\n",
      "Visiting link:  https://moveit.ai/install/source-windows/\n",
      "Visiting link:  https://moveit.ai/install/docker/\n",
      "Visiting link:  https://moveit.ai/install-moveit2/binary-windows/\n",
      "Visiting link:  https://moveit.ai/install-moveit2/source-windows/\n",
      "Visiting link:  https://moveit.ai/documentation/contributing/releases/\n",
      "Visiting link:  https://moveit.ai/documentation/applications/#moveit-applications\n",
      "Visiting link:  https://moveit.ai/documentation/applications/#moveit-example-apps\n",
      "Visiting link:  https://moveit.ai/documentation/applications/#moveit-pro\n",
      "Visiting link:  https://moveit.ai/documentation/applications/#complex-task-sequencing-for-material-handling\n",
      "Visiting link:  https://moveit.ai/documentation/applications/#ml-powered-bin-picking\n",
      "Visiting link:  https://moveit.ai/documentation/applications/#whole-body-cartesian-planning\n",
      "Visiting link:  https://moveit.ai/documentation/applications/#other-application-resources\n",
      "Visiting link:  https://moveit.ai/documentation/concepts/#concepts\n",
      "Visiting link:  https://moveit.ai/documentation/concepts/developer_concepts/\n",
      "Visiting link:  https://moveit.ai/documentation/concepts/#system-architecture\n",
      "Visiting link:  https://moveit.ai/documentation/concepts/#quick-high-level-diagram\n",
      "Visiting link:  https://moveit.ai/documentation/concepts/#the-move_group-node\n",
      "Visiting link:  https://moveit.ai/documentation/concepts/#user-interface\n",
      "Visiting link:  https://moveit.ai/documentation/concepts/#configuration\n",
      "Visiting link:  https://moveit.ai/documentation/concepts/#robot-interface\n",
      "Visiting link:  https://moveit.ai/documentation/concepts/#joint-state-information\n",
      "Visiting link:  https://moveit.ai/documentation/concepts/#transform-information\n",
      "Visiting link:  https://moveit.ai/documentation/concepts/#controller-interface\n",
      "Visiting link:  https://moveit.ai/documentation/concepts/#planning-scene\n",
      "Visiting link:  https://moveit.ai/documentation/concepts/#extensible-capabilities\n",
      "Visiting link:  https://moveit.ai/documentation/concepts/#motion-planning\n",
      "Visiting link:  https://moveit.ai/documentation/concepts/#the-motion-planning-plugin\n",
      "Visiting link:  https://moveit.ai/documentation/concepts/#the-motion-plan-request\n",
      "Visiting link:  https://moveit.ai/documentation/concepts/#the-motion-plan-result\n",
      "Visiting link:  https://moveit.ai/documentation/concepts/#the-motion-planning-pipeline-motion-planners-and-plan-request-adapters\n",
      "Visiting link:  https://moveit.ai/documentation/concepts/#fixstartstatebounds\n",
      "Visiting link:  https://moveit.ai/documentation/concepts/#fixworkspacebounds\n",
      "Visiting link:  https://moveit.ai/documentation/concepts/#fixstartstatecollision\n",
      "Visiting link:  https://moveit.ai/documentation/concepts/#fixstartstatepathconstraints\n",
      "Visiting link:  https://moveit.ai/documentation/concepts/#addtimeparameterization\n",
      "Visiting link:  https://moveit.ai/documentation/concepts/#resolveconstraintframes\n",
      "Visiting link:  https://moveit.ai/documentation/concepts/#ompl\n",
      "Visiting link:  https://moveit.ai/documentation/concepts/#planning-scene-1\n",
      "Visiting link:  https://moveit.ai/documentation/concepts/#world-geometry-monitor\n",
      "Visiting link:  https://moveit.ai/documentation/concepts/#3d-perception\n",
      "Visiting link:  https://moveit.ai/documentation/concepts/#octomap\n",
      "Visiting link:  https://moveit.ai/documentation/concepts/#depth-image-occupancy-map-updater\n",
      "Visiting link:  https://moveit.ai/documentation/concepts/#kinematics\n",
      "Visiting link:  https://moveit.ai/documentation/concepts/#the-kinematics-plugin\n",
      "Visiting link:  https://moveit.ai/documentation/concepts/#ikfast-plugin\n",
      "Visiting link:  https://moveit.ai/documentation/concepts/#collision-checking\n",
      "Visiting link:  https://moveit.ai/documentation/concepts/#collision-objects\n",
      "Visiting link:  https://moveit.ai/documentation/concepts/#allowed-collision-matrix-acm\n",
      "Visiting link:  https://moveit.ai/documentation/concepts/#trajectory-processing\n",
      "Visiting link:  https://moveit.ai/documentation/concepts/#time-parameterization\n",
      "Visiting link:  https://moveit.ai/documentation/related_projects/#moveit-related-projects\n",
      "Visiting link:  https://moveit.ai/documentation/related_projects/#cartesian-path-planner-plug-in-for-moveit\n",
      "Visiting link:  https://moveit.ai/documentation/related_projects/#descartes\n",
      "Visiting link:  https://moveit.ai/documentation/related_projects/#ik-plugin-bio_ik\n",
      "Visiting link:  https://moveit.ai/documentation/related_projects/#motoman-moveit-matlab-interface\n",
      "Visiting link:  https://moveit.ai/documentation/related_projects/#movegroup-online-collision-predictor\n",
      "Visiting link:  https://moveit.ai/documentation/related_projects/#moveit-dynamic-programming-redundancy-resolution\n",
      "Visiting link:  https://moveit.ai/documentation/related_projects/#moveit-gpd-grasping\n",
      "Visiting link:  https://moveit.ai/documentation/related_projects/#moveit-grasps\n",
      "Visiting link:  https://moveit.ai/documentation/related_projects/#moveit-pro-runtime-and-developer-platform\n",
      "Visiting link:  https://moveit.ai/documentation/related_projects/#pilz-industrial-motion\n",
      "Visiting link:  https://moveit.ai/documentation/related_projects/#robotic-evaluation-and-comparison-heuristic-reach\n",
      "Visiting link:  https://moveit.ai/documentation/related_projects/#ros-control\n",
      "Visiting link:  https://moveit.ai/documentation/related_projects/#ros2-grasp-library\n",
      "Visiting link:  https://moveit.ai/documentation/related_projects/#tracik\n",
      "Visiting link:  https://moveit.ai/documentation/plugins/#plugin-interfaces\n",
      "Visiting link:  https://moveit.ai/documentation/plugins/#movegroupcapability\n",
      "Visiting link:  https://moveit.ai/documentation/plugins/#kinematicsbase\n",
      "Visiting link:  https://moveit.ai/documentation/plugins/#plannermanager\n",
      "Visiting link:  https://moveit.ai/documentation/plugins/#planningrequestadapter\n",
      "Visiting link:  https://moveit.ai/documentation/plugins/#moveitcontrollermanager\n",
      "Visiting link:  https://moveit.ai/documentation/plugins/#controllerhandleallocator\n",
      "Visiting link:  https://moveit.ai/documentation/plugins/#moveitsensormanager\n",
      "Visiting link:  https://moveit.ai/documentation/plugins/#constraintsamplerallocator\n",
      "Visiting link:  https://moveit.ai/documentation/plugins/#collisionplugin\n",
      "Visiting link:  https://moveit.ai/documentation/plugins/#occupancymapupdater\n",
      "Visiting link:  https://moveit.ai/documentation/plugins/#planner\n",
      "Visiting link:  https://moveit.ai/documentation/plugins/#usage\n",
      "Visiting link:  https://moveit.ai/documentation/plugins/#field-of-application\n",
      "Visiting link:  https://moveit.ai/documentation/plugins/#interface-description\n",
      "Visiting link:  https://moveit.ai/documentation/plugins/#concrete-implementation\n",
      "Visiting link:  https://moveit.ai/documentation/plugins/#interface-description-1\n",
      "Visiting link:  https://moveit.ai/documentation/plugins/#concrete-implementations\n",
      "Visiting link:  https://moveit.ai/documentation/plugins/#usage-1\n",
      "Visiting link:  https://moveit.ai/documentation/plugins/#interface-description-2\n",
      "Visiting link:  https://moveit.ai/documentation/plugins/#concrete-implementation-1\n",
      "Visiting link:  https://moveit.ai/documentation/plugins/#usage-2\n",
      "Visiting link:  https://moveit.ai/documentation/plugins/#interface-description-3\n",
      "Visiting link:  https://moveit.ai/documentation/plugins/#concrete-implementation-2\n",
      "Visiting link:  https://moveit.ai/documentation/plugins/#usage-3\n",
      "Visiting link:  https://moveit.ai/documentation/plugins/#concrete-implementation-3\n",
      "Visiting link:  https://moveit.ai/documentation/plugins/#usage-4\n",
      "Visiting link:  https://moveit.ai/documentation/plugins/#field-of-application-1\n",
      "Visiting link:  https://moveit.ai/documentation/plugins/#interface-description-4\n",
      "Visiting link:  https://moveit.ai/documentation/plugins/#concrete-implementation-4\n",
      "Visiting link:  https://moveit.ai/documentation/plugins/#usage-5\n",
      "Visiting link:  https://moveit.ai/documentation/plugins/#concrete-implementation-5\n",
      "Visiting link:  https://moveit.ai/documentation/plugins/#usage-6\n",
      "Visiting link:  https://moveit.ai/documentation/plugins/#interface-description-5\n",
      "Visiting link:  https://moveit.ai/documentation/plugins/#concrete-implementation-6\n",
      "Visiting link:  https://moveit.ai/documentation/plugins/#usage-7\n",
      "Visiting link:  https://moveit.ai/documentation/plugins/#field-of-application-2\n",
      "Visiting link:  https://moveit.ai/documentation/plugins/#interface-description-6\n",
      "Visiting link:  https://moveit.ai/documentation/plugins/#concrete-implementation-7\n",
      "Visiting link:  https://moveit.ai/documentation/plugins/#usage-8\n",
      "Visiting link:  https://moveit.ai/documentation/plugins/#interface-description-7\n",
      "Visiting link:  https://moveit.ai/documentation/plugins/#concrete-implementation-8\n",
      "Visiting link:  https://moveit.ai/documentation/plugins/#info\n",
      "Visiting link:  https://moveit.ai/documentation/planners/#planners-available-in-moveit\n",
      "Visiting link:  https://moveit.ai/documentation/planners/#open-motion-planning-library-ompl\n",
      "Visiting link:  https://moveit.ai/documentation/planners/#pilz-industrial-motion-planner\n",
      "Visiting link:  https://moveit.ai/documentation/planners/#stochastic-trajectory-optimization-for-motion-planning-stomp\n",
      "Visiting link:  https://moveit.ai/documentation/planners/#search-based-planning-library-sbpl\n",
      "Visiting link:  https://moveit.ai/documentation/planners/#covariant-hamiltonian-optimization-for-motion-planning-chomp\n",
      "Visiting link:  https://moveit.ai/documentation/source-code-api/#license\n",
      "Visiting link:  https://moveit.ai/documentation/source-code-api/#source-code\n",
      "Visiting link:  https://moveit.ai/documentation/source-code-api/#code-health\n",
      "Visiting link:  https://moveit.ai/documentation/source-code-api/#ros-noetic-code-api\n",
      "Visiting link:  https://moveit.ai/documentation/source-code-api/#move-group-interface\n",
      "Visiting link:  https://moveit.ai/documentation/source-code-api/#moveit-ros\n",
      "Visiting link:  https://moveit.ai/documentation/source-code-api/#moveit-core\n",
      "Visiting link:  https://moveit.ai/documentation/source-code-api/#moveit-ompl-interface\n",
      "Visiting link:  https://moveit.ai/about/maintainer_policy\n",
      "Visiting link:  https://moveit.ai/about/citations\n",
      "Visiting link:  https://moveit.ai/documentation/faqs/#frequently-asked-questions\n",
      "Visiting link:  https://moveit.ai/documentation/faqs/#getting-started\n",
      "Visiting link:  https://moveit.ai/documentation/faqs/#terminology\n",
      "Visiting link:  https://moveit.ai/documentation/faqs/#bugsissues\n",
      "Visiting link:  https://moveit.ai/documentation/faqs/#robots\n",
      "Visiting link:  https://moveit.ai/documentation/faqs/#community\n",
      "Visiting link:  https://moveit.ai/blog\n",
      "Visiting link:  https://moveit.ai/documentation/faqs/#legal\n",
      "Visiting link:  https://moveit.ai/about/press_kit\n",
      "Visiting link:  https://moveit.ai/documentation/faqs\n",
      "Visiting link:  https://moveit.ai/about/press_kit/#moveit-press-kit\n",
      "Visiting link:  https://moveit.ai/about/press_kit/#moveit-brand-guidelines\n",
      "Visiting link:  https://moveit.ai/about/press_kit/#naming-guidelines\n",
      "Visiting link:  https://moveit.ai/about/press_kit/#moveit-trademark-policy\n",
      "Visiting link:  https://moveit.ai/about/press_kit/#legal-terms\n",
      "Visiting link:  https://moveit.ai/about/press_kit/#trademark-use\n",
      "Visiting link:  https://moveit.ai/about/press_kit/#trademark-style-guidelines\n",
      "Visiting link:  https://moveit.ai/about/press_kit/#moveit-in-text\n",
      "Visiting link:  https://moveit.ai/about/press_kit/#moveit-logo\n",
      "Visiting link:  https://moveit.ai/about/press_kit/#note-for-any-print-media-it-is-necessary-to-use-the-provided-ai-file-and-print-in-the-provided-cmyk-values\n",
      "Visiting link:  https://moveit.ai/about/press_kit/#attribution\n",
      "Visiting link:  https://moveit.ai/documentation/contributing/pullrequests\n",
      "Visiting link:  https://moveit.ai/events/moveit/mentor/google/2022/05/20/2022-google-summer-of-code-students.html\n",
      "Visiting link:  https://moveit.ai/events/moveit/mentor/google/2022/03/15/gsoc.html\n",
      "Visiting link:  https://moveit.ai/ros/moveit/events/2021/10/29/rosworld-moveit-workshop.html\n",
      "Visiting link:  https://moveit.ai/events/world-moveit-day/ros/moveit/2021/03/22/world-moveit-day-2021-lighting-talks.html\n",
      "Visiting link:  https://moveit.ai/events/moveit/mentor/google/2021/03/11/gsof-mentor.html\n",
      "Visiting link:  https://moveit.ai/events/world-moveit-day/2021/01/15/world-moveit-day-2021.html\n",
      "Visiting link:  https://moveit.ai/events/world-moveit-day/2020/04/28/world-moveit-day-2020.html\n",
      "Visiting link:  https://moveit.ai/feed.xml\n",
      "Visiting link:  https://moveit.ai/documentation/contributing/future_projects/\n",
      "Visiting link:  https://moveit.ai/events/2024-google-summer-of-code/#2024-google-summer-of-code\n",
      "Visiting link:  https://moveit.ai/events/2024-google-summer-of-code/#tips-for-writing-a-successful-google-summer-of-code-application-for-moveit\n",
      "Visiting link:  https://moveit.ai/events/2024-google-summer-of-code/#project-ideas\n",
      "Visiting link:  https://moveit.ai/events/2024-google-summer-of-code/#better-simulation-support\n",
      "Visiting link:  https://moveit.ai/events/2024-google-summer-of-code/#improved-collision-avoidance\n",
      "Visiting link:  https://moveit.ai/events/2024-google-summer-of-code/#drake-integration-experiments\n",
      "Visiting link:  https://moveit.ai/events/2024-google-summer-of-code/#support-closed-chain-kinematics\n",
      "Visiting link:  https://moveit.ai/events/2024-google-summer-of-code/#zenoh-support--benchmarking\n",
      "Visiting link:  mailto:henningkayser@picknik.ai\n",
      "Could not crawl link mailto:henningkayser@picknik.ai\n",
      "Visiting link:  https://moveit.ai/documentation/contributing/maintainer_pr\n",
      "Visiting link:  https://moveit.ai/documentation/contributing/continuous_integration/\n",
      "Visiting link:  https://moveit.ai/documentation/contributing/syncing_backporting/\n",
      "Visiting link:  https://moveit.ai/documentation/contributing/pullrequests/#handling-pull-requests\n",
      "Visiting link:  https://moveit.ai/documentation/contributing/pullrequests/#contributoruser-side\n",
      "Visiting link:  https://moveit.ai/documentation/contributing/pullrequests/#keep-requests-clean-and-independent\n",
      "Visiting link:  https://moveit.ai/documentation/contributing/pullrequests/#ping\n",
      "Visiting link:  https://moveit.ai/documentation/contributing/pullrequests/#reviewing-and-approving-requests\n",
      "Visiting link:  https://moveit.ai/documentation/contributing/code/#moveit-code-style-guidelines\n",
      "Visiting link:  https://moveit.ai/documentation/contributing/code/#c\n",
      "Visiting link:  https://moveit.ai/documentation/contributing/code/#inline-documentation\n",
      "Visiting link:  https://moveit.ai/documentation/contributing/code/#deprecation\n",
      "Visiting link:  https://moveit.ai/documentation/contributing/code/#exceptions\n",
      "Visiting link:  https://moveit.ai/documentation/contributing/code/#logging\n",
      "Visiting link:  https://moveit.ai/documentation/contributing/code/#shared-ptrs\n",
      "Visiting link:  https://moveit.ai/documentation/contributing/code/#cmakeliststxt\n",
      "Visiting link:  https://moveit.ai/documentation/contributing/code/#pre-commit-formatting-checks\n",
      "Visiting link:  https://moveit.ai/documentation/contributing/code/#clang-format-auto-code-formatting\n",
      "Visiting link:  https://moveit.ai/documentation/contributing/code/#command-line\n",
      "Visiting link:  https://moveit.ai/documentation/contributing/code/#exceptions-to-clang-format\n",
      "Visiting link:  https://moveit.ai/documentation/contributing/code/#emacs-editor-configuration\n",
      "Visiting link:  https://moveit.ai/documentation/contributing/code/#qtcreator-editor-configuration\n",
      "Visiting link:  https://moveit.ai/documentation/contributing/code/#clang-tidy-linting\n",
      "Visiting link:  https://moveit.ai/documentation/contributing/code/#exceptions-to-clang-tidy\n",
      "Visiting link:  https://moveit.ai/moveit/gsoc/2024/08/22/GSoC-2024-mujoco-support-for-ros2-moveit.html\n",
      "Visiting link:  https://moveit.ai/moveit/gsoc/2024/08/19/GSoC-2024-Zenoh-Support-and-Benchmarking.html\n",
      "Visiting link:  https://moveit.ai/release/jazzy/rolling/2024/06/30/New-MoveIt-LTS-release-for-ROS-2-Jazzy.html\n",
      "Visiting link:  https://moveit.ai/moveit/gsoc/2024/06/07/Google-Summer-of-Code-Contributor-Introductions.html\n",
      "Visiting link:  https://moveit.ai/planning%20pipeline/moveit2/motion%20planning/2024/03/25/MoveIt-Planning-Pipeline-Refactoring.html\n",
      "Visiting link:  https://moveit.ai/open%20source/open%20core%20software/2024/02/22/MoveIt-Pro-Open-Core.html\n",
      "Visiting link:  https://moveit.ai/2024/02/20/Introduciong-MoveIt-Pro-Rapid-Robotics-Application-Development-for-Unstructured-Environments.html\n",
      "Visiting link:  https://moveit.ai/bin%20picking/grasping/segmentation/manipulation/2024/01/31/Bin-Picking-Flexible-&-Fast-For-Any-Brand-of-Robot-Arm.html\n",
      "Visiting link:  https://moveit.ai/moveit/roscon/2023/11/29/MoveItCon-2023-Recap.html\n",
      "Visiting link:  https://moveit.ai/moveit/benchmarking/inverse%20kinematics/servo/2023/11/21/GSoC-2023-MoveIt-Servo-and-IK-Benchmarking.html\n",
      "Visiting link:  https://moveit.ai/moveit%202/ros/2023/05/31/balancing-stability-and-development.html\n",
      "Visiting link:  https://moveit.ai/moveit%202/ros/2023/05/19/optimization-based-planning-with-stomp.html\n",
      "Visiting link:  https://moveit.ai/moveit%202/ros/2023/05/03/google-summer-of-code-participants.html\n",
      "Visiting link:  https://moveit.ai/moveit%202/ros/2023/03/20/google-summer-of-code-2023.html\n",
      "Visiting link:  https://moveit.ai/moveit/ros/python/google/2023/02/15/MoveIt-Humble-Release.html\n",
      "Visiting link:  https://moveit.ai/moveit%202/parallel%20planning/motion%20planning/2023/02/15/parallel-planning-with-MoveIt-2.html\n",
      "Visiting link:  https://moveit.ai/moveit/google/2023/01/12/gsoc-simultaneous-trajectory-execution.html\n",
      "Visiting link:  https://moveit.ai/picknik/moveit/2022/08/16/Announcing-MoveIt-Studio.html\n",
      "Visiting link:  https://moveit.ai/ros/2022/07/22/Declarative-ROS-2-Parameters.html\n",
      "Visiting link:  https://moveit.ai/moveit/ros/2022/07/22/MoveIt-Servo-Inverse-Kinematics.html\n",
      "Visiting link:  https://moveit.ai/moveit/ros/ros2/humble/rolling/2022/07/15/MoveIt-2.5.2.html\n",
      "Visiting link:  https://moveit.ai/moveit/ros/humble/2022/06/02/MoveIt-Humble-Release.html\n",
      "Visiting link:  https://moveit.ai/robowflex/moveit/automation/2022/05/05/zak-kingston.html\n",
      "Visiting link:  https://moveit.ai/areospace/moveit/automation/2022/04/20/moveit-for-areospace.html\n",
      "Visiting link:  https://moveit.ai/moveit/ros/2022/03/02/2022-community-meeting.html\n",
      "Visiting link:  https://moveit.ai/moveit/ros/2022/02/15/2022-community-meeting.html\n",
      "Visiting link:  https://moveit.ai/moveit/ros/2022/01/20/2022-doc-a-thon.html\n",
      "Visiting link:  https://moveit.ai/moveit/ros/2021/12/17/sprint-report-3.html\n",
      "Visiting link:  https://moveit.ai/moveit/ros/2021/11/30/sprint-report-2.html\n",
      "Visiting link:  https://moveit.ai/ros/moveit/galactic/2021/07/08/moveit-galactic.html\n",
      "Visiting link:  https://moveit.ai/ros2/moveit/2021/06/08/moveit-vs-moveit2.html\n",
      "Visiting link:  https://moveit.ai/ros/moveit/noetic/2021/05/13/noetic-release.html\n",
      "Visiting link:  https://moveit.ai/ros/moveit/noetic/2021/04/15/noetic-update.html\n",
      "Visiting link:  https://moveit.ai/ros/moveit/2021/04/04/WMD-2021-results.html\n",
      "Visiting link:  https://moveit.ai/ros/moveit/2021/04/01/moveit3_release.html\n",
      "Visiting link:  https://moveit.ai/moveit/2021/01/14/moveitcon-2019-macau.html\n",
      "Visiting link:  https://moveit.ai/moveit/ros%202/tsc/2020/12/21/moveit-for-ros-2-migration-update.html\n",
      "Visiting link:  https://moveit.ai/moveit/pilz/motion%20planner/2020/12/17/Pilz-Plugin-for-MoveIt.html\n",
      "Visiting link:  https://moveit.ai/ros/ros%20world/moveit/2020/11/24/ros-world-2020.html\n",
      "Visiting link:  https://moveit.ai/bullet/collision%20detection/moveit/2020/11/18/bullet-collision.html\n",
      "Visiting link:  https://moveit.ai/moveit/ros/noetic/2020/10/13/announcing-moveit-1-1-1-release-for-ros-noetic.html\n",
      "Visiting link:  https://moveit.ai/moveit/ros/noetic/2020/09/28/moveit-noetic.html\n",
      "Visiting link:  https://moveit.ai/deep%20learning/grasping/moveit/3d%20perception/2020/09/28/grasp-deep-learning.html\n",
      "Visiting link:  https://moveit.ai/moveit/2020/09/10/ompl-constrained-planning-gsoc.html\n",
      "Visiting link:  https://moveit.ai/moveit/ros2/servo/jog/2020/09/09/moveit2-servo.html\n",
      "Visiting link:  https://moveit.ai/moveit2/ros2/foxy/release/2020/09/04/moveit2-foxy-release.html\n",
      "Visiting link:  https://moveit.ai/moveit/ros/2020/08/26/moveit-calibration.html\n",
      "Visiting link:  https://moveit.ai/moveit/ros/2020/08/04/moveit-melodic-release.html\n",
      "Visiting link:  https://moveit.ai/moveit/ros/2020/07/24/moveit-research-roundup.html\n",
      "Visiting link:  https://moveit.ai/moveit/ros/microsoft/windows/2020/07/14/moveit-on-windows.html\n",
      "Visiting link:  https://moveit.ai/moveit/ros/2020/06/26/world-moveit-day-2020-recap.html\n",
      "Visiting link:  https://moveit.ai/industrial/moveit2/ur5/2020/06/09/moveit2-robotic-application.html\n",
      "Visiting link:  https://moveit.ai/planning/ompl/2020/06/05/ompl-1-5-0-released.html\n",
      "Visiting link:  https://moveit.ai/moveit/gsoc/code/students/2020/05/05/gsoc-2020-projects.html\n",
      "Visiting link:  https://moveit.ai/moveit/ros/2020/04/22/moveitcon-2020.html\n",
      "Visiting link:  https://moveit.ai/moveit/ros/2020/02/25/mtc.html\n",
      "Visiting link:  https://moveit.ai/moveit/ros2/2020/02/18/moveit-2-beta-feature-list.html\n",
      "Visiting link:  https://moveit.ai/moveit/ros/2019/12/26/world-moveit-day-2019-recap.html\n",
      "Visiting link:  https://moveit.ai/moveit/ros/2019/11/18/moveit-grasps.html\n",
      "Visiting link:  https://moveit.ai/moveit/ros/2019/11/13/world-moveit-day-2019.html\n",
      "Visiting link:  https://moveit.ai/moveit/ros/2019/09/19/moveit-workshop-macau.html\n",
      "Visiting link:  https://moveit.ai/moveit!/ros/2019/06/12/google-summer-of-code.html\n",
      "Visiting link:  https://moveit.ai/moveit!/ros/2019/05/31/moveit2-alpha-release.html\n",
      "Visiting link:  https://moveit.ai/moveit!/ros/2019/05/28/moveit-survey-results.html\n",
      "Visiting link:  https://moveit.ai/moveit!/ros/2019/04/16/realtime-robotics.html\n",
      "Visiting link:  https://moveit.ai/moveit!/ros/descartes/2019/04/12/moveit-descartes.html\n",
      "Visiting link:  https://moveit.ai/moveit!/ros/2019/04/08/moveit-survey.html\n",
      "Visiting link:  https://moveit.ai/moveit!/ros/2019/03/08/announcing-the-moveit-1-release.html\n",
      "Visiting link:  https://moveit.ai/moveit!/ros/2019/03/01/announcing-the-moveit-2-port.html\n",
      "Visiting link:  https://moveit.ai/moveit!/ros/2019/02/11/china-developer-workshop-report.html\n",
      "Visiting link:  https://moveit.ai/moveit!/ros/2019/01/04/china-developer-workshop.html\n",
      "Visiting link:  https://moveit.ai/moveit!/ros/2018/12/11/gsoc-2018-perception-pipeline.html\n",
      "Visiting link:  https://moveit.ai/moveit!/ros/2018/11/20/wordlmoveitdayreport3.html\n",
      "Visiting link:  https://moveit.ai/moveit!/ros/2018/10/25/gsoc-motion-planning-support.html\n",
      "Visiting link:  https://moveit.ai/moveit!/ros/2018/10/23/gsoc-2018-setup-assistant-v2.html\n",
      "Visiting link:  https://moveit.ai/moveit!/ros/2018/09/26/moveit-at-roscon-2018.html\n",
      "Visiting link:  https://moveit.ai/moveit!/ros/2018/08/03/save-the-date-world-moveit-day.html\n",
      "Visiting link:  https://moveit.ai/moveit!/ros/2018/05/23/firstmelodicrelease.html\n",
      "Visiting link:  https://moveit.ai/moveit!/ros/2018/05/08/google-summer-of-code.html\n",
      "Visiting link:  https://moveit.ai/moveit!/ros/2018/04/16/moveit-on-discourse.html\n",
      "Visiting link:  https://moveit.ai/moveit!/ros/2018/02/26/tutorials-documentation-codesprint.html\n",
      "Visiting link:  https://moveit.ai/moveit!/ros/2018/02/01/wordlmoveitdayreport2.html\n",
      "Visiting link:  https://moveit.ai/moveit!/ros/2017/09/20/wordlmoveitday.html\n",
      "Visiting link:  https://moveit.ai/moveit!/ros/2017/06/20/videoMontage2017.html\n",
      "Visiting link:  https://moveit.ai/moveit!/ros/2017/03/15/videoMontageRequest.html\n",
      "Visiting link:  https://moveit.ai/moveit!/ros/2017/01/03/firstIndigoRelease.html\n",
      "Visiting link:  https://moveit.ai/moveit!/ros/2016/12/15/firstkineticrelease.html\n",
      "Visiting link:  https://moveit.ai/moveit!/ros/2016/11/01/moveit-community.html\n",
      "Visiting link:  https://moveit.ai/moveit!/ros/2016/10/11/moveit_community_meeting.html\n",
      "Visiting link:  https://moveit.ai/moveit!/ros/2016/09/02/firstjaderelease.html\n",
      "Visiting link:  https://moveit.ai/moveit!/ros/2016/08/28/wordlmoveitdayreport.html\n",
      "Visiting link:  https://moveit.ai/moveit!/ros/2016/08/22/teamdelftamazon.html\n",
      "Visiting link:  https://moveit.ai/moveit!/ros/2016/08/05/wordlmoveitday.html\n",
      "Visiting link:  https://moveit.ai/moveit!/ros/2015/09/28/iros.html\n",
      "Visiting link:  https://moveit.ai/moveit!/ros/2015/09/19/robobusiness.html\n",
      "Visiting link:  https://moveit.ai/moveit!/ros/2015/09/17/moveit-community.html\n",
      "Visiting link:  https://moveit.ai/moveit!/ros/2015/07/02/going-underwater.html\n",
      "Visiting link:  https://moveit.ai/moveit!/ros/2015/06/03/icra-2015-update.html\n",
      "Visiting link:  https://moveit.ai/moveit!/ros/2015/05/24/see-you-at-icra-2015.html\n",
      "Visiting link:  https://moveit.ai/moveit!/ros/2015/03/17/versatile-manipulation-baxter-robot-with-moveit-used-to-teach-robotics-fundamentals-at-columbia-university.html\n",
      "Visiting link:  https://moveit.ai/moveit!/ros/2015/02/17/new-pal-mobile-manipulation-robot-tiago-runs-moveit.html\n",
      "Visiting link:  https://moveit.ai/moveit!/ros/2015/01/29/update-on-moveit-in-ros-i-community-meeting.html\n",
      "Visiting link:  https://moveit.ai/moveit!/ros/2015/01/29/the-amazon-picking-challenge.html\n",
      "Visiting link:  https://moveit.ai/moveit!/ros/2015/01/29/alten-mechatronics-applies-robotic-technology-in-fei-transmission-electron-microscopes-tem.html\n",
      "Visiting link:  https://moveit.ai/moveit!/ros/2015/01/29/new-capabilities-in-moveit-the-cartesian-path-planner-plugin.html\n",
      "Visiting link:  https://moveit.ai/moveit!/ros/2014/08/05/ronex-and-moveit.html\n",
      "Visiting link:  https://moveit.ai/moveit!/ros/2014/05/08/ckbot-whole-arm-grasping-and-moveit.html\n",
      "Visiting link:  https://moveit.ai/moveit!/ros/2014/04/03/rossurvey.html\n",
      "Visiting link:  https://moveit.ai/general/2014/02/20/first-new-robot-2014-hollie.html\n",
      "Visiting link:  https://moveit.ai/moveit!/ros/2014/01/07/a-new-year-a-new-website-a-new-movie.html\n",
      "Visiting link:  https://moveit.ai/moveit!/ros/2013/11/05/moveit-survey-results.html\n",
      "Visiting link:  https://moveit.ai/moveit!/ros/2013/10/22/robobusiness-2013.html\n",
      "Visiting link:  https://moveit.ai/moveit!/ros/2013/10/08/moveit-survey.html\n",
      "Visiting link:  https://moveit.ai/moveit!/ros/2013/08/20/moveit-pick-place-pr2.html\n",
      "Visiting link:  https://moveit.ai/moveit!/ros/2013/05/07/icra-motion-planning-tutorial.html\n",
      "Visiting link:  https://moveit.ai/moveit!/ros/2013/05/06/icra-roscon-trip-report.html\n",
      "Visiting link:  https://moveit.ai/install-moveit2/source/#moveit-2-source-build---linux\n",
      "Visiting link:  https://moveit.ai/install-moveit2/source/#prerequisites\n",
      "Visiting link:  https://moveit.ai/install-moveit2/source/#install-\n",
      "Visiting link:  https://moveit.ai/install-moveit2/source/#uninstall-any-pre-existing-moveit-debians\n",
      "Visiting link:  https://moveit.ai/install-moveit2/source/#create-workspace-and-source\n",
      "Visiting link:  https://moveit.ai/install-moveit2/source/#download-source-code\n",
      "Visiting link:  https://moveit.ai/install-moveit2/source/#humble-iron--stable\n",
      "Visiting link:  https://moveit.ai/install-moveit2/source/#rolling-jazzy-iron-humble--unstable\n",
      "Visiting link:  https://moveit.ai/install-moveit2/source/#middleware\n",
      "Visiting link:  https://moveit.ai/install-moveit2/source/#build-moveit\n",
      "Visiting link:  https://moveit.ai/install-moveit2/source/#source-the-colcon-workspace\n",
      "Visiting link:  https://moveit.ai/install-moveit2/source/#quick-start\n",
      "Visiting link:  https://docs.nav2.org/index.html#lpn\n",
      "Visiting link:  https://docs.nav2.org/index.html#our-sponsors\n",
      "Visiting link:  https://docs.nav2.org/index.html#services\n",
      "Visiting link:  https://docs.nav2.org/index.html#overview\n",
      "Visiting link:  https://docs.nav2.org/index.html#related-projects\n",
      "Visiting link:  https://docs.nav2.org/index.html#citations\n",
      "Visiting link:  https://moveit.ai/install/source/dependencies/\n",
      "Visiting link:  https://moveit.ai/install-moveit2/binary-windows/#moveit-2-binary-install-on-windows\n",
      "Visiting link:  https://moveit.ai/install-moveit2/binary-windows/#quick-start\n",
      "Visiting link:  https://moveit.ai/install-moveit2/source-windows/#moveit-2-source-build---windows\n",
      "Visiting link:  https://moveit.ai/install-moveit2/source-windows/#prerequisites\n",
      "Visiting link:  https://moveit.ai/install-moveit2/source-windows/#install-\n",
      "Visiting link:  https://moveit.ai/install-moveit2/source-windows/#create-workspace-and-source\n",
      "Visiting link:  https://moveit.ai/install-moveit2/source-windows/#download-source-code\n",
      "Visiting link:  https://moveit.ai/install-moveit2/source-windows/#build-moveit\n",
      "Visiting link:  https://moveit.ai/install-moveit2/source-windows/#source-the-colcon-workspace\n",
      "Visiting link:  https://moveit.ai/install-moveit2/source-windows/#quick-start\n",
      "Visiting link:  https://moveit.ai/documentation/contributing/releases/#release-process\n",
      "Visiting link:  https://moveit.ai/documentation/contributing/releases/#upcoming-releases\n",
      "Visiting link:  https://moveit.ai/documentation/contributing/releases/#permissions\n",
      "Visiting link:  https://moveit.ai/documentation/contributing/releases/#steps\n",
      "Visiting link:  https://moveit.ai/documentation/contributing/releases/#release-versioning-policy\n",
      "Visiting link:  https://moveit.ai/documentation/contributing/releases/#release-issue-template\n",
      "Visiting link:  https://moveit.ai/documentation/concepts/developer_concepts/#developers-concepts\n",
      "Visiting link:  https://moveit.ai/documentation/concepts/developer_concepts/#collision-detection\n",
      "Visiting link:  https://moveit.ai/documentation/concepts/developer_concepts/#flexible-collision-library-fcl\n",
      "Visiting link:  https://moveit.ai/documentation/concepts/developer_concepts/#bullet-collision-detection\n",
      "Visiting link:  https://moveit.ai/documentation/concepts/developer_concepts/#trajopt-planner\n",
      "Visiting link:  https://moveit.ai/about/maintainer_policy#moveit-governance\n",
      "Visiting link:  https://moveit.ai/about/maintainer_policy#core-contributors\n",
      "Visiting link:  https://moveit.ai/about/maintainer_policy#maintainers\n",
      "Visiting link:  https://moveit.ai/about/maintainer_policy#responsibilities\n",
      "Visiting link:  https://moveit.ai/about/maintainer_policy#inactive-core-contributors-and-maintainers\n",
      "Visiting link:  https://moveit.ai/about/maintainer_policy#moveit-github-org-policy\n",
      "Visiting link:  https://moveit.ai/about/press_kit#moveit-press-kit\n",
      "Visiting link:  https://moveit.ai/about/press_kit#moveit-brand-guidelines\n",
      "Visiting link:  https://moveit.ai/about/press_kit#naming-guidelines\n",
      "Visiting link:  https://moveit.ai/about/press_kit#moveit-trademark-policy\n",
      "Visiting link:  https://moveit.ai/about/press_kit#legal-terms\n",
      "Visiting link:  https://moveit.ai/about/press_kit#trademark-use\n",
      "Visiting link:  https://moveit.ai/about/press_kit#trademark-style-guidelines\n",
      "Visiting link:  https://moveit.ai/about/press_kit#moveit-in-text\n",
      "Visiting link:  https://moveit.ai/about/press_kit#moveit-logo\n",
      "Visiting link:  https://moveit.ai/about/press_kit#note-for-any-print-media-it-is-necessary-to-use-the-provided-ai-file-and-print-in-the-provided-cmyk-values\n",
      "Visiting link:  https://moveit.ai/about/press_kit#attribution\n",
      "Visiting link:  https://moveit.ai/documentation/faqs#frequently-asked-questions\n",
      "Visiting link:  https://moveit.ai/documentation/faqs#getting-started\n",
      "Visiting link:  https://moveit.ai/documentation/faqs#terminology\n",
      "Visiting link:  https://moveit.ai/documentation/faqs#bugsissues\n",
      "Visiting link:  https://moveit.ai/documentation/faqs#robots\n",
      "Visiting link:  https://moveit.ai/documentation/faqs#community\n",
      "Visiting link:  https://moveit.ai/documentation/faqs#legal\n",
      "Visiting link:  https://moveit.ai/documentation/contributing/pullrequests#handling-pull-requests\n",
      "Visiting link:  https://moveit.ai/documentation/contributing/pullrequests#contributoruser-side\n",
      "Visiting link:  https://moveit.ai/documentation/contributing/pullrequests#keep-requests-clean-and-independent\n",
      "Visiting link:  https://moveit.ai/documentation/contributing/pullrequests#ping\n",
      "Visiting link:  https://moveit.ai/documentation/contributing/pullrequests#reviewing-and-approving-requests\n",
      "Visiting link:  https://moveit.ai/events/2022-google-summer-of-code/\n",
      "Visiting link:  https://moveit.ai/events/2022-google-summer-of-code/#tips-for-writing-a-successful-google-summer-of-code-application-for-moveit\n",
      "Visiting link:  https://moveit.ai/events/rosworld-2021-workshop/\n",
      "Visiting link:  mailto:world-moveit-day@picknik.ai\n",
      "Could not crawl link mailto:world-moveit-day@picknik.ai\n",
      "Visiting link:  https://moveit.ai/documentation/contributing/future_projects/#potential-code-sprints-and-future-projects-\n",
      "Visiting link:  https://moveit.ai/documentation/contributing/future_projects/#table-of-contents-\n",
      "Visiting link:  https://moveit.ai/documentation/contributing/future_projects/#trajopt-integration-and-related-work-on-trajectory-optimization-methods\n",
      "Visiting link:  https://moveit.ai/documentation/contributing/future_projects/#simultaneous-trajectory-execution\n",
      "Visiting link:  https://moveit.ai/documentation/contributing/future_projects/#grasp-pose-generation\n",
      "Visiting link:  https://moveit.ai/documentation/contributing/future_projects/#tutorial-for-multiple-robot-arms\n",
      "Visiting link:  https://moveit.ai/documentation/contributing/future_projects/#scene-graph-support\n",
      "Visiting link:  https://moveit.ai/documentation/contributing/future_projects/#creation-of-a-benchmark-suite-for-evaluating-moveit-performance\n",
      "Visiting link:  https://moveit.ai/documentation/contributing/future_projects/#moveit-2-tutorials\n",
      "Visiting link:  https://moveit.ai/documentation/contributing/future_projects/#improved-integration-with-ros-controls-and-controller-switching\n",
      "Visiting link:  https://moveit.ai/documentation/contributing/future_projects/#mobile-base-integration\n",
      "Visiting link:  https://moveit.ai/documentation/contributing/future_projects/#port-inverse-kinematic-solver-libraries-to-moveit-2\n",
      "Visiting link:  https://moveit.ai/documentation/contributing/future_projects/#moveit-wrapper-for-reinforcement-learning\n",
      "Visiting link:  https://moveit.ai/documentation/contributing/maintainer_pr#maintainer-policies-on-handling-pull-requests\n",
      "Visiting link:  https://moveit.ai/documentation/contributing/maintainer_pr#branches-policy\n",
      "Visiting link:  https://moveit.ai/documentation/contributing/maintainer_pr#no-direct-commits-or-force-pushes\n",
      "Visiting link:  https://moveit.ai/documentation/contributing/maintainer_pr#feature-branches-in-upstream-repositories\n",
      "Visiting link:  https://moveit.ai/documentation/contributing/maintainer_pr#exceptions-to-feature-branches-in-upstream-repos\n",
      "Visiting link:  https://moveit.ai/documentation/contributing/maintainer_pr#pull-request-approval-policy\n",
      "Visiting link:  https://moveit.ai/documentation/contributing/maintainer_pr#exceptions-to-two-approval-policy\n",
      "Visiting link:  https://moveit.ai/documentation/contributing/maintainer_pr#github-merge-policies--best-practices\n",
      "Visiting link:  https://moveit.ai/documentation/contributing/maintainer_pr#the-latest-branch-preserves-all-original-commits\n",
      "Visiting link:  https://moveit.ai/documentation/contributing/maintainer_pr#merge-only-if-you-make-sure-it-becomes-available-in-later-branches-too\n",
      "Visiting link:  https://moveit.ai/documentation/contributing/maintainer_pr#summary\n",
      "Visiting link:  https://moveit.ai/documentation/contributing/continuous_integration/#moveits-continuous-integration\n",
      "Visiting link:  https://moveit.ai/documentation/contributing/continuous_integration/#docker\n",
      "Visiting link:  https://moveit.ai/documentation/contributing/continuous_integration/#ci-container\n",
      "Visiting link:  https://moveit.ai/documentation/contributing/continuous_integration/#source-container\n",
      "Visiting link:  https://moveit.ai/documentation/contributing/continuous_integration/#release-container\n",
      "Visiting link:  https://moveit.ai/documentation/contributing/continuous_integration/#experimental-container\n",
      "Visiting link:  https://moveit.ai/documentation/contributing/continuous_integration/#github-actions-and-industrial_ci\n",
      "Visiting link:  https://moveit.ai/documentation/contributing/continuous_integration/#running-industrial_ci-jobs-locally\n",
      "Visiting link:  https://moveit.ai/documentation/contributing/syncing_backporting/#syncing-and-backporting\n",
      "Visiting link:  https://moveit.ai/documentation/contributing/syncing_backporting/#syncing-from-moveit-1-to-moveit-2\n",
      "Visiting link:  https://moveit.ai/documentation/contributing/syncing_backporting/#1-create-a-new-sync-branch\n",
      "Visiting link:  https://moveit.ai/documentation/contributing/syncing_backporting/#2-identify-the-moveit-1-commit-that-was-used-for-the-last-sync\n",
      "Visiting link:  https://moveit.ai/documentation/contributing/syncing_backporting/#3-pick-a-new-sync-commit\n",
      "Visiting link:  https://moveit.ai/documentation/contributing/syncing_backporting/#4-view-diffs-for-resolving-conflicts\n",
      "Visiting link:  https://moveit.ai/documentation/contributing/syncing_backporting/#5-merge-the-sync-commit-into-your-pr-sync-branch\n",
      "Visiting link:  https://moveit.ai/documentation/contributing/syncing_backporting/#6-resolve-all-the-merge-conflicts\n",
      "Visiting link:  https://moveit.ai/documentation/contributing/syncing_backporting/#7-fix-the-branch\n",
      "Visiting link:  https://moveit.ai/documentation/contributing/syncing_backporting/#8-finish-the-merge-commit\n",
      "Visiting link:  https://moveit.ai/documentation/contributing/syncing_backporting/#9-apply-additional-fixes-or-migration-steps\n",
      "Visiting link:  https://moveit.ai/documentation/contributing/syncing_backporting/#10-file-the-github-pr\n",
      "Visiting link:  https://moveit.ai/documentation/contributing/syncing_backporting/#backporting\n",
      "Visiting link:  https://moveit.ai/documentation/contributing/syncing_backporting/#cherry-picking\n",
      "Visiting link:  https://moveit.ai/documentation/contributing/syncing_backporting/#backport-pull-requests\n",
      "Visiting link:  https://moveit.ai/documentation/contributing/syncing_backporting/#automated-backporting\n",
      "Visiting link:  mailto:hello@picknik.ai\n",
      "Could not crawl link mailto:hello@picknik.ai\n",
      "Visiting link:  https://moveit.ai/events/2022-moveit-community-meeting/\n",
      "Visiting link:  mailto:mark@picknik.ai\n",
      "Could not crawl link mailto:mark@picknik.ai\n",
      "Visiting link:  https://moveit.ai/moveit/ros/2020/07/24/moveit-research-roundup.html#ref1\n",
      "Visiting link:  https://moveit.ai/moveit/ros/2020/07/24/moveit-research-roundup.html#ref2\n",
      "Visiting link:  https://moveit.ai/moveit/ros/2020/07/24/moveit-research-roundup.html#ref7\n",
      "Visiting link:  https://moveit.ai/moveit/ros/2020/07/24/moveit-research-roundup.html#ref3\n",
      "Visiting link:  https://moveit.ai/moveit/ros/2020/07/24/moveit-research-roundup.html#ref4\n",
      "Visiting link:  https://moveit.ai/moveit/ros/2020/07/24/moveit-research-roundup.html#ref5\n",
      "Visiting link:  https://moveit.ai/moveit/ros/2020/07/24/moveit-research-roundup.html#ref6\n",
      "Visiting link:  mailto:moveitcon@picknik.ai\n",
      "Could not crawl link mailto:moveitcon@picknik.ai\n",
      "Visiting link:  https://moveit.ai/assets/pdfs/2019/moveit_2019_survey.pdf\n"
     ]
    },
    {
     "name": "stderr",
     "output_type": "stream",
     "text": [
      "Some characters could not be decoded, and were replaced with REPLACEMENT CHARACTER.\n",
      "Some characters could not be decoded, and were replaced with REPLACEMENT CHARACTER.\n"
     ]
    },
    {
     "name": "stdout",
     "output_type": "stream",
     "text": [
      "Visiting link:  https://moveit.ai/events/world-moveit-day-2018/\n",
      "Visiting link:  https://moveit.ai/events/world-moveit-day-2017/\n",
      "Visiting link:  https://moveit.ai/assets/pdfs/2016/team_delft_apc_motion_module.pdf\n"
     ]
    },
    {
     "name": "stderr",
     "output_type": "stream",
     "text": [
      "Some characters could not be decoded, and were replaced with REPLACEMENT CHARACTER.\n"
     ]
    },
    {
     "name": "stdout",
     "output_type": "stream",
     "text": [
      "Page not found:  https://moveit.ai/assets/pdfs/2016/team_delft_apc_motion_module.pdf\n"
     ]
    },
    {
     "name": "stderr",
     "output_type": "stream",
     "text": [
      "Some characters could not be decoded, and were replaced with REPLACEMENT CHARACTER.\n"
     ]
    },
    {
     "name": "stdout",
     "output_type": "stream",
     "text": [
      "Visiting link:  https://moveit.ai/events/world-moveit-day/\n",
      "Visiting link:  https://moveit.ai/install/source/dependencies/#building-common-moveit-dependencies-from-source-in-catkin\n",
      "Visiting link:  https://moveit.ai/install/source/dependencies/#mongodb-warehouse-support\n",
      "Visiting link:  https://moveit.ai/install/source/dependencies/#compiling-the-mongo-driver\n",
      "Visiting link:  https://moveit.ai/install/source/dependencies/#adding-warehouse_ros-and-warehouse_ros_mongo-packages\n",
      "Visiting link:  https://moveit.ai/install/source/dependencies/#open-motion-planning-library-ompl\n",
      "Visiting link:  https://moveit.ai/install/source/dependencies/#flexible-collision-library-fcl\n",
      "Visiting link:  https://moveit.ai/events/2022-google-summer-of-code/#2022-google-summer-of-code\n",
      "Visiting link:  https://moveit.ai/events/2022-google-summer-of-code/#project-ideas\n",
      "Visiting link:  https://moveit.ai/events/2022-google-summer-of-code/#python-bindings-for-moveit-2\n",
      "Visiting link:  https://moveit.ai/events/2022-google-summer-of-code/#improved-benchmarking-support-in-moveit\n",
      "Visiting link:  mailto:goerner@informatik.uni-hamburg.de\n",
      "Could not crawl link mailto:goerner@informatik.uni-hamburg.de\n",
      "Visiting link:  https://moveit.ai/events/2022-google-summer-of-code/#simultaneous-trajectory-execution\n",
      "Visiting link:  https://moveit.ai/events/2022-google-summer-of-code/#add-ability-to-attachdetach-end-effector-links\n",
      "Visiting link:  mailto:zelenak@picknik.ai\n",
      "Could not crawl link mailto:zelenak@picknik.ai\n",
      "Visiting link:  https://moveit.ai/events/2022-google-summer-of-code/#tutorial-for-multiple-robot-arms\n",
      "Visiting link:  https://moveit.ai/events/2022-google-summer-of-code/#refactor-calculations-and-add-tests\n",
      "Visiting link:  mailto:tyler@picknik.ai\n",
      "Could not crawl link mailto:tyler@picknik.ai\n",
      "Visiting link:  https://moveit.ai/events/2022-google-summer-of-code/#bullet-collision-checking-integration\n",
      "Visiting link:  mailto:simon.schmeisser@optonic.com\n",
      "Could not crawl link mailto:simon.schmeisser@optonic.com\n",
      "Visiting link:  https://moveit.ai/events/rosworld-2021-workshop/#mobile-manipulation-with-moveit-2\n",
      "Visiting link:  https://moveit.ai/events/rosworld-2021-workshop/#time-and-venue\n",
      "Visiting link:  https://moveit.ai/events/rosworld-2021-workshop/#organizers\n",
      "Visiting link:  https://moveit.ai/events/rosworld-2021-workshop/#program-tentative\n",
      "Visiting link:  https://moveit.ai/events/rosworld-2021-workshop/ROS%20World%202021%20Tutorial%20-%20Introduction%20to%20Stretch.pdf\n"
     ]
    },
    {
     "name": "stderr",
     "output_type": "stream",
     "text": [
      "Some characters could not be decoded, and were replaced with REPLACEMENT CHARACTER.\n"
     ]
    },
    {
     "name": "stdout",
     "output_type": "stream",
     "text": [
      "Page not found:  https://moveit.ai/events/rosworld-2021-workshop/ROS%20World%202021%20Tutorial%20-%20Introduction%20to%20Stretch.pdf\n"
     ]
    },
    {
     "name": "stderr",
     "output_type": "stream",
     "text": [
      "Some characters could not be decoded, and were replaced with REPLACEMENT CHARACTER.\n"
     ]
    },
    {
     "name": "stdout",
     "output_type": "stream",
     "text": [
      "Visiting link:  https://moveit.ai/events/rosworld-2021-workshop/ROSWorld%202021%20-%20Mobile%20Manipulation%20Workshop%20-%20MoveIt%20Overview.pdf\n"
     ]
    },
    {
     "name": "stderr",
     "output_type": "stream",
     "text": [
      "Some characters could not be decoded, and were replaced with REPLACEMENT CHARACTER.\n"
     ]
    },
    {
     "name": "stdout",
     "output_type": "stream",
     "text": [
      "Page not found:  https://moveit.ai/events/rosworld-2021-workshop/ROSWorld%202021%20-%20Mobile%20Manipulation%20Workshop%20-%20MoveIt%20Overview.pdf\n"
     ]
    },
    {
     "name": "stderr",
     "output_type": "stream",
     "text": [
      "Some characters could not be decoded, and were replaced with REPLACEMENT CHARACTER.\n"
     ]
    },
    {
     "name": "stdout",
     "output_type": "stream",
     "text": [
      "Visiting link:  https://moveit.ai/events/rosworld-2021-workshop/MoveIt%20and%20the%20rest%20of%20ROS_%20Perception,%20Control,%20and%20Simulation%20ROSWorld%20October%202021%20-%20Mobile%20Manipulation%20Workshop.pdf\n"
     ]
    },
    {
     "name": "stderr",
     "output_type": "stream",
     "text": [
      "Some characters could not be decoded, and were replaced with REPLACEMENT CHARACTER.\n",
      "Some characters could not be decoded, and were replaced with REPLACEMENT CHARACTER.\n"
     ]
    },
    {
     "name": "stdout",
     "output_type": "stream",
     "text": [
      "Page not found:  https://moveit.ai/events/rosworld-2021-workshop/MoveIt%20and%20the%20rest%20of%20ROS_%20Perception,%20Control,%20and%20Simulation%20ROSWorld%20October%202021%20-%20Mobile%20Manipulation%20Workshop.pdf\n",
      "Visiting link:  https://moveit.ai/events/rosworld-2021-workshop/ROSWorld%202021%20-%20Mobile%20Manipulation%20Workshop%20-%20MoveIt%20Task%20Constructor.pdf\n"
     ]
    },
    {
     "name": "stderr",
     "output_type": "stream",
     "text": [
      "Some characters could not be decoded, and were replaced with REPLACEMENT CHARACTER.\n",
      "Some characters could not be decoded, and were replaced with REPLACEMENT CHARACTER.\n"
     ]
    },
    {
     "name": "stdout",
     "output_type": "stream",
     "text": [
      "Page not found:  https://moveit.ai/events/rosworld-2021-workshop/ROSWorld%202021%20-%20Mobile%20Manipulation%20Workshop%20-%20MoveIt%20Task%20Constructor.pdf\n",
      "Visiting link:  https://moveit.ai/events/rosworld-2021-workshop/#expected-outcomes\n",
      "Visiting link:  https://moveit.ai/events/rosworld-2021-workshop/#preparation-for-the-workshop\n",
      "Visiting link:  https://moveit.ai/events/rosworld-2021-workshop/#installation-instructions\n",
      "Visiting link:  https://moveit.ai/events/rosworld-2021-workshop/#further-reading--watching\n",
      "Visiting link:  https://moveit.ai/events/rosworld-2021-workshop/Stretch%20Payload%20&%20Pulling%20Force.pdf\n"
     ]
    },
    {
     "name": "stderr",
     "output_type": "stream",
     "text": [
      "Some characters could not be decoded, and were replaced with REPLACEMENT CHARACTER.\n",
      "Some characters could not be decoded, and were replaced with REPLACEMENT CHARACTER.\n"
     ]
    },
    {
     "name": "stdout",
     "output_type": "stream",
     "text": [
      "Visiting link:  https://moveit.ai/events/2022-moveit-community-meeting/#time-and-venue\n",
      "Visiting link:  https://moveit.ai/events/2022-moveit-community-meeting/#organizers\n",
      "Visiting link:  https://moveit.ai/events/2022-moveit-community-meeting/#program\n",
      "Visiting link:  https://moveit.ai/events/2022-moveit-community-meeting/#registration\n",
      "Visiting link:  https://moveit.ai/events/world-moveit-day-2018/#date\n",
      "Visiting link:  https://moveit.ai/events/world-moveit-day-2018/#description\n",
      "Visiting link:  https://moveit.ai/events/world-moveit-day-2018/#locations\n",
      "Visiting link:  https://moveit.ai/events/world-moveit-day-2018/#general-information-contacts\n",
      "Visiting link:  https://moveit.ai/events/world-moveit-day-2018/#signup\n",
      "Visiting link:  https://moveit.ai/events/world-moveit-day-2018/#logistics\n",
      "Visiting link:  https://moveit.ai/events/world-moveit-day-2018/#what-version-of-moveit-should-you-use\n",
      "Visiting link:  https://moveit.ai/events/world-moveit-day-2018/#finding-where-you-can-help\n",
      "Visiting link:  https://moveit.ai/events/world-moveit-day-2018/#documentation\n",
      "Visiting link:  https://moveit.ai/events/world-moveit-day-2018/#video-conference-and-irc\n",
      "Visiting link:  https://moveit.ai/events/world-moveit-day-2018/#sponorship\n",
      "Visiting link:  https://moveit.ai/events/world-moveit-day-2017/#date\n",
      "Visiting link:  https://moveit.ai/events/world-moveit-day-2017/#description\n",
      "Visiting link:  https://moveit.ai/events/world-moveit-day-2017/#locations\n",
      "Visiting link:  https://moveit.ai/events/world-moveit-day-2017/#other-participating-organizations\n",
      "Visiting link:  https://moveit.ai/events/world-moveit-day-2017/#organizers\n",
      "Visiting link:  https://moveit.ai/events/world-moveit-day-2017/#signup\n",
      "Visiting link:  https://moveit.ai/events/world-moveit-day-2017/#event-location-details\n",
      "Visiting link:  https://moveit.ai/events/world-moveit-day-2017/#logistics\n",
      "Visiting link:  https://moveit.ai/events/world-moveit-day-2017/#what-version-of-moveit-should-you-use\n",
      "Visiting link:  https://moveit.ai/events/world-moveit-day-2017/#finding-where-you-can-help\n",
      "Visiting link:  https://moveit.ai/events/world-moveit-day-2017/#documentation\n",
      "Visiting link:  https://moveit.ai/events/world-moveit-day-2017/#video-conference-and-irc\n",
      "Visiting link:  https://moveit.ai/events/world-moveit-day-2017/#sponorship\n",
      "Visiting link:  https://moveit.ai/events/world-moveit-day/#time\n",
      "Visiting link:  https://moveit.ai/events/world-moveit-day/#locations\n",
      "Visiting link:  https://moveit.ai/events/world-moveit-day/#other-participating-organizations\n",
      "Visiting link:  https://moveit.ai/events/world-moveit-day/#organizers\n",
      "Visiting link:  https://moveit.ai/events/world-moveit-day/#signup\n",
      "Visiting link:  https://moveit.ai/events/world-moveit-day/#description\n",
      "Visiting link:  https://moveit.ai/events/world-moveit-day/#event-location-details\n",
      "Visiting link:  https://moveit.ai/events/world-moveit-day/#logistics\n",
      "Visiting link:  https://moveit.ai/events/world-moveit-day/#what-version-of-moveit-should-you-use\n",
      "Visiting link:  https://moveit.ai/events/world-moveit-day/#finding-where-you-can-help\n",
      "Visiting link:  https://moveit.ai/events/world-moveit-day/#documentation\n",
      "Visiting link:  https://moveit.ai/events/world-moveit-day/#video-conference-and-irc\n",
      "Visiting link:  https://moveit.ai/events/world-moveit-day/#moveit-integrated-manipulation-simulation\n",
      "Visiting link:  https://moveit.ai/events/world-moveit-day/#discussion\n",
      "Visiting link:  https://moveit.ai/events/world-moveit-day/#sponorship\n"
     ]
    }
   ],
   "source": [
    "# See README for more info on how the DataCollectionPipeline works\n",
    "# The ETL pipeline is part of the DataCollectionPipeline\n",
    "# Remove the time.sleep(1) line if you are sure you won't get blocked from a webpage for requesting too often\n",
    "import requests\n",
    "from bs4 import BeautifulSoup\n",
    "import time\n",
    "import os\n",
    "import shutil\n",
    "import subprocess\n",
    "import tempfile\n",
    "import urllib.parse\n",
    "from shared import getMongoClient\n",
    "\n",
    "# Input into the Data Collection Pipeline is a list of links to domains\n",
    "links = ['https://www.ros.org/','https://docs.nav2.org/','https://moveit.ai/','https://gazebosim.org/home', 'https://github.com/ros2/ros2', 'https://github.com/ros-navigation/navigation2', 'https://github.com/moveit/moveit2', 'https://github.com/gazebosim/gazebo-classic']\n",
    "\n",
    "# Create a mongoDB connection\n",
    "mongoHost =  getMongoClient()\n",
    "mongoDatabase =  mongoHost[\"twin\"]\n",
    "# ETL pipeline\n",
    "# Extract data from links and their subdirectories(using crawlers)\n",
    "codes = []\n",
    "for link in links:\n",
    "    # Web scraper/crawler for github links\n",
    "    if \"https://github.com\" in link:\n",
    "        # Do not revisit a link already in the database\n",
    "        mongoCollection = mongoDatabase[\"Github\"]\n",
    "        result = mongoCollection.find_one({\"link\": {\"$regex\" : link}})\n",
    "        if result is None and link:\n",
    "            print(\"Visiting link: \", link)\n",
    "            # Modified GithubCrawler from LLM-Engineer for scraping github\n",
    "            local_temp = tempfile.mkdtemp()\n",
    "            try:\n",
    "                os.chdir(local_temp)\n",
    "                subprocess.run([\"git\", \"clone\", link])\n",
    "                repo_path = os.path.join(local_temp, os.listdir(local_temp)[0])\n",
    "                tree = {}\n",
    "                for root, _, files in os.walk(repo_path):\n",
    "                    dir = root.replace(repo_path, \"\").lstrip(\"/\")\n",
    "                    if dir.startswith((\".git\", \".toml\", \".lock\", \".png\")):\n",
    "                        continue\n",
    "                    for file in files:\n",
    "                        if file.endswith((\".git\", \".toml\", \".lock\", \".png\")):\n",
    "                            continue\n",
    "                        file_path = os.path.join(dir, file)\n",
    "                        with open(\n",
    "                            os.path.join(root, file), \"r\", errors=\"ignore\"\n",
    "                        ) as f:\n",
    "                            tree[file_path] = f.read().replace(\" \", \"\")\n",
    "            except Exception:\n",
    "                print(f\"Error scrapping {link}\")\n",
    "            finally:\n",
    "                shutil.rmtree(local_temp)\n",
    "                # Correct the link\n",
    "                r = requests.get(link)\n",
    "                soup = BeautifulSoup(r.content, \"html.parser\")\n",
    "                # Find the file path to any of the files in the repository\n",
    "                link_element = soup.find(\"a\", attrs={\"class\": \"Link--primary\"})\n",
    "                path = link_element.get(\"href\")\n",
    "                path = path.rsplit(\"/\", 1)[0]\n",
    "                # Push all the subdirectories to mongo\n",
    "                for subdirectory in tree:\n",
    "                    #print(\n",
    "                    #    f\"Adding subdirectory: https://github.com{path}/{subdirectory}\"\n",
    "                    #)\n",
    "                    text = tree[subdirectory]\n",
    "                    # Transform the data\n",
    "                    # Get rid of repeating \\n characters and spaces\n",
    "                    text = text.replace(\"\\t\", \" \")\n",
    "                    text = text.replace(\"\\n\", \" \")\n",
    "                    text_len = len(text)\n",
    "                    for i in range(text_len):\n",
    "                        while i + 1 < text_len and text[i] == \" \" and text[i + 1] == \" \":\n",
    "                            text = text[:i] + text[i + 1 :]\n",
    "                            text_len -= 1\n",
    "                    codes.append(\n",
    "                        {\n",
    "                            \"link\": \"https://github.com\"\n",
    "                            + path\n",
    "                            + \"/\"\n",
    "                            + subdirectory,\n",
    "                            \"type\": \"Github\",\n",
    "                            \"content\": text,\n",
    "                        }\n",
    "                    )\n",
    "                mongoCollection.insert_many(codes)\n",
    "                codes = []\n",
    "        else:\n",
    "            print(\"Already visited: \", link)\n",
    "    # Web scraper/crawler for other links(Documents)\n",
    "    else:\n",
    "        # Do not revisit a link already in the database\n",
    "        mongoCollection = mongoDatabase[\"Document\"]\n",
    "        result = mongoCollection.find_one({\"link\": link})\n",
    "        if result is None:\n",
    "            print(\"Visiting link: \", link)\n",
    "            try:\n",
    "                # Get all text in the website\n",
    "                r = requests.get(link)\n",
    "                soup = BeautifulSoup(r.content, \"html.parser\")\n",
    "                soup.find_all([\"p\", \"h1\", \"h2\", \"h3\", \"h4\", \"h5\", \"h6\"])\n",
    "                text = soup.get_text()\n",
    "                # Transform the data\n",
    "                # Get rid of repeating \\n characters and spaces\n",
    "                text = text.replace(\"\\t\", \" \")\n",
    "                text = text.replace(\"\\n\", \" \")\n",
    "                text_len = len(text)\n",
    "                for i in range(text_len):\n",
    "                    while i + 1 < text_len and text[i] == \" \" and text[i + 1] == \" \":\n",
    "                        text = text[:i] + text[i + 1 :]\n",
    "                        text_len -= 1\n",
    "                if \"404\" not in text:\n",
    "                    mongoCollection.insert_one({\"link\": link, \"type\": \"Document\", \"content\": text})\n",
    "                else:\n",
    "                    print(\"Page not found: \", link)\n",
    "                # Also crawl through all subdirectorys in the link(related links)\n",
    "                soup = BeautifulSoup(r.content, \"html.parser\")\n",
    "                subdirectories = [a.get(\"href\") for a in soup.find_all(\"a\")]\n",
    "                for subdirectory in subdirectories:\n",
    "                    newLink = urllib.parse.urljoin(link, subdirectory)\n",
    "                    if (\n",
    "                        subdirectory is not None and\n",
    "                        'http' not in subdirectory and\n",
    "                        '#' not in subdirectory and\n",
    "                        mongoCollection.find_one({\"link\": newLink}) is None and\n",
    "                        newLink not in links\n",
    "                    ):\n",
    "                        #print(\"Adding subdirectory: \", link + subdirectory)\n",
    "                        links.append(newLink)\n",
    "            except:\n",
    "                print(\"Could not crawl link\", link)\n",
    "        else:\n",
    "            print(\"Already visited: \", link)\n",
    "    # Avoid spamming sites\n",
    "    time.sleep(0.1)"
   ]
  }
 ],
 "metadata": {
  "kernelspec": {
   "display_name": "Python 3",
   "language": "python",
   "name": "python3"
  },
  "language_info": {
   "codemirror_mode": {
    "name": "ipython",
    "version": 3
   },
   "file_extension": ".py",
   "mimetype": "text/x-python",
   "name": "python",
   "nbconvert_exporter": "python",
   "pygments_lexer": "ipython3",
   "version": "3.12.7"
  }
 },
 "nbformat": 4,
 "nbformat_minor": 2
}
